{
  "nbformat": 4,
  "nbformat_minor": 0,
  "metadata": {
    "colab": {
      "name": "CS194-26 Proj4",
      "provenance": [],
      "collapsed_sections": [
        "xGvd8-h7k_lU"
      ],
      "machine_shape": "hm"
    },
    "kernelspec": {
      "name": "python3",
      "display_name": "Python 3"
    },
    "accelerator": "GPU"
  },
  "cells": [
    {
      "cell_type": "code",
      "metadata": {
        "id": "ie78RUKYXpaP",
        "colab_type": "code",
        "colab": {}
      },
      "source": [
        "import torch\n",
        "import torchvision\n",
        "import torchvision.transforms as transforms\n",
        "import numpy as np\n",
        "import matplotlib.pyplot as plt\n",
        "import skimage as sk\n",
        "import skimage.io as skio\n",
        "import torch.nn as nn\n",
        "import torch.nn.functional as F\n",
        "import torch.optim as optim\n",
        "import time\n",
        "from torch.autograd import Variable\n",
        "from torch.utils.data.sampler import SubsetRandomSampler\n",
        "\n",
        "import seaborn as sns\n",
        "# from torch.utils.tensorboard import SummaryWriter\n",
        "%tensorflow_version 1.x\n",
        "from tensorboardcolab import TensorBoardColab\n",
        "import matplotlib"
      ],
      "execution_count": 0,
      "outputs": []
    },
    {
      "cell_type": "markdown",
      "metadata": {
        "id": "J100VZFPlUWB",
        "colab_type": "text"
      },
      "source": [
        "# Part I: Image Classification\n",
        "We will use the Fasion MNIST dataset available in torchvision.datasets.FashionMNIST for training our model. Fashion MNIST has 10 classes and 60000 train + validation images and 10000 test images."
      ]
    },
    {
      "cell_type": "markdown",
      "metadata": {
        "id": "Ocjx2JMeYuEs",
        "colab_type": "text"
      },
      "source": [
        "## Dataloader:\n",
        "Use the dataloader from torch.utils.data.DataLoader. This tutorial gives an example of how to use a torchvision dataset with the dataloader class. We will cast the problem as a 10 way classification problem. So the labels will be from 0 to 9. To prepare the data for the task use torchvision.transforms.ToTensor to convert uint8 values from 0 to 255, to normalized float values in range 0 to 1. Once you have the dataloader, sample a few images and display them along with their class."
      ]
    },
    {
      "cell_type": "code",
      "metadata": {
        "id": "xSkyUhTQiiwx",
        "colab_type": "code",
        "colab": {}
      },
      "source": [
        "batch_size = 100"
      ],
      "execution_count": 0,
      "outputs": []
    },
    {
      "cell_type": "code",
      "metadata": {
        "id": "RtxxtERoYUm3",
        "colab_type": "code",
        "colab": {}
      },
      "source": [
        "transform = transforms.Compose(\n",
        "    [transforms.ToTensor(),\n",
        "     transforms.Normalize((0.1307,), (0.3081,))])\n",
        "\n",
        "trainset = torchvision.datasets.FashionMNIST(root='./data', train=True,\n",
        "                                        download=True, transform=transform)\n",
        "#trainloader = torch.utils.data.DataLoader(trainset, batch_size=batch_size,\n",
        "#                                          shuffle=True, num_workers=2)\n",
        "testset = torchvision.datasets.FashionMNIST(root='./data', train=False,\n",
        "                                       download=True, transform=transform)\n",
        "#testloader = torch.utils.data.DataLoader(testset, batch_size=batch_size,\n",
        "#                                         shuffle=False, num_workers=2)\n",
        "\n",
        "classes = (0, 1, 2, 3, 4, 5, 6, 7, 8, 9)"
      ],
      "execution_count": 0,
      "outputs": []
    },
    {
      "cell_type": "code",
      "metadata": {
        "id": "hxcOJUzkAMkz",
        "colab_type": "code",
        "colab": {}
      },
      "source": [
        "#Training\n",
        "n_training_samples = 40000\n",
        "train_sampler = SubsetRandomSampler(np.arange(n_training_samples, dtype=np.int64))\n",
        "\n",
        "#Validation\n",
        "n_val_samples = 10000\n",
        "val_sampler = SubsetRandomSampler(np.arange(n_training_samples, n_training_samples + n_val_samples, dtype=np.int64))\n",
        "\n",
        "#Test\n",
        "n_test_samples = 10000\n",
        "test_sampler = SubsetRandomSampler(np.arange(n_test_samples, dtype=np.int64))"
      ],
      "execution_count": 0,
      "outputs": []
    },
    {
      "cell_type": "code",
      "metadata": {
        "id": "am8L-4dm_nc6",
        "colab_type": "code",
        "colab": {}
      },
      "source": [
        "testloader = torch.utils.data.DataLoader(testset, batch_size=1, sampler=test_sampler, num_workers=2)\n",
        "valloader = torch.utils.data.DataLoader(trainset, batch_size=1, sampler=val_sampler, num_workers=2)"
      ],
      "execution_count": 0,
      "outputs": []
    },
    {
      "cell_type": "code",
      "metadata": {
        "id": "WYcyKndyb15D",
        "colab_type": "code",
        "colab": {}
      },
      "source": [
        "def imshow(img):\n",
        "    img = img * 255     # unnormalize\n",
        "    npimg = img.numpy()\n",
        "    plt.imshow(np.transpose(npimg, (1, 2, 0)))\n",
        "    plt.show()"
      ],
      "execution_count": 0,
      "outputs": []
    },
    {
      "cell_type": "code",
      "metadata": {
        "id": "eI6_wJYlb53n",
        "colab_type": "code",
        "outputId": "c5891472-ffc6-420c-b57b-72c8901a1dd3",
        "colab": {
          "base_uri": "https://localhost:8080/",
          "height": 180
        }
      },
      "source": [
        "dataiter = iter(trainloader)\n",
        "images, labels = dataiter.next()"
      ],
      "execution_count": 0,
      "outputs": [
        {
          "output_type": "error",
          "ename": "NameError",
          "evalue": "ignored",
          "traceback": [
            "\u001b[0;31m---------------------------------------------------------------------------\u001b[0m",
            "\u001b[0;31mNameError\u001b[0m                                 Traceback (most recent call last)",
            "\u001b[0;32m<ipython-input-6-840309f5aa1d>\u001b[0m in \u001b[0;36m<module>\u001b[0;34m()\u001b[0m\n\u001b[0;32m----> 1\u001b[0;31m \u001b[0mdataiter\u001b[0m \u001b[0;34m=\u001b[0m \u001b[0miter\u001b[0m\u001b[0;34m(\u001b[0m\u001b[0mtrainloader\u001b[0m\u001b[0;34m)\u001b[0m\u001b[0;34m\u001b[0m\u001b[0;34m\u001b[0m\u001b[0m\n\u001b[0m\u001b[1;32m      2\u001b[0m \u001b[0mimages\u001b[0m\u001b[0;34m,\u001b[0m \u001b[0mlabels\u001b[0m \u001b[0;34m=\u001b[0m \u001b[0mdataiter\u001b[0m\u001b[0;34m.\u001b[0m\u001b[0mnext\u001b[0m\u001b[0;34m(\u001b[0m\u001b[0;34m)\u001b[0m\u001b[0;34m\u001b[0m\u001b[0;34m\u001b[0m\u001b[0m\n",
            "\u001b[0;31mNameError\u001b[0m: name 'trainloader' is not defined"
          ]
        }
      ]
    },
    {
      "cell_type": "code",
      "metadata": {
        "id": "AnqwrUCXcV5i",
        "colab_type": "code",
        "outputId": "3628f2f6-f8a0-401f-eb3b-3d51d199ea6e",
        "colab": {
          "base_uri": "https://localhost:8080/",
          "height": 322
        }
      },
      "source": [
        "# show images\n",
        "imshow(torchvision.utils.make_grid(images))\n",
        "# print labels\n",
        "print(' '.join('%5s' % classes[labels[j]] for j in range(4)))"
      ],
      "execution_count": 0,
      "outputs": [
        {
          "output_type": "stream",
          "text": [
            "Clipping input data to the valid range for imshow with RGB data ([0..1] for floats or [0..255] for integers).\n"
          ],
          "name": "stderr"
        },
        {
          "output_type": "display_data",
          "data": {
            "image/png": "[encoded data removed]",
            "text/plain": [
              "<Figure size 432x288 with 1 Axes>"
            ]
          },
          "metadata": {
            "tags": []
          }
        },
        {
          "output_type": "stream",
          "text": [
            "    8     8     3     7\n"
          ],
          "name": "stdout"
        }
      ]
    },
    {
      "cell_type": "code",
      "metadata": {
        "id": "qQwhazJpdcre",
        "colab_type": "code",
        "outputId": "50e8d52f-caec-441f-eac7-0e68f1f4e4f2",
        "colab": {
          "base_uri": "https://localhost:8080/",
          "height": 35
        }
      },
      "source": [
        "images[1].shape"
      ],
      "execution_count": 0,
      "outputs": [
        {
          "output_type": "execute_result",
          "data": {
            "text/plain": [
              "torch.Size([1, 28, 28])"
            ]
          },
          "metadata": {
            "tags": []
          },
          "execution_count": 44
        }
      ]
    },
    {
      "cell_type": "markdown",
      "metadata": {
        "id": "lS7aLNuVeeWo",
        "colab_type": "text"
      },
      "source": [
        "##CNN:\n",
        "Once you have the data loader, write a convolutional neural network using torch.nn.Module. This tutorial gives an example of how to write a neural network in pytorch. Our CNNs will use a convolutional layer (torch.nn.Conv2d), max pooling layer (torch.nn.MaxPool2d) and Rectilinear Unit as non-linearity (torch.nn.ReLU). The architecture of your neural network should be 2 conv layers, 32 channels each, where each conv layer will be followed by a ReLU followed by a maxpool. This should be followed by 2 fully connected networks. Apply ReLU after the first fc layer (but not after the last fully connected layer). You should play around with different kinds of non linearities and differetn number of channels to improve your result."
      ]
    },
    {
      "cell_type": "code",
      "metadata": {
        "id": "2Yg0VOBoeKp4",
        "colab_type": "code",
        "colab": {}
      },
      "source": [
        "class Net(nn.Module):\n",
        "\n",
        "    def __init__(self):\n",
        "        super(Net, self).__init__()\n",
        "        # kernel\n",
        "        self.conv1 = nn.Conv2d(1, 32, kernel_size=5, stride=1, padding=2)\n",
        "        self.conv2 = nn.Conv2d(32, 64, kernel_size=5, stride=1, padding=2)\n",
        "        # an affine operation: y = Wx + b\n",
        "        self.fc1 = nn.Linear(7 * 7 * 64, 1000)  # 6*6 from image dimension\n",
        "        self.fc2 = nn.Linear(1000, 10)\n",
        "\n",
        "    def forward(self, x):\n",
        "        # Max pooling over a (2, 2) window\n",
        "        x = F.max_pool2d(F.relu(self.conv1(x)), (2, 2))\n",
        "        # If the size is a square you can only specify a single number\n",
        "        x = F.max_pool2d(F.relu(self.conv2(x)), (2, 2))\n",
        "        x = x.view(-1, self.num_flat_features(x))\n",
        "        x = F.relu(self.fc1(x))\n",
        "        x = self.fc2(x)\n",
        "        return x\n",
        "\n",
        "    def num_flat_features(self, x):\n",
        "        size = x.size()[1:]  # all dimensions except the batch dimension\n",
        "        num_features = 1\n",
        "        for s in size:\n",
        "            num_features *= s\n",
        "        return num_features"
      ],
      "execution_count": 0,
      "outputs": []
    },
    {
      "cell_type": "code",
      "metadata": {
        "id": "o0L6hBCH-K8i",
        "colab_type": "code",
        "colab": {}
      },
      "source": [
        "# https://towardsdatascience.com/visualizing-convolution-neural-networks-using-pytorch-3dfa8443e74e\n",
        "def plot_filters_single_channel_big(t):\n",
        "    \n",
        "    #setting the rows and columns\n",
        "    nrows = t.shape[0]*t.shape[2]\n",
        "    ncols = t.shape[1]*t.shape[3]\n",
        "    \n",
        "    \n",
        "    npimg = np.array(t.numpy(), np.float32)\n",
        "    npimg = npimg.transpose((0, 2, 1, 3))\n",
        "    npimg = npimg.ravel().reshape(nrows, ncols)\n",
        "    \n",
        "    npimg = npimg.T\n",
        "    \n",
        "    fig, ax = plt.subplots(figsize=(ncols/10, nrows/200))    \n",
        "    imgplot = sns.heatmap(npimg, xticklabels=False, yticklabels=False, cmap='gray', ax=ax, cbar=False)\n",
        "\n",
        "def plot_filters_single_channel(t):\n",
        "    \n",
        "    #kernels depth * number of kernels\n",
        "    nplots = t.shape[0]*t.shape[1]\n",
        "    ncols = 12\n",
        "    \n",
        "    nrows = 1 + nplots//ncols\n",
        "    #convert tensor to numpy image\n",
        "    npimg = np.array(t.numpy(), np.float32)\n",
        "    \n",
        "    count = 0\n",
        "    fig = plt.figure(figsize=(ncols, nrows))\n",
        "    \n",
        "    #looping through all the kernels in each channel\n",
        "    for i in range(t.shape[0]):\n",
        "        for j in range(t.shape[1]):\n",
        "            count += 1\n",
        "            ax1 = fig.add_subplot(nrows, ncols, count)\n",
        "            npimg = np.array(t[i, j].numpy(), np.float32)\n",
        "            npimg = (npimg - np.mean(npimg)) / np.std(npimg)\n",
        "            npimg = np.minimum(1, np.maximum(0, (npimg + 0.5)))\n",
        "            ax1.imshow(npimg)\n",
        "            ax1.set_title(str(i) + ',' + str(j))\n",
        "            ax1.axis('off')\n",
        "            ax1.set_xticklabels([])\n",
        "            ax1.set_yticklabels([])\n",
        "   \n",
        "    plt.tight_layout()\n",
        "    plt.show()\n",
        "\n",
        "def plot_filters_multi_channel(t):\n",
        "    \n",
        "    #get the number of kernals\n",
        "    num_kernels = t.shape[0]    \n",
        "    \n",
        "    #define number of columns for subplots\n",
        "    num_cols = 12\n",
        "    #rows = num of kernels\n",
        "    num_rows = num_kernels\n",
        "    \n",
        "    #set the figure size\n",
        "    fig = plt.figure(figsize=(num_cols,num_rows))\n",
        "    \n",
        "    #looping through all the kernels\n",
        "    for i in range(t.shape[0]):\n",
        "        ax1 = fig.add_subplot(num_rows,num_cols,i+1)\n",
        "        \n",
        "        #for each kernel, we convert the tensor to numpy \n",
        "        npimg = np.array(t[i].numpy(), np.float32)\n",
        "        #standardize the numpy image\n",
        "        npimg = (npimg - np.mean(npimg)) / np.std(npimg)\n",
        "        npimg = np.minimum(1, np.maximum(0, (npimg + 0.5)))\n",
        "        npimg = npimg.transpose((1, 2, 0))\n",
        "        ax1.imshow(npimg)\n",
        "        ax1.axis('off')\n",
        "        ax1.set_title(str(i))\n",
        "        ax1.set_xticklabels([])\n",
        "        ax1.set_yticklabels([])\n",
        "        \n",
        "    plt.savefig('myimage.png', dpi=100)    \n",
        "    plt.tight_layout()\n",
        "    plt.show()\n",
        "\n",
        "def plot_weights(model, layer_num, single_channel = True, collated = False):\n",
        "  \n",
        "  #extracting the model features at the particular layer number\n",
        "  layer = model.features[layer_num]\n",
        "  \n",
        "  #checking whether the layer is convolution layer or not \n",
        "  if isinstance(layer, nn.Conv2d):\n",
        "    #getting the weight tensor data\n",
        "    weight_tensor = model.features[layer_num].weight.data\n",
        "    \n",
        "    if single_channel:\n",
        "      if collated:\n",
        "        plot_filters_single_channel_big(weight_tensor)\n",
        "      else:\n",
        "        plot_filters_single_channel(weight_tensor)\n",
        "        \n",
        "    else:\n",
        "      if weight_tensor.shape[1] == 3:\n",
        "        plot_filters_multi_channel(weight_tensor)\n",
        "      else:\n",
        "        print(\"Can only plot weights with three channels with single channel = False\")\n",
        "        \n",
        "  else:\n",
        "    print(\"Can only visualize layers which are convolutional\")"
      ],
      "execution_count": 0,
      "outputs": []
    },
    {
      "cell_type": "markdown",
      "metadata": {
        "id": "CbYAKpV_-fIG",
        "colab_type": "text"
      },
      "source": [
        "## Loss Function and Optimizer: \n",
        "Now that you have the predictor (CNN) and the dataloader, you need to define the loss function and the optimizer to start training your CNN. You will use cross entropy loss (torch.nn.CrossEntropyLoss) as the prediction loss. Train your neural network using Adam using a learning rate of 0.01 (torch.optim.Adam). Run the training loop Until convergence. Try different optimizers, different learning rates and different values of weight decay (which is the same a L2 regularization)."
      ]
    },
    {
      "cell_type": "code",
      "metadata": {
        "id": "t9CqTLaE_3Ah",
        "colab_type": "code",
        "colab": {}
      },
      "source": [
        "net = Net()"
      ],
      "execution_count": 0,
      "outputs": []
    },
    {
      "cell_type": "code",
      "metadata": {
        "id": "C9MCXWAmirA2",
        "colab_type": "code",
        "colab": {}
      },
      "source": [
        "num_epochs = 8\n",
        "num_classes = 10\n",
        "learning_rate = 0.0009"
      ],
      "execution_count": 0,
      "outputs": []
    },
    {
      "cell_type": "code",
      "metadata": {
        "id": "j3AEA0uw-ZWj",
        "colab_type": "code",
        "colab": {}
      },
      "source": [
        "#Loss function\n",
        "loss_fn = torch.nn.CrossEntropyLoss()\n",
        "\n",
        "#Optimizer\n",
        "optimizer = optim.Adam(net.parameters(), lr=learning_rate)"
      ],
      "execution_count": 0,
      "outputs": []
    },
    {
      "cell_type": "code",
      "metadata": {
        "id": "dPsB2AkVEaWE",
        "colab_type": "code",
        "colab": {}
      },
      "source": [
        "trainloader = torch.utils.data.DataLoader(trainset, batch_size=batch_size,\n",
        "                                           sampler=train_sampler, num_workers=2)"
      ],
      "execution_count": 0,
      "outputs": []
    },
    {
      "cell_type": "code",
      "metadata": {
        "id": "uAKLBmnV2i-V",
        "colab_type": "code",
        "colab": {}
      },
      "source": [
        "#tb = TensorBoardColab()"
      ],
      "execution_count": 0,
      "outputs": []
    },
    {
      "cell_type": "code",
      "metadata": {
        "id": "JksqzOEt-owP",
        "colab_type": "code",
        "outputId": "25153f35-9fb5-4ced-be1b-dceea8e935f4",
        "colab": {
          "base_uri": "https://localhost:8080/",
          "height": 692
        }
      },
      "source": [
        "# Train the model\n",
        "total_step = len(trainloader)\n",
        "loss_list = []\n",
        "acc_list = []\n",
        "acc_i = []\n",
        "val_acc_list = []\n",
        "val_i = []\n",
        "out = []\n",
        "for epoch in range(num_epochs):\n",
        "    correct_sum = 0\n",
        "    total_sum = 0\n",
        "    for i, (images, labels) in enumerate(trainloader):\n",
        "        # Run the forward pass\n",
        "        outputs = net(images)\n",
        "        loss = loss_fn(outputs, labels)\n",
        "        loss_list.append(loss.item())\n",
        "\n",
        "        # Backprop and perform Adam optimisation\n",
        "        optimizer.zero_grad()\n",
        "        loss.backward()\n",
        "        optimizer.step()\n",
        "\n",
        "        # Track the accuracy\n",
        "        total = labels.size(0)\n",
        "        _, predicted = torch.max(outputs.data, 1)\n",
        "        correct = (predicted == labels).sum().item()\n",
        "        total_sum += total \n",
        "        correct_sum += correct\n",
        "\n",
        "        if (i + 1) % 100 == 0:\n",
        "            print('Epoch [{}/{}], Step [{}/{}], Loss: {:.4f}, Accuracy: {:.2f}%'\n",
        "                  .format(epoch + 1, num_epochs, i + 1, total_step, loss.item(),\n",
        "                          (correct / total) * 100))\n",
        "        #tb.save_value('Train Accuracy over Epochs', 'train accuracy', i, correct / total)\n",
        "    acc_list.append(correct_sum / total_sum)\n",
        "    net.eval()\n",
        "    with torch.no_grad():\n",
        "        correct = 0\n",
        "        total = 0\n",
        "        i = 0\n",
        "        for images, labels in valloader:\n",
        "            outputs = net(images)\n",
        "            _, predicted = torch.max(outputs.data, 1)\n",
        "            total += labels.size(0)\n",
        "            correct += (predicted == labels).sum().item()\n",
        "            i += 1\n",
        "            if epoch == 1:\n",
        "              out.append([images, predicted, labels])\n",
        "        #tb.save_value('Val Accuracy over Epochs', 'val accuracy', i, correct / total)\n",
        "        val_acc_list.append(correct / total)\n",
        "        print('Validation Accuracy of the model on the 10000 test images: {} %'.format((correct / total) * 100))\n"
      ],
      "execution_count": 0,
      "outputs": [
        {
          "output_type": "stream",
          "text": [
            "Epoch [1/8], Step [100/400], Loss: 0.4090, Accuracy: 85.00%\n",
            "Epoch [1/8], Step [200/400], Loss: 0.3722, Accuracy: 85.00%\n",
            "Epoch [1/8], Step [300/400], Loss: 0.3583, Accuracy: 89.00%\n",
            "Epoch [1/8], Step [400/400], Loss: 0.3144, Accuracy: 86.00%\n",
            "Validation Accuracy of the model on the 10000 test images: 88.44 %\n",
            "Epoch [2/8], Step [100/400], Loss: 0.3600, Accuracy: 86.00%\n",
            "Epoch [2/8], Step [200/400], Loss: 0.2357, Accuracy: 93.00%\n",
            "Epoch [2/8], Step [300/400], Loss: 0.3220, Accuracy: 89.00%\n",
            "Epoch [2/8], Step [400/400], Loss: 0.2425, Accuracy: 94.00%\n",
            "Validation Accuracy of the model on the 10000 test images: 88.79 %\n",
            "Epoch [3/8], Step [100/400], Loss: 0.2865, Accuracy: 90.00%\n",
            "Epoch [3/8], Step [200/400], Loss: 0.2666, Accuracy: 90.00%\n",
            "Epoch [3/8], Step [300/400], Loss: 0.2088, Accuracy: 91.00%\n",
            "Epoch [3/8], Step [400/400], Loss: 0.2233, Accuracy: 90.00%\n",
            "Validation Accuracy of the model on the 10000 test images: 91.0 %\n",
            "Epoch [4/8], Step [100/400], Loss: 0.1062, Accuracy: 94.00%\n",
            "Epoch [4/8], Step [200/400], Loss: 0.1590, Accuracy: 92.00%\n",
            "Epoch [4/8], Step [300/400], Loss: 0.0868, Accuracy: 97.00%\n",
            "Epoch [4/8], Step [400/400], Loss: 0.1404, Accuracy: 96.00%\n",
            "Validation Accuracy of the model on the 10000 test images: 91.88 %\n",
            "Epoch [5/8], Step [100/400], Loss: 0.1804, Accuracy: 95.00%\n",
            "Epoch [5/8], Step [200/400], Loss: 0.2001, Accuracy: 94.00%\n",
            "Epoch [5/8], Step [300/400], Loss: 0.0714, Accuracy: 98.00%\n",
            "Epoch [5/8], Step [400/400], Loss: 0.2097, Accuracy: 91.00%\n",
            "Validation Accuracy of the model on the 10000 test images: 91.97 %\n",
            "Epoch [6/8], Step [100/400], Loss: 0.1192, Accuracy: 96.00%\n",
            "Epoch [6/8], Step [200/400], Loss: 0.0838, Accuracy: 98.00%\n",
            "Epoch [6/8], Step [300/400], Loss: 0.0973, Accuracy: 97.00%\n",
            "Epoch [6/8], Step [400/400], Loss: 0.0822, Accuracy: 98.00%\n",
            "Validation Accuracy of the model on the 10000 test images: 91.84 %\n",
            "Epoch [7/8], Step [100/400], Loss: 0.0963, Accuracy: 96.00%\n",
            "Epoch [7/8], Step [200/400], Loss: 0.0852, Accuracy: 96.00%\n",
            "Epoch [7/8], Step [300/400], Loss: 0.1844, Accuracy: 97.00%\n",
            "Epoch [7/8], Step [400/400], Loss: 0.0782, Accuracy: 99.00%\n",
            "Validation Accuracy of the model on the 10000 test images: 92.01 %\n",
            "Epoch [8/8], Step [100/400], Loss: 0.0369, Accuracy: 99.00%\n",
            "Epoch [8/8], Step [200/400], Loss: 0.0631, Accuracy: 98.00%\n",
            "Epoch [8/8], Step [300/400], Loss: 0.1391, Accuracy: 97.00%\n",
            "Epoch [8/8], Step [400/400], Loss: 0.0657, Accuracy: 98.00%\n",
            "Validation Accuracy of the model on the 10000 test images: 91.73 %\n"
          ],
          "name": "stdout"
        }
      ]
    },
    {
      "cell_type": "code",
      "metadata": {
        "id": "Qo_IIfJbIHr0",
        "colab_type": "code",
        "colab": {}
      },
      "source": [
        "torch.save(net.state_dict(), './models/model_{}.pth'.format(\"classification_net\"))"
      ],
      "execution_count": 0,
      "outputs": []
    },
    {
      "cell_type": "code",
      "metadata": {
        "id": "BKf0FME4-aZN",
        "colab_type": "code",
        "outputId": "08bd7cc6-b821-4d27-89b4-639332dbf82f",
        "colab": {
          "base_uri": "https://localhost:8080/",
          "height": 34
        }
      },
      "source": [
        "# Test the model\n",
        "net.eval()\n",
        "images_arr = []\n",
        "pred_arr = []\n",
        "actual_arr = []\n",
        "with torch.no_grad():\n",
        "    correct = 0\n",
        "    total = 0\n",
        "    i = 0\n",
        "    for images, labels in testloader:\n",
        "        outputs = net(images)\n",
        "        \n",
        "        _, predicted = torch.max(outputs.data, 1)\n",
        "        total += labels.size(0)\n",
        "        correct += (predicted == labels).sum().item()\n",
        "        images_arr.append(images)\n",
        "        pred_arr.append(predicted)\n",
        "        actual_arr.append(labels)\n",
        "        #tb.save('Test Accuracy over Epochs', 'test accuracy', i, correct / total)\n",
        "        i += 1\n",
        "\n",
        "    print('Test Accuracy of the model on the 10000 test images: {} %'.format((correct / total) * 100))\n",
        "\n",
        "# Save the model and plot\n",
        "#torch.save(model.state_dict(), MODEL_STORE_PATH + 'conv_net_model.ckpt')"
      ],
      "execution_count": 0,
      "outputs": [
        {
          "output_type": "stream",
          "text": [
            "Test Accuracy of the model on the 10000 test images: 90.58 %\n"
          ],
          "name": "stdout"
        }
      ]
    },
    {
      "cell_type": "code",
      "metadata": {
        "id": "Qpud16d-HLjP",
        "colab_type": "code",
        "outputId": "ac1de260-6a55-4f5e-a83e-32882fc5770a",
        "colab": {
          "base_uri": "https://localhost:8080/",
          "height": 847
        }
      },
      "source": [
        "# https://discuss.pytorch.org/t/how-to-check-and-read-confusion-matrix/41835/5\n",
        "nb_classes = 10\n",
        "device = torch.device(\"cuda:0\" if torch.cuda.is_available() else \"cpu\")\n",
        "confusion_matrix_val = torch.zeros(nb_classes, nb_classes)\n",
        "val_a = np.zeros(10)\n",
        "test_a = np.zeros(10)\n",
        "with torch.no_grad():\n",
        "    for i, (inputs, classes) in enumerate(valloader):\n",
        "        #inputs = inputs.to(device)\n",
        "        #classes = classes.to(device)\n",
        "        outputs = net(inputs)\n",
        "        _, preds = torch.max(outputs, 1)\n",
        "        for t, p in zip(classes.view(-1), preds.view(-1)):\n",
        "                val_a[t.int()] += 1\n",
        "                confusion_matrix_val[t.long(), p.long()] += 1\n",
        "\n",
        "print(confusion_matrix_val)\n",
        "nb_classes = 10\n",
        "\n",
        "confusion_matrix_test = torch.zeros(nb_classes, nb_classes)\n",
        "with torch.no_grad():\n",
        "    for i, (inputs, classes) in enumerate(testloader):\n",
        "        #inputs = inputs.to(device)\n",
        "        #classes = classes.to(device)\n",
        "        outputs = net(inputs)\n",
        "        _, preds = torch.max(outputs, 1)\n",
        "        for t, p in zip(classes.view(-1), preds.view(-1)):\n",
        "                test_a[t.int()] += 1\n",
        "                confusion_matrix_test[t.long(), p.long()] += 1\n",
        "\n",
        "print(confusion_matrix_test)"
      ],
      "execution_count": 0,
      "outputs": [
        {
          "output_type": "stream",
          "text": [
            "Exception ignored in: <bound method _MultiProcessingDataLoaderIter.__del__ of <torch.utils.data.dataloader._MultiProcessingDataLoaderIter object at 0x7f46c609d908>>\n",
            "Exception ignored in: <bound method _MultiProcessingDataLoaderIter.__del__ of <torch.utils.data.dataloader._MultiProcessingDataLoaderIter object at 0x7f46c609d908>>\n",
            "Traceback (most recent call last):\n",
            "  File \"/usr/local/lib/python3.6/dist-packages/torch/utils/data/dataloader.py\", line 961, in __del__\n",
            "    self._shutdown_workers()\n",
            "Traceback (most recent call last):\n",
            "  File \"/usr/local/lib/python3.6/dist-packages/torch/utils/data/dataloader.py\", line 941, in _shutdown_workers\n",
            "  File \"/usr/local/lib/python3.6/dist-packages/torch/utils/data/dataloader.py\", line 961, in __del__\n",
            "    w.join()\n",
            "  File \"/usr/lib/python3.6/multiprocessing/process.py\", line 122, in join\n",
            "    assert self._parent_pid == os.getpid(), 'can only join a child process'\n",
            "AssertionError: can only join a child process\n",
            "    self._shutdown_workers()\n",
            "  File \"/usr/local/lib/python3.6/dist-packages/torch/utils/data/dataloader.py\", line 941, in _shutdown_workers\n",
            "    w.join()\n",
            "  File \"/usr/lib/python3.6/multiprocessing/process.py\", line 122, in join\n",
            "    assert self._parent_pid == os.getpid(), 'can only join a child process'\n",
            "AssertionError: can only join a child process\n"
          ],
          "name": "stderr"
        },
        {
          "output_type": "stream",
          "text": [
            "tensor([[8.4700e+02, 1.0000e+00, 1.9000e+01, 1.9000e+01, 0.0000e+00, 0.0000e+00,\n",
            "         1.0500e+02, 0.0000e+00, 5.0000e+00, 0.0000e+00],\n",
            "        [1.0000e+00, 1.0030e+03, 0.0000e+00, 1.1000e+01, 1.0000e+00, 0.0000e+00,\n",
            "         0.0000e+00, 0.0000e+00, 0.0000e+00, 0.0000e+00],\n",
            "        [1.2000e+01, 0.0000e+00, 9.2800e+02, 1.7000e+01, 1.6000e+01, 0.0000e+00,\n",
            "         8.4000e+01, 0.0000e+00, 0.0000e+00, 0.0000e+00],\n",
            "        [1.1000e+01, 6.0000e+00, 3.0000e+00, 9.0800e+02, 1.0000e+01, 0.0000e+00,\n",
            "         1.8000e+01, 0.0000e+00, 1.0000e+00, 0.0000e+00],\n",
            "        [0.0000e+00, 1.0000e+00, 8.5000e+01, 2.4000e+01, 7.6500e+02, 1.0000e+00,\n",
            "         1.1700e+02, 0.0000e+00, 0.0000e+00, 0.0000e+00],\n",
            "        [0.0000e+00, 0.0000e+00, 0.0000e+00, 0.0000e+00, 0.0000e+00, 9.7000e+02,\n",
            "         0.0000e+00, 7.0000e+00, 0.0000e+00, 1.0000e+01],\n",
            "        [6.5000e+01, 1.0000e+00, 5.4000e+01, 1.9000e+01, 1.1000e+01, 0.0000e+00,\n",
            "         8.1100e+02, 0.0000e+00, 3.0000e+00, 0.0000e+00],\n",
            "        [1.0000e+00, 0.0000e+00, 0.0000e+00, 0.0000e+00, 0.0000e+00, 1.9000e+01,\n",
            "         0.0000e+00, 9.6200e+02, 0.0000e+00, 2.1000e+01],\n",
            "        [1.0000e+00, 0.0000e+00, 4.0000e+00, 3.0000e+00, 0.0000e+00, 1.0000e+00,\n",
            "         7.0000e+00, 1.0000e+00, 1.0140e+03, 1.0000e+00],\n",
            "        [0.0000e+00, 0.0000e+00, 0.0000e+00, 0.0000e+00, 0.0000e+00, 3.0000e+00,\n",
            "         0.0000e+00, 2.7000e+01, 0.0000e+00, 9.6500e+02]])\n",
            "tensor([[828.,   1.,  16.,  10.,   0.,   2., 134.,   0.,   9.,   0.],\n",
            "        [  2., 985.,   0.,   9.,   1.,   0.,   1.,   0.,   2.,   0.],\n",
            "        [ 11.,   1., 875.,   8.,  19.,   1.,  85.,   0.,   0.,   0.],\n",
            "        [ 15.,   3.,  11., 926.,   7.,   0.,  35.,   0.,   3.,   0.],\n",
            "        [  1.,   0., 103.,  38., 721.,   0., 137.,   0.,   0.,   0.],\n",
            "        [  1.,   0.,   0.,   0.,   0., 984.,   0.,   6.,   0.,   9.],\n",
            "        [ 70.,   0.,  52.,  21.,  25.,   0., 829.,   0.,   3.,   0.],\n",
            "        [  0.,   0.,   0.,   0.,   0.,  16.,   0., 970.,   0.,  14.],\n",
            "        [  4.,   1.,   2.,   3.,   1.,   4.,   7.,   1., 977.,   0.],\n",
            "        [  0.,   0.,   0.,   0.,   0.,   6.,   1.,  30.,   0., 963.]])\n"
          ],
          "name": "stdout"
        }
      ]
    },
    {
      "cell_type": "code",
      "metadata": {
        "id": "hqdLS7HKUl2k",
        "colab_type": "code",
        "outputId": "51262454-1504-4dea-cab1-1eeb395d9f7e",
        "colab": {
          "base_uri": "https://localhost:8080/",
          "height": 84
        }
      },
      "source": [
        "val_a, test_a"
      ],
      "execution_count": 0,
      "outputs": [
        {
          "output_type": "execute_result",
          "data": {
            "text/plain": [
              "(array([ 996., 1016., 1057.,  957.,  993.,  987.,  964., 1003., 1032.,\n",
              "         995.]),\n",
              " array([1000., 1000., 1000., 1000., 1000., 1000., 1000., 1000., 1000.,\n",
              "        1000.]))"
            ]
          },
          "metadata": {
            "tags": []
          },
          "execution_count": 66
        }
      ]
    },
    {
      "cell_type": "code",
      "metadata": {
        "id": "3uukp-8vUwc0",
        "colab_type": "code",
        "outputId": "57c661e0-4160-48b2-ef03-bb53f1876671",
        "colab": {
          "base_uri": "https://localhost:8080/",
          "height": 202
        }
      },
      "source": [
        "[847/996, 1003/1016, 928/1057, 908/957, 765/993, 970/987, 811/964, 962/1003, 1014/1032, 965/995], [828/1000, .985, .875, .926, .721, .984, .829, .970, .977, .963]"
      ],
      "execution_count": 0,
      "outputs": [
        {
          "output_type": "execute_result",
          "data": {
            "text/plain": [
              "([0.8504016064257028,\n",
              "  0.9872047244094488,\n",
              "  0.8779564806054873,\n",
              "  0.9487983281086729,\n",
              "  0.770392749244713,\n",
              "  0.9827760891590679,\n",
              "  0.8412863070539419,\n",
              "  0.959122632103689,\n",
              "  0.9825581395348837,\n",
              "  0.9698492462311558],\n",
              " [0.828, 0.985, 0.875, 0.926, 0.721, 0.984, 0.829, 0.97, 0.977, 0.963])"
            ]
          },
          "metadata": {
            "tags": []
          },
          "execution_count": 67
        }
      ]
    },
    {
      "cell_type": "code",
      "metadata": {
        "id": "IhodvK2sPeDS",
        "colab_type": "code",
        "colab": {}
      },
      "source": [
        "# https://matplotlib.org/3.1.1/gallery/images_contours_and_fields/image_annotated_heatmap.html\n",
        "def heatmap(data, row_labels, col_labels, ax=None,\n",
        "            cbar_kw={}, cbarlabel=\"\", **kwargs):\n",
        "    \"\"\"\n",
        "    Create a heatmap from a numpy array and two lists of labels.\n",
        "\n",
        "    Parameters\n",
        "    ----------\n",
        "    data\n",
        "        A 2D numpy array of shape (N, M).\n",
        "    row_labels\n",
        "        A list or array of length N with the labels for the rows.\n",
        "    col_labels\n",
        "        A list or array of length M with the labels for the columns.\n",
        "    ax\n",
        "        A `matplotlib.axes.Axes` instance to which the heatmap is plotted.  If\n",
        "        not provided, use current axes or create a new one.  Optional.\n",
        "    cbar_kw\n",
        "        A dictionary with arguments to `matplotlib.Figure.colorbar`.  Optional.\n",
        "    cbarlabel\n",
        "        The label for the colorbar.  Optional.\n",
        "    **kwargs\n",
        "        All other arguments are forwarded to `imshow`.\n",
        "    \"\"\"\n",
        "\n",
        "    if not ax:\n",
        "        ax = plt.gca()\n",
        "\n",
        "    # Plot the heatmap\n",
        "    im = ax.imshow(data, **kwargs)\n",
        "\n",
        "    # Create colorbar\n",
        "    cbar = ax.figure.colorbar(im, ax=ax, **cbar_kw)\n",
        "    cbar.ax.set_ylabel(cbarlabel, rotation=-90, va=\"bottom\")\n",
        "\n",
        "    # We want to show all ticks...\n",
        "    ax.set_xticks(np.arange(data.shape[1]))\n",
        "    ax.set_yticks(np.arange(data.shape[0]))\n",
        "    # ... and label them with the respective list entries.\n",
        "    ax.set_xticklabels(col_labels)\n",
        "    ax.set_yticklabels(row_labels)\n",
        "\n",
        "    # Let the horizontal axes labeling appear on top.\n",
        "    ax.tick_params(top=True, bottom=False,\n",
        "                   labeltop=True, labelbottom=False)\n",
        "\n",
        "    # Rotate the tick labels and set their alignment.\n",
        "    plt.setp(ax.get_xticklabels(), rotation=-30, ha=\"right\",\n",
        "             rotation_mode=\"anchor\")\n",
        "\n",
        "    # Turn spines off and create white grid.\n",
        "    for edge, spine in ax.spines.items():\n",
        "        spine.set_visible(False)\n",
        "\n",
        "    ax.set_xticks(np.arange(data.shape[1]+1)-.5, minor=True)\n",
        "    ax.set_yticks(np.arange(data.shape[0]+1)-.5, minor=True)\n",
        "    ax.grid(which=\"minor\", color=\"w\", linestyle='-', linewidth=3)\n",
        "    ax.tick_params(which=\"minor\", bottom=False, left=False)\n",
        "\n",
        "    return im, cbar\n",
        "\n",
        "\n",
        "def annotate_heatmap(im, data=None, valfmt=\"{x:.2f}\",\n",
        "                     textcolors=[\"black\", \"white\"],\n",
        "                     threshold=None, **textkw):\n",
        "    \"\"\"\n",
        "    A function to annotate a heatmap.\n",
        "\n",
        "    Parameters\n",
        "    ----------\n",
        "    im\n",
        "        The AxesImage to be labeled.\n",
        "    data\n",
        "        Data used to annotate.  If None, the image's data is used.  Optional.\n",
        "    valfmt\n",
        "        The format of the annotations inside the heatmap.  This should either\n",
        "        use the string format method, e.g. \"$ {x:.2f}\", or be a\n",
        "        `matplotlib.ticker.Formatter`.  Optional.\n",
        "    textcolors\n",
        "        A list or array of two color specifications.  The first is used for\n",
        "        values below a threshold, the second for those above.  Optional.\n",
        "    threshold\n",
        "        Value in data units according to which the colors from textcolors are\n",
        "        applied.  If None (the default) uses the middle of the colormap as\n",
        "        separation.  Optional.\n",
        "    **kwargs\n",
        "        All other arguments are forwarded to each call to `text` used to create\n",
        "        the text labels.\n",
        "    \"\"\"\n",
        "\n",
        "    if not isinstance(data, (list, np.ndarray)):\n",
        "        data = im.get_array()\n",
        "\n",
        "    # Normalize the threshold to the images color range.\n",
        "    if threshold is not None:\n",
        "        threshold = im.norm(threshold)\n",
        "    else:\n",
        "        threshold = im.norm(data.max())/2.\n",
        "\n",
        "    # Set default alignment to center, but allow it to be\n",
        "    # overwritten by textkw.\n",
        "    kw = dict(horizontalalignment=\"center\",\n",
        "              verticalalignment=\"center\")\n",
        "    kw.update(textkw)\n",
        "\n",
        "    # Get the formatter in case a string is supplied\n",
        "    if isinstance(valfmt, str):\n",
        "        valfmt = matplotlib.ticker.StrMethodFormatter(valfmt)\n",
        "\n",
        "    # Loop over the data and create a `Text` for each \"pixel\".\n",
        "    # Change the text's color depending on the data.\n",
        "    texts = []\n",
        "    for i in range(data.shape[0]):\n",
        "        for j in range(data.shape[1]):\n",
        "            kw.update(color=textcolors[int(im.norm(data[i, j]) > threshold)])\n",
        "            text = im.axes.text(j, i, data[i, j], **kw)\n",
        "            texts.append(text)\n",
        "\n",
        "    return texts"
      ],
      "execution_count": 0,
      "outputs": []
    },
    {
      "cell_type": "code",
      "metadata": {
        "id": "2Y_AkdfdPop4",
        "colab_type": "code",
        "outputId": "eeea1152-cad6-43e5-e7f0-c89c6adb9e12",
        "colab": {
          "base_uri": "https://localhost:8080/",
          "height": 590
        }
      },
      "source": [
        "fig, ax = plt.subplots(figsize=(10, 10))\n",
        "vegetables = [\"T-shirt/top\",\n",
        "\"Trouser\",\n",
        "\"Pullover\",\n",
        "\"Dress\",\n",
        "\"Coat\",\n",
        "\"Sandal\",\n",
        "\"Shirt\",\n",
        "\"Sneaker\",\n",
        "\"Bag\",\n",
        "\"Ankle boot\"]\n",
        "farmers = vegetables\n",
        "im, cbar = heatmap(confusion_matrix_val.numpy().astype(int), vegetables, farmers, ax=ax,\n",
        "                   cmap=\"YlGn\", cbarlabel=\"Number Predicted Correctly\")\n",
        "texts = annotate_heatmap(im, valfmt=\"{x:.1f} t\")\n",
        "plt.title(\"Per Class Accuracy On Validation Data\")\n",
        "\n",
        "# fig.tight_layout()\n",
        "plt.show()"
      ],
      "execution_count": 0,
      "outputs": [
        {
          "output_type": "display_data",
          "data": {
            "image/png": "[encoded data removed]",
            "text/plain": [
              "<Figure size 720x720 with 2 Axes>"
            ]
          },
          "metadata": {
            "tags": []
          }
        }
      ]
    },
    {
      "cell_type": "code",
      "metadata": {
        "id": "OGZod3kHOxcF",
        "colab_type": "code",
        "outputId": "522c87f0-e5bd-414a-85e7-d636057d20db",
        "colab": {
          "base_uri": "https://localhost:8080/",
          "height": 513
        }
      },
      "source": [
        "plt.imshow(confusion_matrix_test.numpy(), cmap='hot', interpolation='nearest')\n",
        "plt.show()\n",
        "plt.imshow(confusion_matrix_val.numpy(), cmap='hot', interpolation='nearest')\n",
        "plt.show()"
      ],
      "execution_count": 0,
      "outputs": [
        {
          "output_type": "display_data",
          "data": {
            "image/png": "[encoded data removed]",
            "text/plain": [
              "<Figure size 432x288 with 1 Axes>"
            ]
          },
          "metadata": {
            "tags": []
          }
        },
        {
          "output_type": "display_data",
          "data": {
            "image/png": "[encoded data removed]",
            "text/plain": [
              "<Figure size 432x288 with 1 Axes>"
            ]
          },
          "metadata": {
            "tags": []
          }
        }
      ]
    },
    {
      "cell_type": "code",
      "metadata": {
        "id": "9ctjBms116Ur",
        "colab_type": "code",
        "outputId": "b342d097-3f47-48ee-fe3d-e03d503760a8",
        "colab": {
          "base_uri": "https://localhost:8080/",
          "height": 312
        }
      },
      "source": [
        "# plt.plot(val_acc_list, np.arange(8))\n",
        "# plt.plot(acc_list, np.arange(0, 8, .25))\n",
        "plt.plot(np.arange(8), acc_list, label=\"training accuracy\")\n",
        "plt.plot(np.arange(8), val_acc_list, label=\"validation accuracy\")\n",
        "plt.title(\"Accuracy Over Epochs\")\n",
        "plt.xlabel(\"Epoch\")\n",
        "plt.ylabel(\"Accuracy\")\n",
        "plt.legend()"
      ],
      "execution_count": 0,
      "outputs": [
        {
          "output_type": "execute_result",
          "data": {
            "text/plain": [
              "<matplotlib.legend.Legend at 0x7f46c8b505c0>"
            ]
          },
          "metadata": {
            "tags": []
          },
          "execution_count": 40
        },
        {
          "output_type": "display_data",
          "data": {
            "image/png": "[encoded data removed]",
            "text/plain": [
              "<Figure size 432x288 with 1 Axes>"
            ]
          },
          "metadata": {
            "tags": []
          }
        }
      ]
    },
    {
      "cell_type": "code",
      "metadata": {
        "id": "Es8TcnwpX5sp",
        "colab_type": "code",
        "outputId": "b0e44fc7-62c4-42ec-a1bb-007d8535509b",
        "colab": {
          "base_uri": "https://localhost:8080/",
          "height": 1000
        }
      },
      "source": [
        "out[0]"
      ],
      "execution_count": 0,
      "outputs": [
        {
          "output_type": "execute_result",
          "data": {
            "text/plain": [
              "[tensor([[[[-0.4242, -0.4242, -0.4242, -0.4242, -0.4242, -0.4242, -0.4242,\n",
              "            -0.4242, -0.4242, -0.4242, -0.4242, -0.3478, -0.4242,  0.0976,\n",
              "             2.0578,  1.8923,  0.2249, -0.4242, -0.3860, -0.4242, -0.4242,\n",
              "            -0.4115, -0.4242, -0.4242, -0.4242, -0.4242, -0.4242, -0.4242],\n",
              "           [-0.4242, -0.4242, -0.4242, -0.4242, -0.4242, -0.4242, -0.4242,\n",
              "            -0.4242, -0.4242, -0.4115, -0.3860, -0.3860, -0.4242,  2.1469,\n",
              "            -0.2206, -0.4242,  2.0451, -0.4242, -0.4242, -0.4115, -0.4115,\n",
              "            -0.4242, -0.4115, -0.4242, -0.4242, -0.4242, -0.4242, -0.4242],\n",
              "           [-0.4242, -0.4242, -0.4242, -0.4242, -0.4242, -0.4242, -0.4242,\n",
              "            -0.4242, -0.4242, -0.4242, -0.3860, -0.4242,  0.4286,  1.8414,\n",
              "            -0.4242, -0.4242,  1.1414,  0.3013, -0.4242, -0.3860, -0.4115,\n",
              "            -0.4242, -0.4242, -0.4242, -0.4242, -0.4242, -0.4242, -0.4242],\n",
              "           [-0.4242, -0.4242, -0.4242, -0.4242, -0.4242, -0.4242, -0.4242,\n",
              "            -0.4242, -0.4242, -0.4242, -0.3860, -0.4242,  1.1795,  1.1668,\n",
              "            -0.4242, -0.4242,  1.2814,  1.2050, -0.4242, -0.3733, -0.4242,\n",
              "            -0.4242, -0.4242, -0.4242, -0.4242, -0.4242, -0.4242, -0.4242],\n",
              "           [-0.4242, -0.4242, -0.4242, -0.4242, -0.4242, -0.4242, -0.4242,\n",
              "            -0.4242, -0.4242, -0.4115, -0.4115, -0.3733,  1.5105,  0.7086,\n",
              "            -0.4242, -0.4242,  1.1032,  1.7778, -0.4242, -0.4242, -0.4115,\n",
              "            -0.4242, -0.4242, -0.4242, -0.4242, -0.4242, -0.4242, -0.4242],\n",
              "           [-0.4242, -0.4242, -0.4242, -0.4242, -0.4242, -0.4242, -0.4242,\n",
              "            -0.4242, -0.4242, -0.4115, -0.4242, -0.1442,  1.5741, -0.1187,\n",
              "            -0.4242, -0.4242,  0.9759,  1.4087, -0.4115, -0.4242, -0.4242,\n",
              "            -0.4242, -0.4242, -0.4242, -0.4242, -0.4242, -0.4242, -0.4242],\n",
              "           [-0.4242, -0.4242, -0.4242, -0.4242, -0.4242, -0.4242, -0.4242,\n",
              "            -0.4242, -0.4242, -0.4242, -0.4242,  0.4286,  1.4214, -0.4242,\n",
              "            -0.4115, -0.4242,  0.8104,  1.5741, -0.2460, -0.4242, -0.3860,\n",
              "            -0.4115, -0.4242, -0.4242, -0.4242, -0.4242, -0.4242, -0.4242],\n",
              "           [-0.4242, -0.4242, -0.4242, -0.4242, -0.4242, -0.4242, -0.4242,\n",
              "            -0.4242, -0.4242, -0.4242, -0.4242,  1.0141,  0.6704, -0.4242,\n",
              "            -0.3097, -0.4242,  0.6068,  1.7141,  0.1358, -0.4242, -0.3860,\n",
              "            -0.4242, -0.4242, -0.4242, -0.4242, -0.4242, -0.4242, -0.4242],\n",
              "           [-0.4242, -0.4242, -0.4242, -0.4242, -0.4242, -0.4242, -0.4242,\n",
              "            -0.4242, -0.4115, -0.4242, -0.2715,  1.1414, -0.2206, -0.4242,\n",
              "            -0.3224, -0.4242,  0.3649,  1.8160,  0.4286, -0.4242, -0.4115,\n",
              "            -0.4242, -0.4242, -0.4242, -0.4242, -0.4242, -0.4242, -0.4242],\n",
              "           [-0.4242, -0.4242, -0.4242, -0.4242, -0.4242, -0.4242, -0.4242,\n",
              "            -0.4242, -0.4115, -0.4242,  0.3268,  1.1795, -0.4242, -0.4242,\n",
              "            -0.3733, -0.4242, -0.2715,  1.8923,  0.8359, -0.4242, -0.4242,\n",
              "            -0.4242, -0.4242, -0.4242, -0.4242, -0.4242, -0.4242, -0.4242],\n",
              "           [-0.4242, -0.4242, -0.3860, -0.3478, -0.3224, -0.3097, -0.3097,\n",
              "            -0.2842, -0.2842, -0.4242,  1.4214,  1.2432, -0.4242, -0.4115,\n",
              "            -0.3733, -0.4242, -0.4242,  2.4015,  1.4468, -0.4242, -0.4242,\n",
              "            -0.3097, -0.3478, -0.3478, -0.3224, -0.3860, -0.4242, -0.4242],\n",
              "           [-0.4242, -0.4242, -0.4242, -0.4242, -0.4242, -0.4242, -0.4242,\n",
              "            -0.4242, -0.4242, -0.4242,  2.3633,  0.7341, -0.4242, -0.4242,\n",
              "            -0.4242, -0.4242, -0.4242,  1.8923,  2.1978, -0.4242, -0.4242,\n",
              "            -0.4242, -0.4242, -0.4242, -0.4242, -0.4242, -0.4242, -0.4242],\n",
              "           [-0.4242, -0.4242,  0.0213,  0.9377,  1.1032,  1.0395,  1.0395,\n",
              "             1.2432,  1.2177,  0.9377,  2.5287,  1.6250,  0.5940,  1.0777,\n",
              "             1.0141,  1.0141,  0.7086,  2.0832,  2.4906,  0.7977,  0.7595,\n",
              "             0.9123,  0.8359,  0.7977,  0.6577, -0.3097, -0.4242, -0.4242],\n",
              "           [-0.4242, -0.4242, -0.1824,  2.0960,  1.6759,  1.8541,  1.9560,\n",
              "             1.9560,  2.0196,  2.2487,  1.6759,  2.1596,  2.1596,  2.1214,\n",
              "             2.0832,  2.1596,  2.1214,  2.0578,  1.8160,  2.2614,  1.9432,\n",
              "             2.0196,  1.9942,  2.0451,  2.5033,  1.3450, -0.4242, -0.4242],\n",
              "           [-0.4242, -0.4242,  0.6068,  2.4269,  1.4087,  1.4723,  1.4468,\n",
              "             1.3705,  1.4723,  1.6123,  0.9123,  1.5868,  1.5487,  1.4723,\n",
              "             1.6123,  1.5741,  1.6123,  1.5741,  1.0395,  1.6759,  1.5487,\n",
              "             1.5487,  1.4723,  1.6123,  1.8923,  2.2614, -0.4242, -0.4242],\n",
              "           [-0.4242, -0.4242, -0.0042,  2.2996,  1.4214,  1.5232,  1.6250,\n",
              "             1.5868,  1.6123,  1.7905,  0.5686,  1.6505,  1.7141,  1.5487,\n",
              "             1.5105,  1.4850,  1.6887,  1.5868,  0.7086,  1.8160,  1.5868,\n",
              "             1.7396,  1.7141,  1.6250,  2.3251,  1.6759, -0.4242, -0.4242],\n",
              "           [-0.4242, -0.4242, -0.4242,  1.3450,  1.8160,  1.4850,  1.6887,\n",
              "             1.5741,  1.6123,  1.6759,  1.2432,  1.7778,  1.5868,  1.6759,\n",
              "             2.2869,  1.6505,  1.7141,  1.7141,  1.3196,  1.7396,  1.6123,\n",
              "             1.6887,  1.8541,  1.6505,  2.6942, -0.2206, -0.4242, -0.4242],\n",
              "           [-0.4242, -0.4242, -0.4242,  0.9123,  1.9178,  1.5232,  1.6250,\n",
              "             1.5741,  1.6250,  1.5868,  1.7905,  1.6505,  1.5741,  1.6759,\n",
              "             1.6123,  1.6250,  1.5868,  1.6250,  1.6887,  1.6123,  1.6887,\n",
              "             1.8414,  1.8414,  1.8541,  2.5033, -0.4242, -0.4242, -0.4242],\n",
              "           [-0.4242, -0.4242, -0.4242,  0.5049,  2.0196,  1.5232,  1.6505,\n",
              "             1.5868,  1.6123,  1.6505,  1.6123,  1.5741,  1.6123,  1.6505,\n",
              "             1.6505,  1.6250,  1.6887,  1.6759,  1.6123,  1.6250,  1.7523,\n",
              "             1.7523,  1.7141,  2.0451,  2.3251, -0.4242, -0.4242, -0.4242],\n",
              "           [-0.4242, -0.4242, -0.4242,  0.0849,  1.9942,  1.4723,  1.6505,\n",
              "             1.5868,  1.5868,  1.6505,  1.6759,  1.6759,  1.6759,  1.6250,\n",
              "             1.6759,  1.6505,  1.6759,  1.6887,  1.7141,  1.7141,  1.8160,\n",
              "             1.9814,  1.9942,  2.1978,  1.9432, -0.4242, -0.4242, -0.4242],\n",
              "           [-0.4242, -0.4242, -0.4242, -0.3860,  1.8796,  1.6505,  1.6759,\n",
              "             1.6250,  1.6759,  1.6887,  1.6505,  1.7141,  1.7523,  1.7141,\n",
              "             1.7396,  1.7141,  1.7396,  1.7396,  1.7141,  1.8414,  1.9814,\n",
              "             1.9560,  1.6759,  2.3633,  1.6759, -0.4242, -0.4242, -0.4242],\n",
              "           [-0.4242, -0.4242, -0.4242, -0.4242,  1.6759,  1.7396,  1.6250,\n",
              "             1.6250,  1.6505,  1.7141,  1.7141,  1.7141,  1.7396,  1.7141,\n",
              "             1.6887,  1.7141,  1.7523,  1.8160,  1.8160,  1.9178,  1.8796,\n",
              "             1.7396,  1.6505,  2.6051,  1.0141, -0.4242, -0.4242, -0.4242],\n",
              "           [-0.4242, -0.4242, -0.3860, -0.4242,  1.0777,  1.9560,  1.5741,\n",
              "             1.6250,  1.6250,  1.6887,  1.6759,  1.6887,  1.7396,  1.7141,\n",
              "             1.7396,  1.7778,  1.7905,  1.7778,  1.8160,  1.8796,  1.7778,\n",
              "             1.8796,  2.0451,  2.7069,  0.2249, -0.4242, -0.4242, -0.4242],\n",
              "           [-0.4242, -0.4242, -0.3733, -0.4242,  0.4668,  2.1214,  1.5868,\n",
              "             1.6505,  1.6887,  1.7523,  1.7396,  1.7778,  1.7523,  1.7778,\n",
              "             1.8541,  1.9560,  1.9178,  1.8796,  1.8796,  1.8160,  1.9178,\n",
              "             2.1469,  2.1978,  2.6051, -0.3860, -0.4242, -0.4242, -0.4242],\n",
              "           [-0.4242, -0.4242, -0.3860, -0.4242,  0.0213,  2.1214,  1.7905,\n",
              "             1.7396,  1.6505,  1.7905,  1.7905,  1.7778,  1.8160,  1.9178,\n",
              "             1.9942,  2.0451,  2.0451,  1.9814,  1.9560,  1.8923,  1.9942,\n",
              "             1.9178,  1.9942,  2.1596, -0.4242, -0.4242, -0.4242, -0.4242],\n",
              "           [-0.4242, -0.4242, -0.4115, -0.4242, -0.4242,  1.7778,  1.8541,\n",
              "             1.5232,  1.5487,  1.6123,  1.6887,  1.7396,  1.8160,  1.8414,\n",
              "             1.7905,  1.7396,  1.6759,  1.6887,  1.7523,  1.7905,  1.8541,\n",
              "             1.7905,  2.3505,  1.1414, -0.4242, -0.3478, -0.4242, -0.4242],\n",
              "           [-0.4242, -0.4242, -0.4242, -0.3733, -0.4242,  0.8359,  2.3633,\n",
              "             1.7905,  2.2614,  2.5542,  2.7069,  2.7706,  2.7324,  2.7324,\n",
              "             2.7960,  2.7960,  2.7960,  2.8215,  2.7578,  2.6051,  2.4651,\n",
              "             2.4269,  2.7578, -0.2078, -0.4242, -0.3733, -0.4242, -0.4242],\n",
              "           [-0.4242, -0.4242, -0.4242, -0.3860, -0.4242, -0.4242,  1.4087,\n",
              "             1.8796,  1.4468,  1.3196,  1.2432,  1.2432,  1.1795,  1.2177,\n",
              "             1.2686,  1.1795,  1.1414,  1.1032,  0.8995,  0.8613,  1.0777,\n",
              "             1.8414,  0.8104, -0.4242, -0.4115, -0.4242, -0.4242, -0.4242]]]]),\n",
              " tensor([8]),\n",
              " tensor([8])]"
            ]
          },
          "metadata": {
            "tags": []
          },
          "execution_count": 69
        }
      ]
    },
    {
      "cell_type": "code",
      "metadata": {
        "id": "4ZcSUai0YYRt",
        "colab_type": "code",
        "colab": {}
      },
      "source": [
        "correct = []\n",
        "incorrect = []\n",
        "for val in out:\n",
        "  pred = val[1]\n",
        "  actual = val[2]\n",
        "  if pred == actual:\n",
        "    correct.append(val)\n",
        "  else:\n",
        "    incorrect.append(val)"
      ],
      "execution_count": 0,
      "outputs": []
    },
    {
      "cell_type": "code",
      "metadata": {
        "id": "a_Rk2T_na5su",
        "colab_type": "code",
        "colab": {}
      },
      "source": [
        "c = [[],[],[],[],[],[],[],[],[],[]]\n",
        "inc = [[],[],[],[],[],[],[],[],[],[]]\n",
        "for v in correct:\n",
        "  c[v[2]].append(v)\n",
        "for v in incorrect:\n",
        "  inc[v[2]].append(v)"
      ],
      "execution_count": 0,
      "outputs": []
    },
    {
      "cell_type": "code",
      "metadata": {
        "id": "lXQmoEFYcDds",
        "colab_type": "code",
        "colab": {}
      },
      "source": [
        "classes = [\"T-shirt/top\",\n",
        "\"Trouser\",\n",
        "\"Pullover\",\n",
        "\"Dress\",\n",
        "\"Coat\",\n",
        "\"Sandal\",\n",
        "\"Shirt\",\n",
        "\"Sneaker\",\n",
        "\"Bag\",\n",
        "\"Ankle boot\"]"
      ],
      "execution_count": 0,
      "outputs": []
    },
    {
      "cell_type": "code",
      "metadata": {
        "id": "b8zp2EzsbnWI",
        "colab_type": "code",
        "outputId": "e1cdf315-aec1-4118-91b9-3bccf56b337f",
        "colab": {
          "base_uri": "https://localhost:8080/",
          "height": 1000
        }
      },
      "source": [
        "for c_val in c:\n",
        "  for i in range(2):\n",
        "    plt.imshow(c_val[i][0].numpy().squeeze())\n",
        "    plt.title(classes[c_val[i][2]])\n",
        "    plt.axis(\"off\")\n",
        "    plt.show()"
      ],
      "execution_count": 0,
      "outputs": [
        {
          "output_type": "display_data",
          "data": {
            "image/png": "[encoded data removed]",
            "text/plain": [
              "<Figure size 432x288 with 1 Axes>"
            ]
          },
          "metadata": {
            "tags": []
          }
        },
        {
          "output_type": "display_data",
          "data": {
            "image/png": "[encoded data removed]",
            "text/plain": [
              "<Figure size 432x288 with 1 Axes>"
            ]
          },
          "metadata": {
            "tags": []
          }
        },
        {
          "output_type": "display_data",
          "data": {
            "image/png": "[encoded data removed]",
            "text/plain": [
              "<Figure size 432x288 with 1 Axes>"
            ]
          },
          "metadata": {
            "tags": []
          }
        },
        {
          "output_type": "display_data",
          "data": {
            "image/png": "[encoded data removed]",
            "text/plain": [
              "<Figure size 432x288 with 1 Axes>"
            ]
          },
          "metadata": {
            "tags": []
          }
        },
        {
          "output_type": "display_data",
          "data": {
            "image/png": "[encoded data removed]",
            "text/plain": [
              "<Figure size 432x288 with 1 Axes>"
            ]
          },
          "metadata": {
            "tags": []
          }
        },
        {
          "output_type": "display_data",
          "data": {
            "image/png": "[encoded data removed]",
            "text/plain": [
              "<Figure size 432x288 with 1 Axes>"
            ]
          },
          "metadata": {
            "tags": []
          }
        },
        {
          "output_type": "display_data",
          "data": {
            "image/png": "[encoded data removed]",
            "text/plain": [
              "<Figure size 432x288 with 1 Axes>"
            ]
          },
          "metadata": {
            "tags": []
          }
        },
        {
          "output_type": "display_data",
          "data": {
            "image/png": "[encoded data removed]",
            "text/plain": [
              "<Figure size 432x288 with 1 Axes>"
            ]
          },
          "metadata": {
            "tags": []
          }
        },
        {
          "output_type": "display_data",
          "data": {
            "image/png": "[encoded data removed]",
            "text/plain": [
              "<Figure size 432x288 with 1 Axes>"
            ]
          },
          "metadata": {
            "tags": []
          }
        },
        {
          "output_type": "display_data",
          "data": {
            "image/png": "[encoded data removed]",
            "text/plain": [
              "<Figure size 432x288 with 1 Axes>"
            ]
          },
          "metadata": {
            "tags": []
          }
        },
        {
          "output_type": "display_data",
          "data": {
            "image/png": "[encoded data removed]",
            "text/plain": [
              "<Figure size 432x288 with 1 Axes>"
            ]
          },
          "metadata": {
            "tags": []
          }
        },
        {
          "output_type": "display_data",
          "data": {
            "image/png": "[encoded data removed]",
            "text/plain": [
              "<Figure size 432x288 with 1 Axes>"
            ]
          },
          "metadata": {
            "tags": []
          }
        },
        {
          "output_type": "display_data",
          "data": {
            "image/png": "[encoded data removed]",
            "text/plain": [
              "<Figure size 432x288 with 1 Axes>"
            ]
          },
          "metadata": {
            "tags": []
          }
        },
        {
          "output_type": "display_data",
          "data": {
            "image/png": "[encoded data removed]",
            "text/plain": [
              "<Figure size 432x288 with 1 Axes>"
            ]
          },
          "metadata": {
            "tags": []
          }
        },
        {
          "output_type": "display_data",
          "data": {
            "image/png": "[encoded data removed]",
            "text/plain": [
              "<Figure size 432x288 with 1 Axes>"
            ]
          },
          "metadata": {
            "tags": []
          }
        },
        {
          "output_type": "display_data",
          "data": {
            "image/png": "[encoded data removed]",
            "text/plain": [
              "<Figure size 432x288 with 1 Axes>"
            ]
          },
          "metadata": {
            "tags": []
          }
        },
        {
          "output_type": "display_data",
          "data": {
            "image/png": "[encoded data removed]",
            "text/plain": [
              "<Figure size 432x288 with 1 Axes>"
            ]
          },
          "metadata": {
            "tags": []
          }
        },
        {
          "output_type": "display_data",
          "data": {
            "image/png": "[encoded data removed]",
            "text/plain": [
              "<Figure size 432x288 with 1 Axes>"
            ]
          },
          "metadata": {
            "tags": []
          }
        },
        {
          "output_type": "display_data",
          "data": {
            "image/png": "[encoded data removed]",
            "text/plain": [
              "<Figure size 432x288 with 1 Axes>"
            ]
          },
          "metadata": {
            "tags": []
          }
        },
        {
          "output_type": "display_data",
          "data": {
            "image/png": "[encoded data removed]",
            "text/plain": [
              "<Figure size 432x288 with 1 Axes>"
            ]
          },
          "metadata": {
            "tags": []
          }
        }
      ]
    },
    {
      "cell_type": "code",
      "metadata": {
        "id": "mRXwAipldLxx",
        "colab_type": "code",
        "outputId": "fdcbf90f-85ae-49c2-866e-0bdb0dd04507",
        "colab": {
          "base_uri": "https://localhost:8080/",
          "height": 1000
        }
      },
      "source": [
        "for c_val in inc:\n",
        "  for j in range(2):\n",
        "    plt.imshow(c_val[j][0].numpy().squeeze())\n",
        "    plt.title(\"Predicted: \" + classes[c_val[j][1]] + \", Expected: \" + classes[c_val[j][2]])\n",
        "    plt.axis(\"off\")\n",
        "    plt.show()"
      ],
      "execution_count": 0,
      "outputs": [
        {
          "output_type": "display_data",
          "data": {
            "image/png": "[encoded data removed]",
            "text/plain": [
              "<Figure size 432x288 with 1 Axes>"
            ]
          },
          "metadata": {
            "tags": []
          }
        },
        {
          "output_type": "display_data",
          "data": {
            "image/png": "[encoded data removed]",
            "text/plain": [
              "<Figure size 432x288 with 1 Axes>"
            ]
          },
          "metadata": {
            "tags": []
          }
        },
        {
          "output_type": "display_data",
          "data": {
            "image/png": "[encoded data removed]",
            "text/plain": [
              "<Figure size 432x288 with 1 Axes>"
            ]
          },
          "metadata": {
            "tags": []
          }
        },
        {
          "output_type": "display_data",
          "data": {
            "image/png": "[encoded data removed]",
            "text/plain": [
              "<Figure size 432x288 with 1 Axes>"
            ]
          },
          "metadata": {
            "tags": []
          }
        },
        {
          "output_type": "display_data",
          "data": {
            "image/png": "[encoded data removed]",
            "text/plain": [
              "<Figure size 432x288 with 1 Axes>"
            ]
          },
          "metadata": {
            "tags": []
          }
        },
        {
          "output_type": "display_data",
          "data": {
            "image/png": "[encoded data removed]",
            "text/plain": [
              "<Figure size 432x288 with 1 Axes>"
            ]
          },
          "metadata": {
            "tags": []
          }
        },
        {
          "output_type": "display_data",
          "data": {
            "image/png": "[encoded data removed]",
            "text/plain": [
              "<Figure size 432x288 with 1 Axes>"
            ]
          },
          "metadata": {
            "tags": []
          }
        },
        {
          "output_type": "display_data",
          "data": {
            "image/png": "[encoded data removed]",
            "text/plain": [
              "<Figure size 432x288 with 1 Axes>"
            ]
          },
          "metadata": {
            "tags": []
          }
        },
        {
          "output_type": "display_data",
          "data": {
            "image/png": "[encoded data removed]",
            "text/plain": [
              "<Figure size 432x288 with 1 Axes>"
            ]
          },
          "metadata": {
            "tags": []
          }
        },
        {
          "output_type": "display_data",
          "data": {
            "image/png": "[encoded data removed]",
            "text/plain": [
              "<Figure size 432x288 with 1 Axes>"
            ]
          },
          "metadata": {
            "tags": []
          }
        },
        {
          "output_type": "display_data",
          "data": {
            "image/png": "[encoded data removed]",
            "text/plain": [
              "<Figure size 432x288 with 1 Axes>"
            ]
          },
          "metadata": {
            "tags": []
          }
        },
        {
          "output_type": "display_data",
          "data": {
            "image/png": "[encoded data removed]",
            "text/plain": [
              "<Figure size 432x288 with 1 Axes>"
            ]
          },
          "metadata": {
            "tags": []
          }
        },
        {
          "output_type": "display_data",
          "data": {
            "image/png": "[encoded data removed]",
            "text/plain": [
              "<Figure size 432x288 with 1 Axes>"
            ]
          },
          "metadata": {
            "tags": []
          }
        },
        {
          "output_type": "display_data",
          "data": {
            "image/png": "[encoded data removed]",
            "text/plain": [
              "<Figure size 432x288 with 1 Axes>"
            ]
          },
          "metadata": {
            "tags": []
          }
        },
        {
          "output_type": "display_data",
          "data": {
            "image/png": "[encoded data removed]",
            "text/plain": [
              "<Figure size 432x288 with 1 Axes>"
            ]
          },
          "metadata": {
            "tags": []
          }
        },
        {
          "output_type": "display_data",
          "data": {
            "image/png": "[encoded data removed]",
            "text/plain": [
              "<Figure size 432x288 with 1 Axes>"
            ]
          },
          "metadata": {
            "tags": []
          }
        },
        {
          "output_type": "display_data",
          "data": {
            "image/png": "[encoded data removed]",
            "text/plain": [
              "<Figure size 432x288 with 1 Axes>"
            ]
          },
          "metadata": {
            "tags": []
          }
        },
        {
          "output_type": "display_data",
          "data": {
            "image/png": "[encoded data removed]",
            "text/plain": [
              "<Figure size 432x288 with 1 Axes>"
            ]
          },
          "metadata": {
            "tags": []
          }
        },
        {
          "output_type": "display_data",
          "data": {
            "image/png": "[encoded data removed]",
            "text/plain": [
              "<Figure size 432x288 with 1 Axes>"
            ]
          },
          "metadata": {
            "tags": []
          }
        },
        {
          "output_type": "display_data",
          "data": {
            "image/png": "[encoded data removed]",
            "text/plain": [
              "<Figure size 432x288 with 1 Axes>"
            ]
          },
          "metadata": {
            "tags": []
          }
        }
      ]
    },
    {
      "cell_type": "code",
      "metadata": {
        "id": "4pkLtdzAZ-xS",
        "colab_type": "code",
        "colab": {}
      },
      "source": [
        "# https://stackoverflow.com/questions/58218165/googlenet-object-has-no-attribute-features\n",
        "class FeatureExtractor(nn.Module):\n",
        "    def __init__(self):\n",
        "        super(FeatureExtractor, self).__init__()\n",
        "        self.net = net\n",
        "        # If you treat GooLeNet as a fixed feature extractor, disable the gradients and save some memory\n",
        "        for p in self.net.parameters():\n",
        "            p.requires_grad = False\n",
        "        # Define which layers you are going to extract\n",
        "        self.features = nn.Sequential(*list(self.net.children())[:4])\n",
        "\n",
        "    def forward(self, x):\n",
        "        return self.features(x)"
      ],
      "execution_count": 0,
      "outputs": []
    },
    {
      "cell_type": "code",
      "metadata": {
        "id": "JSYG843VZUCi",
        "colab_type": "code",
        "outputId": "d9e9a1a0-ec33-493f-e680-075749f909de",
        "colab": {
          "base_uri": "https://localhost:8080/",
          "height": 186
        }
      },
      "source": [
        "fe = FeatureExtractor()\n",
        "plot_weights(fe, 0, single_channel = True)"
      ],
      "execution_count": 0,
      "outputs": [
        {
          "output_type": "display_data",
          "data": {
            "image/png": "[encoded data removed]",
            "text/plain": [
              "<Figure size 864x216 with 32 Axes>"
            ]
          },
          "metadata": {
            "tags": []
          }
        }
      ]
    },
    {
      "cell_type": "markdown",
      "metadata": {
        "id": "xGvd8-h7k_lU",
        "colab_type": "text"
      },
      "source": [
        "##Results\n",
        "Once you have trained your model, show the following results for the network:\n",
        "Plot the train and validation accuracy during the training process.\n",
        "Compute a per class accuracy of your classifier on the validation and test dataset. Which classes are the hardest to get? Show 2 images from each class which the network classifies correctly, and 2 more images where it classifies incorrectly.\n",
        "Visualize the learned filters."
      ]
    },
    {
      "cell_type": "markdown",
      "metadata": {
        "id": "zbkihL78kxxE",
        "colab_type": "text"
      },
      "source": [
        "# Part II: Semantic Segmentation\n",
        "Semantic Segmentation refers to labeling each pixel in the image to its correct object class. We will use the Mini Facade dataset. The starter code and data for this part is available here. Mini Facade dataset consists of images of different cities around the world and diverse architectural styles (in .jpg format), shown as the image on the left. It also contains semantic segmentation labels (in .png format) in 5 different classes: balcony, window, pillar, facade and others. Your task is to train a network to convert image on the left to the labels on the right. The color to label map is shown in the table below."
      ]
    },
    {
      "cell_type": "code",
      "metadata": {
        "id": "if4mTCjyFHIu",
        "colab_type": "code",
        "outputId": "2fd518c1-d303-4391-c96f-54338ff9766c",
        "colab": {
          "base_uri": "https://localhost:8080/",
          "height": 124
        }
      },
      "source": [
        "from google.colab import drive\n",
        "drive.mount('/content/drive')"
      ],
      "execution_count": 0,
      "outputs": [
        {
          "output_type": "stream",
          "text": [
            "Go to this URL in a browser: https://accounts.google.com/o/oauth2/auth?client_id=947318989803-6bn6qk8qdgf4n4g3pfee6491hc0brc4i.apps.googleusercontent.com&redirect_uri=urn%3aietf%3awg%3aoauth%3a2.0%3aoob&response_type=code&scope=email%20https%3a%2f%2fwww.googleapis.com%2fauth%2fdocs.test%20https%3a%2f%2fwww.googleapis.com%2fauth%2fdrive%20https%3a%2f%2fwww.googleapis.com%2fauth%2fdrive.photos.readonly%20https%3a%2f%2fwww.googleapis.com%2fauth%2fpeopleapi.readonly\n",
            "\n",
            "Enter your authorization code:\n",
            "··········\n",
            "Mounted at /content/drive\n"
          ],
          "name": "stdout"
        }
      ]
    },
    {
      "cell_type": "code",
      "metadata": {
        "id": "6nW99H6pkoUk",
        "colab_type": "code",
        "colab": {}
      },
      "source": [
        "import numpy as np\n",
        "import os\n",
        "import png\n",
        "import torch\n",
        "from tqdm import tqdm\n",
        "from torch.utils.data.dataset import Dataset\n",
        "from PIL import Image"
      ],
      "execution_count": 0,
      "outputs": []
    },
    {
      "cell_type": "markdown",
      "metadata": {
        "id": "YNyzVKAOlkSC",
        "colab_type": "text"
      },
      "source": [
        "##Dataloader\n",
        "The starter code has the dataloader written for the Mini Facade. Split the data into a training and validation set, and you should evaluate on the test set only once, after you have tuned all your hyper parameters on the validation set."
      ]
    },
    {
      "cell_type": "code",
      "metadata": {
        "id": "dSQnAf_8plZj",
        "colab_type": "code",
        "outputId": "7629fa34-2592-420a-eb5a-c954e42f962e",
        "colab": {
          "base_uri": "https://localhost:8080/",
          "height": 1000
        }
      },
      "source": [
        "!unzip ./starter_set.zip"
      ],
      "execution_count": 0,
      "outputs": [
        {
          "output_type": "stream",
          "text": [
            "Archive:  ./starter_set.zip\n",
            "  inflating: starter_set/.DS_Store   \n",
            "  inflating: starter_set/colormap.png  \n",
            "  inflating: starter_set/readme.txt  \n",
            "   creating: starter_set/test_dev/\n",
            "  inflating: starter_set/test_dev/.DS_Store  \n",
            "  inflating: starter_set/test_dev/eecs442_0000.jpg  \n",
            "  inflating: starter_set/test_dev/eecs442_0000.png  \n",
            "  inflating: starter_set/test_dev/eecs442_0001.jpg  \n",
            "  inflating: starter_set/test_dev/eecs442_0001.png  \n",
            "  inflating: starter_set/test_dev/eecs442_0002.jpg  \n",
            "  inflating: starter_set/test_dev/eecs442_0002.png  \n",
            "  inflating: starter_set/test_dev/eecs442_0003.jpg  \n",
            "  inflating: starter_set/test_dev/eecs442_0003.png  \n",
            "  inflating: starter_set/test_dev/eecs442_0004.jpg  \n",
            "  inflating: starter_set/test_dev/eecs442_0004.png  \n",
            "  inflating: starter_set/test_dev/eecs442_0005.jpg  \n",
            "  inflating: starter_set/test_dev/eecs442_0005.png  \n",
            "  inflating: starter_set/test_dev/eecs442_0006.jpg  \n",
            "  inflating: starter_set/test_dev/eecs442_0006.png  \n",
            "  inflating: starter_set/test_dev/eecs442_0007.jpg  \n",
            "  inflating: starter_set/test_dev/eecs442_0007.png  \n",
            "  inflating: starter_set/test_dev/eecs442_0008.jpg  \n",
            "  inflating: starter_set/test_dev/eecs442_0008.png  \n",
            "  inflating: starter_set/test_dev/eecs442_0009.jpg  \n",
            "  inflating: starter_set/test_dev/eecs442_0009.png  \n",
            "  inflating: starter_set/test_dev/eecs442_0010.jpg  \n",
            "  inflating: starter_set/test_dev/eecs442_0010.png  \n",
            "  inflating: starter_set/test_dev/eecs442_0011.jpg  \n",
            "  inflating: starter_set/test_dev/eecs442_0011.png  \n",
            "  inflating: starter_set/test_dev/eecs442_0012.jpg  \n",
            "  inflating: starter_set/test_dev/eecs442_0012.png  \n",
            "  inflating: starter_set/test_dev/eecs442_0013.jpg  \n",
            "  inflating: starter_set/test_dev/eecs442_0013.png  \n",
            "  inflating: starter_set/test_dev/eecs442_0014.jpg  \n",
            "  inflating: starter_set/test_dev/eecs442_0014.png  \n",
            "  inflating: starter_set/test_dev/eecs442_0015.jpg  \n",
            "  inflating: starter_set/test_dev/eecs442_0015.png  \n",
            "  inflating: starter_set/test_dev/eecs442_0016.jpg  \n",
            "  inflating: starter_set/test_dev/eecs442_0016.png  \n",
            "  inflating: starter_set/test_dev/eecs442_0017.jpg  \n",
            "  inflating: starter_set/test_dev/eecs442_0017.png  \n",
            "  inflating: starter_set/test_dev/eecs442_0018.jpg  \n",
            "  inflating: starter_set/test_dev/eecs442_0018.png  \n",
            "  inflating: starter_set/test_dev/eecs442_0019.jpg  \n",
            "  inflating: starter_set/test_dev/eecs442_0019.png  \n",
            "  inflating: starter_set/test_dev/eecs442_0020.jpg  \n",
            "  inflating: starter_set/test_dev/eecs442_0020.png  \n",
            "  inflating: starter_set/test_dev/eecs442_0021.jpg  \n",
            "  inflating: starter_set/test_dev/eecs442_0021.png  \n",
            "  inflating: starter_set/test_dev/eecs442_0022.jpg  \n",
            "  inflating: starter_set/test_dev/eecs442_0022.png  \n",
            "  inflating: starter_set/test_dev/eecs442_0023.jpg  \n",
            "  inflating: starter_set/test_dev/eecs442_0023.png  \n",
            "  inflating: starter_set/test_dev/eecs442_0024.jpg  \n",
            "  inflating: starter_set/test_dev/eecs442_0024.png  \n",
            "  inflating: starter_set/test_dev/eecs442_0025.jpg  \n",
            "  inflating: starter_set/test_dev/eecs442_0025.png  \n",
            "  inflating: starter_set/test_dev/eecs442_0026.jpg  \n",
            "  inflating: starter_set/test_dev/eecs442_0026.png  \n",
            "  inflating: starter_set/test_dev/eecs442_0027.jpg  \n",
            "  inflating: starter_set/test_dev/eecs442_0027.png  \n",
            "  inflating: starter_set/test_dev/eecs442_0028.jpg  \n",
            "  inflating: starter_set/test_dev/eecs442_0028.png  \n",
            "  inflating: starter_set/test_dev/eecs442_0029.jpg  \n",
            "  inflating: starter_set/test_dev/eecs442_0029.png  \n",
            "  inflating: starter_set/test_dev/eecs442_0030.jpg  \n",
            "  inflating: starter_set/test_dev/eecs442_0030.png  \n",
            "  inflating: starter_set/test_dev/eecs442_0031.jpg  \n",
            "  inflating: starter_set/test_dev/eecs442_0031.png  \n",
            "  inflating: starter_set/test_dev/eecs442_0032.jpg  \n",
            "  inflating: starter_set/test_dev/eecs442_0032.png  \n",
            "  inflating: starter_set/test_dev/eecs442_0033.jpg  \n",
            "  inflating: starter_set/test_dev/eecs442_0033.png  \n",
            "  inflating: starter_set/test_dev/eecs442_0034.jpg  \n",
            "  inflating: starter_set/test_dev/eecs442_0034.png  \n",
            "  inflating: starter_set/test_dev/eecs442_0035.jpg  \n",
            "  inflating: starter_set/test_dev/eecs442_0035.png  \n",
            "  inflating: starter_set/test_dev/eecs442_0036.jpg  \n",
            "  inflating: starter_set/test_dev/eecs442_0036.png  \n",
            "  inflating: starter_set/test_dev/eecs442_0037.jpg  \n",
            "  inflating: starter_set/test_dev/eecs442_0037.png  \n",
            "  inflating: starter_set/test_dev/eecs442_0038.jpg  \n",
            "  inflating: starter_set/test_dev/eecs442_0038.png  \n",
            "  inflating: starter_set/test_dev/eecs442_0039.jpg  \n",
            "  inflating: starter_set/test_dev/eecs442_0039.png  \n",
            "  inflating: starter_set/test_dev/eecs442_0040.jpg  \n",
            "  inflating: starter_set/test_dev/eecs442_0040.png  \n",
            "  inflating: starter_set/test_dev/eecs442_0041.jpg  \n",
            "  inflating: starter_set/test_dev/eecs442_0041.png  \n",
            "  inflating: starter_set/test_dev/eecs442_0042.jpg  \n",
            "  inflating: starter_set/test_dev/eecs442_0042.png  \n",
            "  inflating: starter_set/test_dev/eecs442_0043.jpg  \n",
            "  inflating: starter_set/test_dev/eecs442_0043.png  \n",
            "  inflating: starter_set/test_dev/eecs442_0044.jpg  \n",
            "  inflating: starter_set/test_dev/eecs442_0044.png  \n",
            "  inflating: starter_set/test_dev/eecs442_0045.jpg  \n",
            "  inflating: starter_set/test_dev/eecs442_0045.png  \n",
            "  inflating: starter_set/test_dev/eecs442_0046.jpg  \n",
            "  inflating: starter_set/test_dev/eecs442_0046.png  \n",
            "  inflating: starter_set/test_dev/eecs442_0047.jpg  \n",
            "  inflating: starter_set/test_dev/eecs442_0047.png  \n",
            "  inflating: starter_set/test_dev/eecs442_0048.jpg  \n",
            "  inflating: starter_set/test_dev/eecs442_0048.png  \n",
            "  inflating: starter_set/test_dev/eecs442_0049.jpg  \n",
            "  inflating: starter_set/test_dev/eecs442_0049.png  \n",
            "  inflating: starter_set/test_dev/eecs442_0050.jpg  \n",
            "  inflating: starter_set/test_dev/eecs442_0050.png  \n",
            "  inflating: starter_set/test_dev/eecs442_0051.jpg  \n",
            "  inflating: starter_set/test_dev/eecs442_0051.png  \n",
            "  inflating: starter_set/test_dev/eecs442_0052.jpg  \n",
            "  inflating: starter_set/test_dev/eecs442_0052.png  \n",
            "  inflating: starter_set/test_dev/eecs442_0053.jpg  \n",
            "  inflating: starter_set/test_dev/eecs442_0053.png  \n",
            "  inflating: starter_set/test_dev/eecs442_0054.jpg  \n",
            "  inflating: starter_set/test_dev/eecs442_0054.png  \n",
            "  inflating: starter_set/test_dev/eecs442_0055.jpg  \n",
            "  inflating: starter_set/test_dev/eecs442_0055.png  \n",
            "  inflating: starter_set/test_dev/eecs442_0056.jpg  \n",
            "  inflating: starter_set/test_dev/eecs442_0056.png  \n",
            "  inflating: starter_set/test_dev/eecs442_0057.jpg  \n",
            "  inflating: starter_set/test_dev/eecs442_0057.png  \n",
            "  inflating: starter_set/test_dev/eecs442_0058.jpg  \n",
            "  inflating: starter_set/test_dev/eecs442_0058.png  \n",
            "  inflating: starter_set/test_dev/eecs442_0059.jpg  \n",
            "  inflating: starter_set/test_dev/eecs442_0059.png  \n",
            "  inflating: starter_set/test_dev/eecs442_0060.jpg  \n",
            "  inflating: starter_set/test_dev/eecs442_0060.png  \n",
            "  inflating: starter_set/test_dev/eecs442_0061.jpg  \n",
            "  inflating: starter_set/test_dev/eecs442_0061.png  \n",
            "  inflating: starter_set/test_dev/eecs442_0062.jpg  \n",
            "  inflating: starter_set/test_dev/eecs442_0062.png  \n",
            "  inflating: starter_set/test_dev/eecs442_0063.jpg  \n",
            "  inflating: starter_set/test_dev/eecs442_0063.png  \n",
            "  inflating: starter_set/test_dev/eecs442_0064.jpg  \n",
            "  inflating: starter_set/test_dev/eecs442_0064.png  \n",
            "  inflating: starter_set/test_dev/eecs442_0065.jpg  \n",
            "  inflating: starter_set/test_dev/eecs442_0065.png  \n",
            "  inflating: starter_set/test_dev/eecs442_0066.jpg  \n",
            "  inflating: starter_set/test_dev/eecs442_0066.png  \n",
            "  inflating: starter_set/test_dev/eecs442_0067.jpg  \n",
            "  inflating: starter_set/test_dev/eecs442_0067.png  \n",
            "  inflating: starter_set/test_dev/eecs442_0068.jpg  \n",
            "  inflating: starter_set/test_dev/eecs442_0068.png  \n",
            "  inflating: starter_set/test_dev/eecs442_0069.jpg  \n",
            "  inflating: starter_set/test_dev/eecs442_0069.png  \n",
            "  inflating: starter_set/test_dev/eecs442_0070.jpg  \n",
            "  inflating: starter_set/test_dev/eecs442_0070.png  \n",
            "  inflating: starter_set/test_dev/eecs442_0071.jpg  \n",
            "  inflating: starter_set/test_dev/eecs442_0071.png  \n",
            "  inflating: starter_set/test_dev/eecs442_0072.jpg  \n",
            "  inflating: starter_set/test_dev/eecs442_0072.png  \n",
            "  inflating: starter_set/test_dev/eecs442_0073.jpg  \n",
            "  inflating: starter_set/test_dev/eecs442_0073.png  \n",
            "  inflating: starter_set/test_dev/eecs442_0074.jpg  \n",
            "  inflating: starter_set/test_dev/eecs442_0074.png  \n",
            "  inflating: starter_set/test_dev/eecs442_0075.jpg  \n",
            "  inflating: starter_set/test_dev/eecs442_0075.png  \n",
            "  inflating: starter_set/test_dev/eecs442_0076.jpg  \n",
            "  inflating: starter_set/test_dev/eecs442_0076.png  \n",
            "  inflating: starter_set/test_dev/eecs442_0077.jpg  \n",
            "  inflating: starter_set/test_dev/eecs442_0077.png  \n",
            "  inflating: starter_set/test_dev/eecs442_0078.jpg  \n",
            "  inflating: starter_set/test_dev/eecs442_0078.png  \n",
            "  inflating: starter_set/test_dev/eecs442_0079.jpg  \n",
            "  inflating: starter_set/test_dev/eecs442_0079.png  \n",
            "  inflating: starter_set/test_dev/eecs442_0080.jpg  \n",
            "  inflating: starter_set/test_dev/eecs442_0080.png  \n",
            "  inflating: starter_set/test_dev/eecs442_0081.jpg  \n",
            "  inflating: starter_set/test_dev/eecs442_0081.png  \n",
            "  inflating: starter_set/test_dev/eecs442_0082.jpg  \n",
            "  inflating: starter_set/test_dev/eecs442_0082.png  \n",
            "  inflating: starter_set/test_dev/eecs442_0083.jpg  \n",
            "  inflating: starter_set/test_dev/eecs442_0083.png  \n",
            "  inflating: starter_set/test_dev/eecs442_0084.jpg  \n",
            "  inflating: starter_set/test_dev/eecs442_0084.png  \n",
            "  inflating: starter_set/test_dev/eecs442_0085.jpg  \n",
            "  inflating: starter_set/test_dev/eecs442_0085.png  \n",
            "  inflating: starter_set/test_dev/eecs442_0086.jpg  \n",
            "  inflating: starter_set/test_dev/eecs442_0086.png  \n",
            "  inflating: starter_set/test_dev/eecs442_0087.jpg  \n",
            "  inflating: starter_set/test_dev/eecs442_0087.png  \n",
            "  inflating: starter_set/test_dev/eecs442_0088.jpg  \n",
            "  inflating: starter_set/test_dev/eecs442_0088.png  \n",
            "  inflating: starter_set/test_dev/eecs442_0089.jpg  \n",
            "  inflating: starter_set/test_dev/eecs442_0089.png  \n",
            "  inflating: starter_set/test_dev/eecs442_0090.jpg  \n",
            "  inflating: starter_set/test_dev/eecs442_0090.png  \n",
            "  inflating: starter_set/test_dev/eecs442_0091.jpg  \n",
            "  inflating: starter_set/test_dev/eecs442_0091.png  \n",
            "  inflating: starter_set/test_dev/eecs442_0092.jpg  \n",
            "  inflating: starter_set/test_dev/eecs442_0092.png  \n",
            "  inflating: starter_set/test_dev/eecs442_0093.jpg  \n",
            "  inflating: starter_set/test_dev/eecs442_0093.png  \n",
            "  inflating: starter_set/test_dev/eecs442_0094.jpg  \n",
            "  inflating: starter_set/test_dev/eecs442_0094.png  \n",
            "  inflating: starter_set/test_dev/eecs442_0095.jpg  \n",
            "  inflating: starter_set/test_dev/eecs442_0095.png  \n",
            "  inflating: starter_set/test_dev/eecs442_0096.jpg  \n",
            "  inflating: starter_set/test_dev/eecs442_0096.png  \n",
            "  inflating: starter_set/test_dev/eecs442_0097.jpg  \n",
            "  inflating: starter_set/test_dev/eecs442_0097.png  \n",
            "  inflating: starter_set/test_dev/eecs442_0098.jpg  \n",
            "  inflating: starter_set/test_dev/eecs442_0098.png  \n",
            "  inflating: starter_set/test_dev/eecs442_0099.jpg  \n",
            "  inflating: starter_set/test_dev/eecs442_0099.png  \n",
            "  inflating: starter_set/test_dev/eecs442_0100.jpg  \n",
            "  inflating: starter_set/test_dev/eecs442_0100.png  \n",
            "  inflating: starter_set/test_dev/eecs442_0101.jpg  \n",
            "  inflating: starter_set/test_dev/eecs442_0101.png  \n",
            "  inflating: starter_set/test_dev/eecs442_0102.jpg  \n",
            "  inflating: starter_set/test_dev/eecs442_0102.png  \n",
            "  inflating: starter_set/test_dev/eecs442_0103.jpg  \n",
            "  inflating: starter_set/test_dev/eecs442_0103.png  \n",
            "  inflating: starter_set/test_dev/eecs442_0104.jpg  \n",
            "  inflating: starter_set/test_dev/eecs442_0104.png  \n",
            "  inflating: starter_set/test_dev/eecs442_0105.jpg  \n",
            "  inflating: starter_set/test_dev/eecs442_0105.png  \n",
            "  inflating: starter_set/test_dev/eecs442_0106.jpg  \n",
            "  inflating: starter_set/test_dev/eecs442_0106.png  \n",
            "  inflating: starter_set/test_dev/eecs442_0107.jpg  \n",
            "  inflating: starter_set/test_dev/eecs442_0107.png  \n",
            "  inflating: starter_set/test_dev/eecs442_0108.jpg  \n",
            "  inflating: starter_set/test_dev/eecs442_0108.png  \n",
            "  inflating: starter_set/test_dev/eecs442_0109.jpg  \n",
            "  inflating: starter_set/test_dev/eecs442_0109.png  \n",
            "  inflating: starter_set/test_dev/eecs442_0110.jpg  \n",
            "  inflating: starter_set/test_dev/eecs442_0110.png  \n",
            "  inflating: starter_set/test_dev/eecs442_0111.jpg  \n",
            "  inflating: starter_set/test_dev/eecs442_0111.png  \n",
            "  inflating: starter_set/test_dev/eecs442_0112.jpg  \n",
            "  inflating: starter_set/test_dev/eecs442_0112.png  \n",
            "  inflating: starter_set/test_dev/eecs442_0113.jpg  \n",
            "  inflating: starter_set/test_dev/eecs442_0113.png  \n",
            "   creating: starter_set/train/\n",
            "  inflating: starter_set/train/eecs442_0000.jpg  \n",
            "  inflating: starter_set/train/eecs442_0000.png  \n",
            "  inflating: starter_set/train/eecs442_0001.jpg  \n",
            "  inflating: starter_set/train/eecs442_0001.png  \n",
            "  inflating: starter_set/train/eecs442_0002.jpg  \n",
            "  inflating: starter_set/train/eecs442_0002.png  \n",
            "  inflating: starter_set/train/eecs442_0003.jpg  \n",
            "  inflating: starter_set/train/eecs442_0003.png  \n",
            "  inflating: starter_set/train/eecs442_0004.jpg  \n",
            "  inflating: starter_set/train/eecs442_0004.png  \n",
            "  inflating: starter_set/train/eecs442_0005.jpg  \n",
            "  inflating: starter_set/train/eecs442_0005.png  \n",
            "  inflating: starter_set/train/eecs442_0006.jpg  \n",
            "  inflating: starter_set/train/eecs442_0006.png  \n",
            "  inflating: starter_set/train/eecs442_0007.jpg  \n",
            "  inflating: starter_set/train/eecs442_0007.png  \n",
            "  inflating: starter_set/train/eecs442_0008.jpg  \n",
            "  inflating: starter_set/train/eecs442_0008.png  \n",
            "  inflating: starter_set/train/eecs442_0009.jpg  \n",
            "  inflating: starter_set/train/eecs442_0009.png  \n",
            "  inflating: starter_set/train/eecs442_0010.jpg  \n",
            "  inflating: starter_set/train/eecs442_0010.png  \n",
            "  inflating: starter_set/train/eecs442_0011.jpg  \n",
            "  inflating: starter_set/train/eecs442_0011.png  \n",
            "  inflating: starter_set/train/eecs442_0012.jpg  \n",
            "  inflating: starter_set/train/eecs442_0012.png  \n",
            "  inflating: starter_set/train/eecs442_0013.jpg  \n",
            "  inflating: starter_set/train/eecs442_0013.png  \n",
            "  inflating: starter_set/train/eecs442_0014.jpg  \n",
            "  inflating: starter_set/train/eecs442_0014.png  \n",
            "  inflating: starter_set/train/eecs442_0015.jpg  \n",
            "  inflating: starter_set/train/eecs442_0015.png  \n",
            "  inflating: starter_set/train/eecs442_0016.jpg  \n",
            "  inflating: starter_set/train/eecs442_0016.png  \n",
            "  inflating: starter_set/train/eecs442_0017.jpg  \n",
            "  inflating: starter_set/train/eecs442_0017.png  \n",
            "  inflating: starter_set/train/eecs442_0018.jpg  \n",
            "  inflating: starter_set/train/eecs442_0018.png  \n",
            "  inflating: starter_set/train/eecs442_0019.jpg  \n",
            "  inflating: starter_set/train/eecs442_0019.png  \n",
            "  inflating: starter_set/train/eecs442_0020.jpg  \n",
            "  inflating: starter_set/train/eecs442_0020.png  \n",
            "  inflating: starter_set/train/eecs442_0021.jpg  \n",
            "  inflating: starter_set/train/eecs442_0021.png  \n",
            "  inflating: starter_set/train/eecs442_0022.jpg  \n",
            "  inflating: starter_set/train/eecs442_0022.png  \n",
            "  inflating: starter_set/train/eecs442_0023.jpg  \n",
            "  inflating: starter_set/train/eecs442_0023.png  \n",
            "  inflating: starter_set/train/eecs442_0024.jpg  \n",
            "  inflating: starter_set/train/eecs442_0024.png  \n",
            "  inflating: starter_set/train/eecs442_0025.jpg  \n",
            "  inflating: starter_set/train/eecs442_0025.png  \n",
            "  inflating: starter_set/train/eecs442_0026.jpg  \n",
            "  inflating: starter_set/train/eecs442_0026.png  \n",
            "  inflating: starter_set/train/eecs442_0027.jpg  \n",
            "  inflating: starter_set/train/eecs442_0027.png  \n",
            "  inflating: starter_set/train/eecs442_0028.jpg  \n",
            "  inflating: starter_set/train/eecs442_0028.png  \n",
            "  inflating: starter_set/train/eecs442_0029.jpg  \n",
            "  inflating: starter_set/train/eecs442_0029.png  \n",
            "  inflating: starter_set/train/eecs442_0030.jpg  \n",
            "  inflating: starter_set/train/eecs442_0030.png  \n",
            "  inflating: starter_set/train/eecs442_0031.jpg  \n",
            "  inflating: starter_set/train/eecs442_0031.png  \n",
            "  inflating: starter_set/train/eecs442_0032.jpg  \n",
            "  inflating: starter_set/train/eecs442_0032.png  \n",
            "  inflating: starter_set/train/eecs442_0033.jpg  \n",
            "  inflating: starter_set/train/eecs442_0033.png  \n",
            "  inflating: starter_set/train/eecs442_0034.jpg  \n",
            "  inflating: starter_set/train/eecs442_0034.png  \n",
            "  inflating: starter_set/train/eecs442_0035.jpg  \n",
            "  inflating: starter_set/train/eecs442_0035.png  \n",
            "  inflating: starter_set/train/eecs442_0036.jpg  \n",
            "  inflating: starter_set/train/eecs442_0036.png  \n",
            "  inflating: starter_set/train/eecs442_0037.jpg  \n",
            "  inflating: starter_set/train/eecs442_0037.png  \n",
            "  inflating: starter_set/train/eecs442_0038.jpg  \n",
            "  inflating: starter_set/train/eecs442_0038.png  \n",
            "  inflating: starter_set/train/eecs442_0039.jpg  \n",
            "  inflating: starter_set/train/eecs442_0039.png  \n",
            "  inflating: starter_set/train/eecs442_0040.jpg  \n",
            "  inflating: starter_set/train/eecs442_0040.png  \n",
            "  inflating: starter_set/train/eecs442_0041.jpg  \n",
            "  inflating: starter_set/train/eecs442_0041.png  \n",
            "  inflating: starter_set/train/eecs442_0042.jpg  \n",
            "  inflating: starter_set/train/eecs442_0042.png  \n",
            "  inflating: starter_set/train/eecs442_0043.jpg  \n",
            "  inflating: starter_set/train/eecs442_0043.png  \n",
            "  inflating: starter_set/train/eecs442_0044.jpg  \n",
            "  inflating: starter_set/train/eecs442_0044.png  \n",
            "  inflating: starter_set/train/eecs442_0045.jpg  \n",
            "  inflating: starter_set/train/eecs442_0045.png  \n",
            "  inflating: starter_set/train/eecs442_0046.jpg  \n",
            "  inflating: starter_set/train/eecs442_0046.png  \n",
            "  inflating: starter_set/train/eecs442_0047.jpg  \n",
            "  inflating: starter_set/train/eecs442_0047.png  \n",
            "  inflating: starter_set/train/eecs442_0048.jpg  \n",
            "  inflating: starter_set/train/eecs442_0048.png  \n",
            "  inflating: starter_set/train/eecs442_0049.jpg  \n",
            "  inflating: starter_set/train/eecs442_0049.png  \n",
            "  inflating: starter_set/train/eecs442_0050.jpg  \n",
            "  inflating: starter_set/train/eecs442_0050.png  \n",
            "  inflating: starter_set/train/eecs442_0051.jpg  \n",
            "  inflating: starter_set/train/eecs442_0051.png  \n",
            "  inflating: starter_set/train/eecs442_0052.jpg  \n",
            "  inflating: starter_set/train/eecs442_0052.png  \n",
            "  inflating: starter_set/train/eecs442_0053.jpg  \n",
            "  inflating: starter_set/train/eecs442_0053.png  \n",
            "  inflating: starter_set/train/eecs442_0054.jpg  \n",
            "  inflating: starter_set/train/eecs442_0054.png  \n",
            "  inflating: starter_set/train/eecs442_0055.jpg  \n",
            "  inflating: starter_set/train/eecs442_0055.png  \n",
            "  inflating: starter_set/train/eecs442_0056.jpg  \n",
            "  inflating: starter_set/train/eecs442_0056.png  \n",
            "  inflating: starter_set/train/eecs442_0057.jpg  \n",
            "  inflating: starter_set/train/eecs442_0057.png  \n",
            "  inflating: starter_set/train/eecs442_0058.jpg  \n",
            "  inflating: starter_set/train/eecs442_0058.png  \n",
            "  inflating: starter_set/train/eecs442_0059.jpg  \n",
            "  inflating: starter_set/train/eecs442_0059.png  \n",
            "  inflating: starter_set/train/eecs442_0060.jpg  \n",
            "  inflating: starter_set/train/eecs442_0060.png  \n",
            "  inflating: starter_set/train/eecs442_0061.jpg  \n",
            "  inflating: starter_set/train/eecs442_0061.png  \n",
            "  inflating: starter_set/train/eecs442_0062.jpg  \n",
            "  inflating: starter_set/train/eecs442_0062.png  \n",
            "  inflating: starter_set/train/eecs442_0063.jpg  \n",
            "  inflating: starter_set/train/eecs442_0063.png  \n",
            "  inflating: starter_set/train/eecs442_0064.jpg  \n",
            "  inflating: starter_set/train/eecs442_0064.png  \n",
            "  inflating: starter_set/train/eecs442_0065.jpg  \n",
            "  inflating: starter_set/train/eecs442_0065.png  \n",
            "  inflating: starter_set/train/eecs442_0066.jpg  \n",
            "  inflating: starter_set/train/eecs442_0066.png  \n",
            "  inflating: starter_set/train/eecs442_0067.jpg  \n",
            "  inflating: starter_set/train/eecs442_0067.png  \n",
            "  inflating: starter_set/train/eecs442_0068.jpg  \n",
            "  inflating: starter_set/train/eecs442_0068.png  \n",
            "  inflating: starter_set/train/eecs442_0069.jpg  \n",
            "  inflating: starter_set/train/eecs442_0069.png  \n",
            "  inflating: starter_set/train/eecs442_0070.jpg  \n",
            "  inflating: starter_set/train/eecs442_0070.png  \n",
            "  inflating: starter_set/train/eecs442_0071.jpg  \n",
            "  inflating: starter_set/train/eecs442_0071.png  \n",
            "  inflating: starter_set/train/eecs442_0072.jpg  \n",
            "  inflating: starter_set/train/eecs442_0072.png  \n",
            "  inflating: starter_set/train/eecs442_0073.jpg  \n",
            "  inflating: starter_set/train/eecs442_0073.png  \n",
            "  inflating: starter_set/train/eecs442_0074.jpg  \n",
            "  inflating: starter_set/train/eecs442_0074.png  \n",
            "  inflating: starter_set/train/eecs442_0075.jpg  \n",
            "  inflating: starter_set/train/eecs442_0075.png  \n",
            "  inflating: starter_set/train/eecs442_0076.jpg  \n",
            "  inflating: starter_set/train/eecs442_0076.png  \n",
            "  inflating: starter_set/train/eecs442_0077.jpg  \n",
            "  inflating: starter_set/train/eecs442_0077.png  \n",
            "  inflating: starter_set/train/eecs442_0078.jpg  \n",
            "  inflating: starter_set/train/eecs442_0078.png  \n",
            "  inflating: starter_set/train/eecs442_0079.jpg  \n",
            "  inflating: starter_set/train/eecs442_0079.png  \n",
            "  inflating: starter_set/train/eecs442_0080.jpg  \n",
            "  inflating: starter_set/train/eecs442_0080.png  \n",
            "  inflating: starter_set/train/eecs442_0081.jpg  \n",
            "  inflating: starter_set/train/eecs442_0081.png  \n",
            "  inflating: starter_set/train/eecs442_0082.jpg  \n",
            "  inflating: starter_set/train/eecs442_0082.png  \n",
            "  inflating: starter_set/train/eecs442_0083.jpg  \n",
            "  inflating: starter_set/train/eecs442_0083.png  \n",
            "  inflating: starter_set/train/eecs442_0084.jpg  \n",
            "  inflating: starter_set/train/eecs442_0084.png  \n",
            "  inflating: starter_set/train/eecs442_0085.jpg  \n",
            "  inflating: starter_set/train/eecs442_0085.png  \n",
            "  inflating: starter_set/train/eecs442_0086.jpg  \n",
            "  inflating: starter_set/train/eecs442_0086.png  \n",
            "  inflating: starter_set/train/eecs442_0087.jpg  \n",
            "  inflating: starter_set/train/eecs442_0087.png  \n",
            "  inflating: starter_set/train/eecs442_0088.jpg  \n",
            "  inflating: starter_set/train/eecs442_0088.png  \n",
            "  inflating: starter_set/train/eecs442_0089.jpg  \n",
            "  inflating: starter_set/train/eecs442_0089.png  \n",
            "  inflating: starter_set/train/eecs442_0090.jpg  \n",
            " extracting: starter_set/train/eecs442_0090.png  \n",
            "  inflating: starter_set/train/eecs442_0091.jpg  \n",
            "  inflating: starter_set/train/eecs442_0091.png  \n",
            "  inflating: starter_set/train/eecs442_0092.jpg  \n",
            "  inflating: starter_set/train/eecs442_0092.png  \n",
            "  inflating: starter_set/train/eecs442_0093.jpg  \n",
            "  inflating: starter_set/train/eecs442_0093.png  \n",
            "  inflating: starter_set/train/eecs442_0094.jpg  \n",
            "  inflating: starter_set/train/eecs442_0094.png  \n",
            "  inflating: starter_set/train/eecs442_0095.jpg  \n",
            "  inflating: starter_set/train/eecs442_0095.png  \n",
            "  inflating: starter_set/train/eecs442_0096.jpg  \n",
            "  inflating: starter_set/train/eecs442_0096.png  \n",
            "  inflating: starter_set/train/eecs442_0097.jpg  \n",
            "  inflating: starter_set/train/eecs442_0097.png  \n",
            "  inflating: starter_set/train/eecs442_0098.jpg  \n",
            "  inflating: starter_set/train/eecs442_0098.png  \n",
            "  inflating: starter_set/train/eecs442_0099.jpg  \n",
            "  inflating: starter_set/train/eecs442_0099.png  \n",
            "  inflating: starter_set/train/eecs442_0100.jpg  \n",
            "  inflating: starter_set/train/eecs442_0100.png  \n",
            "  inflating: starter_set/train/eecs442_0101.jpg  \n",
            "  inflating: starter_set/train/eecs442_0101.png  \n",
            "  inflating: starter_set/train/eecs442_0102.jpg  \n",
            "  inflating: starter_set/train/eecs442_0102.png  \n",
            "  inflating: starter_set/train/eecs442_0103.jpg  \n",
            "  inflating: starter_set/train/eecs442_0103.png  \n",
            "  inflating: starter_set/train/eecs442_0104.jpg  \n",
            "  inflating: starter_set/train/eecs442_0104.png  \n",
            "  inflating: starter_set/train/eecs442_0105.jpg  \n",
            "  inflating: starter_set/train/eecs442_0105.png  \n",
            "  inflating: starter_set/train/eecs442_0106.jpg  \n",
            "  inflating: starter_set/train/eecs442_0106.png  \n",
            "  inflating: starter_set/train/eecs442_0107.jpg  \n",
            "  inflating: starter_set/train/eecs442_0107.png  \n",
            "  inflating: starter_set/train/eecs442_0108.jpg  \n",
            "  inflating: starter_set/train/eecs442_0108.png  \n",
            "  inflating: starter_set/train/eecs442_0109.jpg  \n",
            "  inflating: starter_set/train/eecs442_0109.png  \n",
            "  inflating: starter_set/train/eecs442_0110.jpg  \n",
            "  inflating: starter_set/train/eecs442_0110.png  \n",
            "  inflating: starter_set/train/eecs442_0111.jpg  \n",
            "  inflating: starter_set/train/eecs442_0111.png  \n",
            "  inflating: starter_set/train/eecs442_0112.jpg  \n",
            "  inflating: starter_set/train/eecs442_0112.png  \n",
            "  inflating: starter_set/train/eecs442_0113.jpg  \n",
            "  inflating: starter_set/train/eecs442_0113.png  \n",
            "  inflating: starter_set/train/eecs442_0114.jpg  \n",
            "  inflating: starter_set/train/eecs442_0114.png  \n",
            "  inflating: starter_set/train/eecs442_0115.jpg  \n",
            "  inflating: starter_set/train/eecs442_0115.png  \n",
            "  inflating: starter_set/train/eecs442_0116.jpg  \n",
            "  inflating: starter_set/train/eecs442_0116.png  \n",
            "  inflating: starter_set/train/eecs442_0117.jpg  \n",
            "  inflating: starter_set/train/eecs442_0117.png  \n",
            "  inflating: starter_set/train/eecs442_0118.jpg  \n",
            "  inflating: starter_set/train/eecs442_0118.png  \n",
            "  inflating: starter_set/train/eecs442_0119.jpg  \n",
            "  inflating: starter_set/train/eecs442_0119.png  \n",
            "  inflating: starter_set/train/eecs442_0120.jpg  \n",
            "  inflating: starter_set/train/eecs442_0120.png  \n",
            "  inflating: starter_set/train/eecs442_0121.jpg  \n",
            "  inflating: starter_set/train/eecs442_0121.png  \n",
            "  inflating: starter_set/train/eecs442_0122.jpg  \n",
            "  inflating: starter_set/train/eecs442_0122.png  \n",
            "  inflating: starter_set/train/eecs442_0123.jpg  \n",
            "  inflating: starter_set/train/eecs442_0123.png  \n",
            "  inflating: starter_set/train/eecs442_0124.jpg  \n",
            "  inflating: starter_set/train/eecs442_0124.png  \n",
            "  inflating: starter_set/train/eecs442_0125.jpg  \n",
            "  inflating: starter_set/train/eecs442_0125.png  \n",
            "  inflating: starter_set/train/eecs442_0126.jpg  \n",
            "  inflating: starter_set/train/eecs442_0126.png  \n",
            "  inflating: starter_set/train/eecs442_0127.jpg  \n",
            "  inflating: starter_set/train/eecs442_0127.png  \n",
            "  inflating: starter_set/train/eecs442_0128.jpg  \n",
            "  inflating: starter_set/train/eecs442_0128.png  \n",
            "  inflating: starter_set/train/eecs442_0129.jpg  \n",
            "  inflating: starter_set/train/eecs442_0129.png  \n",
            "  inflating: starter_set/train/eecs442_0130.jpg  \n",
            "  inflating: starter_set/train/eecs442_0130.png  \n",
            "  inflating: starter_set/train/eecs442_0131.jpg  \n",
            "  inflating: starter_set/train/eecs442_0131.png  \n",
            "  inflating: starter_set/train/eecs442_0132.jpg  \n",
            "  inflating: starter_set/train/eecs442_0132.png  \n",
            "  inflating: starter_set/train/eecs442_0133.jpg  \n",
            "  inflating: starter_set/train/eecs442_0133.png  \n",
            "  inflating: starter_set/train/eecs442_0134.jpg  \n",
            "  inflating: starter_set/train/eecs442_0134.png  \n",
            "  inflating: starter_set/train/eecs442_0135.jpg  \n",
            "  inflating: starter_set/train/eecs442_0135.png  \n",
            "  inflating: starter_set/train/eecs442_0136.jpg  \n",
            "  inflating: starter_set/train/eecs442_0136.png  \n",
            "  inflating: starter_set/train/eecs442_0137.jpg  \n",
            "  inflating: starter_set/train/eecs442_0137.png  \n",
            "  inflating: starter_set/train/eecs442_0138.jpg  \n",
            "  inflating: starter_set/train/eecs442_0138.png  \n",
            "  inflating: starter_set/train/eecs442_0139.jpg  \n",
            "  inflating: starter_set/train/eecs442_0139.png  \n",
            "  inflating: starter_set/train/eecs442_0140.jpg  \n",
            "  inflating: starter_set/train/eecs442_0140.png  \n",
            "  inflating: starter_set/train/eecs442_0141.jpg  \n",
            "  inflating: starter_set/train/eecs442_0141.png  \n",
            "  inflating: starter_set/train/eecs442_0142.jpg  \n",
            "  inflating: starter_set/train/eecs442_0142.png  \n",
            "  inflating: starter_set/train/eecs442_0143.jpg  \n",
            "  inflating: starter_set/train/eecs442_0143.png  \n",
            "  inflating: starter_set/train/eecs442_0144.jpg  \n",
            "  inflating: starter_set/train/eecs442_0144.png  \n",
            "  inflating: starter_set/train/eecs442_0145.jpg  \n",
            "  inflating: starter_set/train/eecs442_0145.png  \n",
            "  inflating: starter_set/train/eecs442_0146.jpg  \n",
            "  inflating: starter_set/train/eecs442_0146.png  \n",
            "  inflating: starter_set/train/eecs442_0147.jpg  \n",
            "  inflating: starter_set/train/eecs442_0147.png  \n",
            "  inflating: starter_set/train/eecs442_0148.jpg  \n",
            "  inflating: starter_set/train/eecs442_0148.png  \n",
            "  inflating: starter_set/train/eecs442_0149.jpg  \n",
            "  inflating: starter_set/train/eecs442_0149.png  \n",
            "  inflating: starter_set/train/eecs442_0150.jpg  \n",
            "  inflating: starter_set/train/eecs442_0150.png  \n",
            "  inflating: starter_set/train/eecs442_0151.jpg  \n",
            "  inflating: starter_set/train/eecs442_0151.png  \n",
            "  inflating: starter_set/train/eecs442_0152.jpg  \n",
            "  inflating: starter_set/train/eecs442_0152.png  \n",
            "  inflating: starter_set/train/eecs442_0153.jpg  \n",
            "  inflating: starter_set/train/eecs442_0153.png  \n",
            "  inflating: starter_set/train/eecs442_0154.jpg  \n",
            "  inflating: starter_set/train/eecs442_0154.png  \n",
            "  inflating: starter_set/train/eecs442_0155.jpg  \n",
            "  inflating: starter_set/train/eecs442_0155.png  \n",
            "  inflating: starter_set/train/eecs442_0156.jpg  \n",
            "  inflating: starter_set/train/eecs442_0156.png  \n",
            "  inflating: starter_set/train/eecs442_0157.jpg  \n",
            "  inflating: starter_set/train/eecs442_0157.png  \n",
            "  inflating: starter_set/train/eecs442_0158.jpg  \n",
            "  inflating: starter_set/train/eecs442_0158.png  \n",
            "  inflating: starter_set/train/eecs442_0159.jpg  \n",
            "  inflating: starter_set/train/eecs442_0159.png  \n",
            "  inflating: starter_set/train/eecs442_0160.jpg  \n",
            "  inflating: starter_set/train/eecs442_0160.png  \n",
            "  inflating: starter_set/train/eecs442_0161.jpg  \n",
            "  inflating: starter_set/train/eecs442_0161.png  \n",
            "  inflating: starter_set/train/eecs442_0162.jpg  \n",
            "  inflating: starter_set/train/eecs442_0162.png  \n",
            "  inflating: starter_set/train/eecs442_0163.jpg  \n",
            "  inflating: starter_set/train/eecs442_0163.png  \n",
            "  inflating: starter_set/train/eecs442_0164.jpg  \n",
            "  inflating: starter_set/train/eecs442_0164.png  \n",
            "  inflating: starter_set/train/eecs442_0165.jpg  \n",
            "  inflating: starter_set/train/eecs442_0165.png  \n",
            "  inflating: starter_set/train/eecs442_0166.jpg  \n",
            "  inflating: starter_set/train/eecs442_0166.png  \n",
            "  inflating: starter_set/train/eecs442_0167.jpg  \n",
            "  inflating: starter_set/train/eecs442_0167.png  \n",
            "  inflating: starter_set/train/eecs442_0168.jpg  \n",
            "  inflating: starter_set/train/eecs442_0168.png  \n",
            "  inflating: starter_set/train/eecs442_0169.jpg  \n",
            "  inflating: starter_set/train/eecs442_0169.png  \n",
            "  inflating: starter_set/train/eecs442_0170.jpg  \n",
            "  inflating: starter_set/train/eecs442_0170.png  \n",
            "  inflating: starter_set/train/eecs442_0171.jpg  \n",
            "  inflating: starter_set/train/eecs442_0171.png  \n",
            "  inflating: starter_set/train/eecs442_0172.jpg  \n",
            "  inflating: starter_set/train/eecs442_0172.png  \n",
            "  inflating: starter_set/train/eecs442_0173.jpg  \n",
            "  inflating: starter_set/train/eecs442_0173.png  \n",
            "  inflating: starter_set/train/eecs442_0174.jpg  \n",
            "  inflating: starter_set/train/eecs442_0174.png  \n",
            "  inflating: starter_set/train/eecs442_0175.jpg  \n",
            "  inflating: starter_set/train/eecs442_0175.png  \n",
            "  inflating: starter_set/train/eecs442_0176.jpg  \n",
            "  inflating: starter_set/train/eecs442_0176.png  \n",
            "  inflating: starter_set/train/eecs442_0177.jpg  \n",
            "  inflating: starter_set/train/eecs442_0177.png  \n",
            "  inflating: starter_set/train/eecs442_0178.jpg  \n",
            "  inflating: starter_set/train/eecs442_0178.png  \n",
            "  inflating: starter_set/train/eecs442_0179.jpg  \n",
            "  inflating: starter_set/train/eecs442_0179.png  \n",
            "  inflating: starter_set/train/eecs442_0180.jpg  \n",
            "  inflating: starter_set/train/eecs442_0180.png  \n",
            "  inflating: starter_set/train/eecs442_0181.jpg  \n",
            "  inflating: starter_set/train/eecs442_0181.png  \n",
            "  inflating: starter_set/train/eecs442_0182.jpg  \n",
            "  inflating: starter_set/train/eecs442_0182.png  \n",
            "  inflating: starter_set/train/eecs442_0183.jpg  \n",
            "  inflating: starter_set/train/eecs442_0183.png  \n",
            "  inflating: starter_set/train/eecs442_0184.jpg  \n",
            "  inflating: starter_set/train/eecs442_0184.png  \n",
            "  inflating: starter_set/train/eecs442_0185.jpg  \n",
            "  inflating: starter_set/train/eecs442_0185.png  \n",
            "  inflating: starter_set/train/eecs442_0186.jpg  \n",
            "  inflating: starter_set/train/eecs442_0186.png  \n",
            "  inflating: starter_set/train/eecs442_0187.jpg  \n",
            "  inflating: starter_set/train/eecs442_0187.png  \n",
            "  inflating: starter_set/train/eecs442_0188.jpg  \n",
            "  inflating: starter_set/train/eecs442_0188.png  \n",
            "  inflating: starter_set/train/eecs442_0189.jpg  \n",
            "  inflating: starter_set/train/eecs442_0189.png  \n",
            "  inflating: starter_set/train/eecs442_0190.jpg  \n",
            "  inflating: starter_set/train/eecs442_0190.png  \n",
            "  inflating: starter_set/train/eecs442_0191.jpg  \n",
            "  inflating: starter_set/train/eecs442_0191.png  \n",
            "  inflating: starter_set/train/eecs442_0192.jpg  \n",
            "  inflating: starter_set/train/eecs442_0192.png  \n",
            "  inflating: starter_set/train/eecs442_0193.jpg  \n",
            "  inflating: starter_set/train/eecs442_0193.png  \n",
            "  inflating: starter_set/train/eecs442_0194.jpg  \n",
            "  inflating: starter_set/train/eecs442_0194.png  \n",
            "  inflating: starter_set/train/eecs442_0195.jpg  \n",
            "  inflating: starter_set/train/eecs442_0195.png  \n",
            "  inflating: starter_set/train/eecs442_0196.jpg  \n",
            "  inflating: starter_set/train/eecs442_0196.png  \n",
            "  inflating: starter_set/train/eecs442_0197.jpg  \n",
            "  inflating: starter_set/train/eecs442_0197.png  \n",
            "  inflating: starter_set/train/eecs442_0198.jpg  \n",
            "  inflating: starter_set/train/eecs442_0198.png  \n",
            "  inflating: starter_set/train/eecs442_0199.jpg  \n",
            "  inflating: starter_set/train/eecs442_0199.png  \n",
            "  inflating: starter_set/train/eecs442_0200.jpg  \n",
            "  inflating: starter_set/train/eecs442_0200.png  \n",
            "  inflating: starter_set/train/eecs442_0201.jpg  \n",
            "  inflating: starter_set/train/eecs442_0201.png  \n",
            "  inflating: starter_set/train/eecs442_0202.jpg  \n",
            "  inflating: starter_set/train/eecs442_0202.png  \n",
            "  inflating: starter_set/train/eecs442_0203.jpg  \n",
            "  inflating: starter_set/train/eecs442_0203.png  \n",
            "  inflating: starter_set/train/eecs442_0204.jpg  \n",
            "  inflating: starter_set/train/eecs442_0204.png  \n",
            "  inflating: starter_set/train/eecs442_0205.jpg  \n",
            "  inflating: starter_set/train/eecs442_0205.png  \n",
            "  inflating: starter_set/train/eecs442_0206.jpg  \n",
            "  inflating: starter_set/train/eecs442_0206.png  \n",
            "  inflating: starter_set/train/eecs442_0207.jpg  \n",
            "  inflating: starter_set/train/eecs442_0207.png  \n",
            "  inflating: starter_set/train/eecs442_0208.jpg  \n",
            "  inflating: starter_set/train/eecs442_0208.png  \n",
            "  inflating: starter_set/train/eecs442_0209.jpg  \n",
            "  inflating: starter_set/train/eecs442_0209.png  \n",
            "  inflating: starter_set/train/eecs442_0210.jpg  \n",
            "  inflating: starter_set/train/eecs442_0210.png  \n",
            "  inflating: starter_set/train/eecs442_0211.jpg  \n",
            "  inflating: starter_set/train/eecs442_0211.png  \n",
            "  inflating: starter_set/train/eecs442_0212.jpg  \n",
            "  inflating: starter_set/train/eecs442_0212.png  \n",
            "  inflating: starter_set/train/eecs442_0213.jpg  \n",
            "  inflating: starter_set/train/eecs442_0213.png  \n",
            "  inflating: starter_set/train/eecs442_0214.jpg  \n",
            "  inflating: starter_set/train/eecs442_0214.png  \n",
            "  inflating: starter_set/train/eecs442_0215.jpg  \n",
            "  inflating: starter_set/train/eecs442_0215.png  \n",
            "  inflating: starter_set/train/eecs442_0216.jpg  \n",
            "  inflating: starter_set/train/eecs442_0216.png  \n",
            "  inflating: starter_set/train/eecs442_0217.jpg  \n",
            "  inflating: starter_set/train/eecs442_0217.png  \n",
            "  inflating: starter_set/train/eecs442_0218.jpg  \n",
            "  inflating: starter_set/train/eecs442_0218.png  \n",
            "  inflating: starter_set/train/eecs442_0219.jpg  \n",
            "  inflating: starter_set/train/eecs442_0219.png  \n",
            "  inflating: starter_set/train/eecs442_0220.jpg  \n",
            "  inflating: starter_set/train/eecs442_0220.png  \n",
            "  inflating: starter_set/train/eecs442_0221.jpg  \n",
            "  inflating: starter_set/train/eecs442_0221.png  \n",
            "  inflating: starter_set/train/eecs442_0222.jpg  \n",
            "  inflating: starter_set/train/eecs442_0222.png  \n",
            "  inflating: starter_set/train/eecs442_0223.jpg  \n",
            "  inflating: starter_set/train/eecs442_0223.png  \n",
            "  inflating: starter_set/train/eecs442_0224.jpg  \n",
            "  inflating: starter_set/train/eecs442_0224.png  \n",
            "  inflating: starter_set/train/eecs442_0225.jpg  \n",
            "  inflating: starter_set/train/eecs442_0225.png  \n",
            "  inflating: starter_set/train/eecs442_0226.jpg  \n",
            "  inflating: starter_set/train/eecs442_0226.png  \n",
            "  inflating: starter_set/train/eecs442_0227.jpg  \n",
            "  inflating: starter_set/train/eecs442_0227.png  \n",
            "  inflating: starter_set/train/eecs442_0228.jpg  \n",
            "  inflating: starter_set/train/eecs442_0228.png  \n",
            "  inflating: starter_set/train/eecs442_0229.jpg  \n",
            "  inflating: starter_set/train/eecs442_0229.png  \n",
            "  inflating: starter_set/train/eecs442_0230.jpg  \n",
            "  inflating: starter_set/train/eecs442_0230.png  \n",
            "  inflating: starter_set/train/eecs442_0231.jpg  \n",
            "  inflating: starter_set/train/eecs442_0231.png  \n",
            "  inflating: starter_set/train/eecs442_0232.jpg  \n",
            "  inflating: starter_set/train/eecs442_0232.png  \n",
            "  inflating: starter_set/train/eecs442_0233.jpg  \n",
            "  inflating: starter_set/train/eecs442_0233.png  \n",
            "  inflating: starter_set/train/eecs442_0234.jpg  \n",
            "  inflating: starter_set/train/eecs442_0234.png  \n",
            "  inflating: starter_set/train/eecs442_0235.jpg  \n",
            "  inflating: starter_set/train/eecs442_0235.png  \n",
            "  inflating: starter_set/train/eecs442_0236.jpg  \n",
            "  inflating: starter_set/train/eecs442_0236.png  \n",
            "  inflating: starter_set/train/eecs442_0237.jpg  \n",
            "  inflating: starter_set/train/eecs442_0237.png  \n",
            "  inflating: starter_set/train/eecs442_0238.jpg  \n",
            "  inflating: starter_set/train/eecs442_0238.png  \n",
            "  inflating: starter_set/train/eecs442_0239.jpg  \n",
            "  inflating: starter_set/train/eecs442_0239.png  \n",
            "  inflating: starter_set/train/eecs442_0240.jpg  \n",
            "  inflating: starter_set/train/eecs442_0240.png  \n",
            "  inflating: starter_set/train/eecs442_0241.jpg  \n",
            "  inflating: starter_set/train/eecs442_0241.png  \n",
            "  inflating: starter_set/train/eecs442_0242.jpg  \n",
            "  inflating: starter_set/train/eecs442_0242.png  \n",
            "  inflating: starter_set/train/eecs442_0243.jpg  \n",
            "  inflating: starter_set/train/eecs442_0243.png  \n",
            "  inflating: starter_set/train/eecs442_0244.jpg  \n",
            "  inflating: starter_set/train/eecs442_0244.png  \n",
            "  inflating: starter_set/train/eecs442_0245.jpg  \n",
            "  inflating: starter_set/train/eecs442_0245.png  \n",
            "  inflating: starter_set/train/eecs442_0246.jpg  \n",
            "  inflating: starter_set/train/eecs442_0246.png  \n",
            "  inflating: starter_set/train/eecs442_0247.jpg  \n",
            "  inflating: starter_set/train/eecs442_0247.png  \n",
            "  inflating: starter_set/train/eecs442_0248.jpg  \n",
            "  inflating: starter_set/train/eecs442_0248.png  \n",
            "  inflating: starter_set/train/eecs442_0249.jpg  \n",
            "  inflating: starter_set/train/eecs442_0249.png  \n",
            "  inflating: starter_set/train/eecs442_0250.jpg  \n",
            "  inflating: starter_set/train/eecs442_0250.png  \n",
            "  inflating: starter_set/train/eecs442_0251.jpg  \n",
            "  inflating: starter_set/train/eecs442_0251.png  \n",
            "  inflating: starter_set/train/eecs442_0252.jpg  \n",
            "  inflating: starter_set/train/eecs442_0252.png  \n",
            "  inflating: starter_set/train/eecs442_0253.jpg  \n",
            "  inflating: starter_set/train/eecs442_0253.png  \n",
            "  inflating: starter_set/train/eecs442_0254.jpg  \n",
            "  inflating: starter_set/train/eecs442_0254.png  \n",
            "  inflating: starter_set/train/eecs442_0255.jpg  \n",
            "  inflating: starter_set/train/eecs442_0255.png  \n",
            "  inflating: starter_set/train/eecs442_0256.jpg  \n",
            "  inflating: starter_set/train/eecs442_0256.png  \n",
            "  inflating: starter_set/train/eecs442_0257.jpg  \n",
            "  inflating: starter_set/train/eecs442_0257.png  \n",
            "  inflating: starter_set/train/eecs442_0258.jpg  \n",
            "  inflating: starter_set/train/eecs442_0258.png  \n",
            "  inflating: starter_set/train/eecs442_0259.jpg  \n",
            "  inflating: starter_set/train/eecs442_0259.png  \n",
            "  inflating: starter_set/train/eecs442_0260.jpg  \n",
            "  inflating: starter_set/train/eecs442_0260.png  \n",
            "  inflating: starter_set/train/eecs442_0261.jpg  \n",
            "  inflating: starter_set/train/eecs442_0261.png  \n",
            "  inflating: starter_set/train/eecs442_0262.jpg  \n",
            "  inflating: starter_set/train/eecs442_0262.png  \n",
            "  inflating: starter_set/train/eecs442_0263.jpg  \n",
            "  inflating: starter_set/train/eecs442_0263.png  \n",
            "  inflating: starter_set/train/eecs442_0264.jpg  \n",
            "  inflating: starter_set/train/eecs442_0264.png  \n",
            "  inflating: starter_set/train/eecs442_0265.jpg  \n",
            "  inflating: starter_set/train/eecs442_0265.png  \n",
            "  inflating: starter_set/train/eecs442_0266.jpg  \n",
            "  inflating: starter_set/train/eecs442_0266.png  \n",
            "  inflating: starter_set/train/eecs442_0267.jpg  \n",
            "  inflating: starter_set/train/eecs442_0267.png  \n",
            "  inflating: starter_set/train/eecs442_0268.jpg  \n",
            "  inflating: starter_set/train/eecs442_0268.png  \n",
            "  inflating: starter_set/train/eecs442_0269.jpg  \n",
            "  inflating: starter_set/train/eecs442_0269.png  \n",
            "  inflating: starter_set/train/eecs442_0270.jpg  \n",
            "  inflating: starter_set/train/eecs442_0270.png  \n",
            "  inflating: starter_set/train/eecs442_0271.jpg  \n",
            "  inflating: starter_set/train/eecs442_0271.png  \n",
            "  inflating: starter_set/train/eecs442_0272.jpg  \n",
            "  inflating: starter_set/train/eecs442_0272.png  \n",
            "  inflating: starter_set/train/eecs442_0273.jpg  \n",
            "  inflating: starter_set/train/eecs442_0273.png  \n",
            "  inflating: starter_set/train/eecs442_0274.jpg  \n",
            "  inflating: starter_set/train/eecs442_0274.png  \n",
            "  inflating: starter_set/train/eecs442_0275.jpg  \n",
            "  inflating: starter_set/train/eecs442_0275.png  \n",
            "  inflating: starter_set/train/eecs442_0276.jpg  \n",
            "  inflating: starter_set/train/eecs442_0276.png  \n",
            "  inflating: starter_set/train/eecs442_0277.jpg  \n",
            "  inflating: starter_set/train/eecs442_0277.png  \n",
            "  inflating: starter_set/train/eecs442_0278.jpg  \n",
            "  inflating: starter_set/train/eecs442_0278.png  \n",
            "  inflating: starter_set/train/eecs442_0279.jpg  \n",
            "  inflating: starter_set/train/eecs442_0279.png  \n",
            "  inflating: starter_set/train/eecs442_0280.jpg  \n",
            "  inflating: starter_set/train/eecs442_0280.png  \n",
            "  inflating: starter_set/train/eecs442_0281.jpg  \n",
            "  inflating: starter_set/train/eecs442_0281.png  \n",
            "  inflating: starter_set/train/eecs442_0282.jpg  \n",
            "  inflating: starter_set/train/eecs442_0282.png  \n",
            "  inflating: starter_set/train/eecs442_0283.jpg  \n",
            "  inflating: starter_set/train/eecs442_0283.png  \n",
            "  inflating: starter_set/train/eecs442_0284.jpg  \n",
            "  inflating: starter_set/train/eecs442_0284.png  \n",
            "  inflating: starter_set/train/eecs442_0285.jpg  \n",
            "  inflating: starter_set/train/eecs442_0285.png  \n",
            "  inflating: starter_set/train/eecs442_0286.jpg  \n",
            "  inflating: starter_set/train/eecs442_0286.png  \n",
            "  inflating: starter_set/train/eecs442_0287.jpg  \n",
            "  inflating: starter_set/train/eecs442_0287.png  \n",
            "  inflating: starter_set/train/eecs442_0288.jpg  \n",
            "  inflating: starter_set/train/eecs442_0288.png  \n",
            "  inflating: starter_set/train/eecs442_0289.jpg  \n",
            "  inflating: starter_set/train/eecs442_0289.png  \n",
            "  inflating: starter_set/train/eecs442_0290.jpg  \n",
            "  inflating: starter_set/train/eecs442_0290.png  \n",
            "  inflating: starter_set/train/eecs442_0291.jpg  \n",
            "  inflating: starter_set/train/eecs442_0291.png  \n",
            "  inflating: starter_set/train/eecs442_0292.jpg  \n",
            "  inflating: starter_set/train/eecs442_0292.png  \n",
            "  inflating: starter_set/train/eecs442_0293.jpg  \n",
            "  inflating: starter_set/train/eecs442_0293.png  \n",
            "  inflating: starter_set/train/eecs442_0294.jpg  \n",
            "  inflating: starter_set/train/eecs442_0294.png  \n",
            "  inflating: starter_set/train/eecs442_0295.jpg  \n",
            "  inflating: starter_set/train/eecs442_0295.png  \n",
            "  inflating: starter_set/train/eecs442_0296.jpg  \n",
            "  inflating: starter_set/train/eecs442_0296.png  \n",
            "  inflating: starter_set/train/eecs442_0297.jpg  \n",
            "  inflating: starter_set/train/eecs442_0297.png  \n",
            "  inflating: starter_set/train/eecs442_0298.jpg  \n",
            "  inflating: starter_set/train/eecs442_0298.png  \n",
            "  inflating: starter_set/train/eecs442_0299.jpg  \n",
            "  inflating: starter_set/train/eecs442_0299.png  \n",
            "  inflating: starter_set/train/eecs442_0300.jpg  \n",
            "  inflating: starter_set/train/eecs442_0300.png  \n",
            "  inflating: starter_set/train/eecs442_0301.jpg  \n",
            "  inflating: starter_set/train/eecs442_0301.png  \n",
            "  inflating: starter_set/train/eecs442_0302.jpg  \n",
            "  inflating: starter_set/train/eecs442_0302.png  \n",
            "  inflating: starter_set/train/eecs442_0303.jpg  \n",
            "  inflating: starter_set/train/eecs442_0303.png  \n",
            "  inflating: starter_set/train/eecs442_0304.jpg  \n",
            "  inflating: starter_set/train/eecs442_0304.png  \n",
            "  inflating: starter_set/train/eecs442_0305.jpg  \n",
            "  inflating: starter_set/train/eecs442_0305.png  \n",
            "  inflating: starter_set/train/eecs442_0306.jpg  \n",
            "  inflating: starter_set/train/eecs442_0306.png  \n",
            "  inflating: starter_set/train/eecs442_0307.jpg  \n",
            "  inflating: starter_set/train/eecs442_0307.png  \n",
            "  inflating: starter_set/train/eecs442_0308.jpg  \n",
            "  inflating: starter_set/train/eecs442_0308.png  \n",
            "  inflating: starter_set/train/eecs442_0309.jpg  \n",
            "  inflating: starter_set/train/eecs442_0309.png  \n",
            "  inflating: starter_set/train/eecs442_0310.jpg  \n",
            "  inflating: starter_set/train/eecs442_0310.png  \n",
            "  inflating: starter_set/train/eecs442_0311.jpg  \n",
            "  inflating: starter_set/train/eecs442_0311.png  \n",
            "  inflating: starter_set/train/eecs442_0312.jpg  \n",
            "  inflating: starter_set/train/eecs442_0312.png  \n",
            "  inflating: starter_set/train/eecs442_0313.jpg  \n",
            "  inflating: starter_set/train/eecs442_0313.png  \n",
            "  inflating: starter_set/train/eecs442_0314.jpg  \n",
            "  inflating: starter_set/train/eecs442_0314.png  \n",
            "  inflating: starter_set/train/eecs442_0315.jpg  \n",
            "  inflating: starter_set/train/eecs442_0315.png  \n",
            "  inflating: starter_set/train/eecs442_0316.jpg  \n",
            "  inflating: starter_set/train/eecs442_0316.png  \n",
            "  inflating: starter_set/train/eecs442_0317.jpg  \n",
            "  inflating: starter_set/train/eecs442_0317.png  \n",
            "  inflating: starter_set/train/eecs442_0318.jpg  \n",
            "  inflating: starter_set/train/eecs442_0318.png  \n",
            "  inflating: starter_set/train/eecs442_0319.jpg  \n",
            "  inflating: starter_set/train/eecs442_0319.png  \n",
            "  inflating: starter_set/train/eecs442_0320.jpg  \n",
            "  inflating: starter_set/train/eecs442_0320.png  \n",
            "  inflating: starter_set/train/eecs442_0321.jpg  \n",
            "  inflating: starter_set/train/eecs442_0321.png  \n",
            "  inflating: starter_set/train/eecs442_0322.jpg  \n",
            " extracting: starter_set/train/eecs442_0322.png  \n",
            "  inflating: starter_set/train/eecs442_0323.jpg  \n",
            "  inflating: starter_set/train/eecs442_0323.png  \n",
            "  inflating: starter_set/train/eecs442_0324.jpg  \n",
            "  inflating: starter_set/train/eecs442_0324.png  \n",
            "  inflating: starter_set/train/eecs442_0325.jpg  \n",
            "  inflating: starter_set/train/eecs442_0325.png  \n",
            "  inflating: starter_set/train/eecs442_0326.jpg  \n",
            "  inflating: starter_set/train/eecs442_0326.png  \n",
            "  inflating: starter_set/train/eecs442_0327.jpg  \n",
            "  inflating: starter_set/train/eecs442_0327.png  \n",
            "  inflating: starter_set/train/eecs442_0328.jpg  \n",
            "  inflating: starter_set/train/eecs442_0328.png  \n",
            "  inflating: starter_set/train/eecs442_0329.jpg  \n",
            "  inflating: starter_set/train/eecs442_0329.png  \n",
            "  inflating: starter_set/train/eecs442_0330.jpg  \n",
            "  inflating: starter_set/train/eecs442_0330.png  \n",
            "  inflating: starter_set/train/eecs442_0331.jpg  \n",
            "  inflating: starter_set/train/eecs442_0331.png  \n",
            "  inflating: starter_set/train/eecs442_0332.jpg  \n",
            "  inflating: starter_set/train/eecs442_0332.png  \n",
            "  inflating: starter_set/train/eecs442_0333.jpg  \n",
            "  inflating: starter_set/train/eecs442_0333.png  \n",
            "  inflating: starter_set/train/eecs442_0334.jpg  \n",
            "  inflating: starter_set/train/eecs442_0334.png  \n",
            "  inflating: starter_set/train/eecs442_0335.jpg  \n",
            "  inflating: starter_set/train/eecs442_0335.png  \n",
            "  inflating: starter_set/train/eecs442_0336.jpg  \n",
            "  inflating: starter_set/train/eecs442_0336.png  \n",
            "  inflating: starter_set/train/eecs442_0337.jpg  \n",
            "  inflating: starter_set/train/eecs442_0337.png  \n",
            "  inflating: starter_set/train/eecs442_0338.jpg  \n",
            "  inflating: starter_set/train/eecs442_0338.png  \n",
            "  inflating: starter_set/train/eecs442_0339.jpg  \n",
            "  inflating: starter_set/train/eecs442_0339.png  \n",
            "  inflating: starter_set/train/eecs442_0340.jpg  \n",
            "  inflating: starter_set/train/eecs442_0340.png  \n",
            "  inflating: starter_set/train/eecs442_0341.jpg  \n",
            "  inflating: starter_set/train/eecs442_0341.png  \n",
            "  inflating: starter_set/train/eecs442_0342.jpg  \n",
            "  inflating: starter_set/train/eecs442_0342.png  \n",
            "  inflating: starter_set/train/eecs442_0343.jpg  \n",
            "  inflating: starter_set/train/eecs442_0343.png  \n",
            "  inflating: starter_set/train/eecs442_0344.jpg  \n",
            "  inflating: starter_set/train/eecs442_0344.png  \n",
            "  inflating: starter_set/train/eecs442_0345.jpg  \n",
            "  inflating: starter_set/train/eecs442_0345.png  \n",
            "  inflating: starter_set/train/eecs442_0346.jpg  \n",
            "  inflating: starter_set/train/eecs442_0346.png  \n",
            "  inflating: starter_set/train/eecs442_0347.jpg  \n",
            "  inflating: starter_set/train/eecs442_0347.png  \n",
            "  inflating: starter_set/train/eecs442_0348.jpg  \n",
            "  inflating: starter_set/train/eecs442_0348.png  \n",
            "  inflating: starter_set/train/eecs442_0349.jpg  \n",
            "  inflating: starter_set/train/eecs442_0349.png  \n",
            "  inflating: starter_set/train/eecs442_0350.jpg  \n",
            "  inflating: starter_set/train/eecs442_0350.png  \n",
            "  inflating: starter_set/train/eecs442_0351.jpg  \n",
            "  inflating: starter_set/train/eecs442_0351.png  \n",
            "  inflating: starter_set/train/eecs442_0352.jpg  \n",
            "  inflating: starter_set/train/eecs442_0352.png  \n",
            "  inflating: starter_set/train/eecs442_0353.jpg  \n",
            "  inflating: starter_set/train/eecs442_0353.png  \n",
            "  inflating: starter_set/train/eecs442_0354.jpg  \n",
            "  inflating: starter_set/train/eecs442_0354.png  \n",
            "  inflating: starter_set/train/eecs442_0355.jpg  \n",
            "  inflating: starter_set/train/eecs442_0355.png  \n",
            "  inflating: starter_set/train/eecs442_0356.jpg  \n",
            "  inflating: starter_set/train/eecs442_0356.png  \n",
            "  inflating: starter_set/train/eecs442_0357.jpg  \n",
            "  inflating: starter_set/train/eecs442_0357.png  \n",
            "  inflating: starter_set/train/eecs442_0358.jpg  \n",
            "  inflating: starter_set/train/eecs442_0358.png  \n",
            "  inflating: starter_set/train/eecs442_0359.jpg  \n",
            "  inflating: starter_set/train/eecs442_0359.png  \n",
            "  inflating: starter_set/train/eecs442_0360.jpg  \n",
            "  inflating: starter_set/train/eecs442_0360.png  \n",
            "  inflating: starter_set/train/eecs442_0361.jpg  \n",
            "  inflating: starter_set/train/eecs442_0361.png  \n",
            "  inflating: starter_set/train/eecs442_0362.jpg  \n",
            "  inflating: starter_set/train/eecs442_0362.png  \n",
            "  inflating: starter_set/train/eecs442_0363.jpg  \n",
            "  inflating: starter_set/train/eecs442_0363.png  \n",
            "  inflating: starter_set/train/eecs442_0364.jpg  \n",
            "  inflating: starter_set/train/eecs442_0364.png  \n",
            "  inflating: starter_set/train/eecs442_0365.jpg  \n",
            "  inflating: starter_set/train/eecs442_0365.png  \n",
            "  inflating: starter_set/train/eecs442_0366.jpg  \n",
            "  inflating: starter_set/train/eecs442_0366.png  \n",
            "  inflating: starter_set/train/eecs442_0367.jpg  \n",
            "  inflating: starter_set/train/eecs442_0367.png  \n",
            "  inflating: starter_set/train/eecs442_0368.jpg  \n",
            "  inflating: starter_set/train/eecs442_0368.png  \n",
            "  inflating: starter_set/train/eecs442_0369.jpg  \n",
            "  inflating: starter_set/train/eecs442_0369.png  \n",
            "  inflating: starter_set/train/eecs442_0370.jpg  \n",
            "  inflating: starter_set/train/eecs442_0370.png  \n",
            "  inflating: starter_set/train/eecs442_0371.jpg  \n",
            "  inflating: starter_set/train/eecs442_0371.png  \n",
            "  inflating: starter_set/train/eecs442_0372.jpg  \n",
            "  inflating: starter_set/train/eecs442_0372.png  \n",
            "  inflating: starter_set/train/eecs442_0373.jpg  \n",
            "  inflating: starter_set/train/eecs442_0373.png  \n",
            "  inflating: starter_set/train/eecs442_0374.jpg  \n",
            "  inflating: starter_set/train/eecs442_0374.png  \n",
            "  inflating: starter_set/train/eecs442_0375.jpg  \n",
            "  inflating: starter_set/train/eecs442_0375.png  \n",
            "  inflating: starter_set/train/eecs442_0376.jpg  \n",
            "  inflating: starter_set/train/eecs442_0376.png  \n",
            "  inflating: starter_set/train/eecs442_0377.jpg  \n",
            "  inflating: starter_set/train/eecs442_0377.png  \n",
            "  inflating: starter_set/train/eecs442_0378.jpg  \n",
            "  inflating: starter_set/train/eecs442_0378.png  \n",
            "  inflating: starter_set/train/eecs442_0379.jpg  \n",
            "  inflating: starter_set/train/eecs442_0379.png  \n",
            "  inflating: starter_set/train/eecs442_0380.jpg  \n",
            "  inflating: starter_set/train/eecs442_0380.png  \n",
            "  inflating: starter_set/train/eecs442_0381.jpg  \n",
            "  inflating: starter_set/train/eecs442_0381.png  \n",
            "  inflating: starter_set/train/eecs442_0382.jpg  \n",
            "  inflating: starter_set/train/eecs442_0382.png  \n",
            "  inflating: starter_set/train/eecs442_0383.jpg  \n",
            "  inflating: starter_set/train/eecs442_0383.png  \n",
            "  inflating: starter_set/train/eecs442_0384.jpg  \n",
            "  inflating: starter_set/train/eecs442_0384.png  \n",
            "  inflating: starter_set/train/eecs442_0385.jpg  \n",
            "  inflating: starter_set/train/eecs442_0385.png  \n",
            "  inflating: starter_set/train/eecs442_0386.jpg  \n",
            "  inflating: starter_set/train/eecs442_0386.png  \n",
            "  inflating: starter_set/train/eecs442_0387.jpg  \n",
            "  inflating: starter_set/train/eecs442_0387.png  \n",
            "  inflating: starter_set/train/eecs442_0388.jpg  \n",
            "  inflating: starter_set/train/eecs442_0388.png  \n",
            "  inflating: starter_set/train/eecs442_0389.jpg  \n",
            "  inflating: starter_set/train/eecs442_0389.png  \n",
            "  inflating: starter_set/train/eecs442_0390.jpg  \n",
            "  inflating: starter_set/train/eecs442_0390.png  \n",
            "  inflating: starter_set/train/eecs442_0391.jpg  \n",
            "  inflating: starter_set/train/eecs442_0391.png  \n",
            "  inflating: starter_set/train/eecs442_0392.jpg  \n",
            " extracting: starter_set/train/eecs442_0392.png  \n",
            "  inflating: starter_set/train/eecs442_0393.jpg  \n",
            "  inflating: starter_set/train/eecs442_0393.png  \n",
            "  inflating: starter_set/train/eecs442_0394.jpg  \n",
            "  inflating: starter_set/train/eecs442_0394.png  \n",
            "  inflating: starter_set/train/eecs442_0395.jpg  \n",
            "  inflating: starter_set/train/eecs442_0395.png  \n",
            "  inflating: starter_set/train/eecs442_0396.jpg  \n",
            "  inflating: starter_set/train/eecs442_0396.png  \n",
            "  inflating: starter_set/train/eecs442_0397.jpg  \n",
            "  inflating: starter_set/train/eecs442_0397.png  \n",
            "  inflating: starter_set/train/eecs442_0398.jpg  \n",
            "  inflating: starter_set/train/eecs442_0398.png  \n",
            "  inflating: starter_set/train/eecs442_0399.jpg  \n",
            "  inflating: starter_set/train/eecs442_0399.png  \n",
            "  inflating: starter_set/train/eecs442_0400.jpg  \n",
            "  inflating: starter_set/train/eecs442_0400.png  \n",
            "  inflating: starter_set/train/eecs442_0401.jpg  \n",
            "  inflating: starter_set/train/eecs442_0401.png  \n",
            "  inflating: starter_set/train/eecs442_0402.jpg  \n",
            "  inflating: starter_set/train/eecs442_0402.png  \n",
            "  inflating: starter_set/train/eecs442_0403.jpg  \n",
            "  inflating: starter_set/train/eecs442_0403.png  \n",
            "  inflating: starter_set/train/eecs442_0404.jpg  \n",
            "  inflating: starter_set/train/eecs442_0404.png  \n",
            "  inflating: starter_set/train/eecs442_0405.jpg  \n",
            "  inflating: starter_set/train/eecs442_0405.png  \n",
            "  inflating: starter_set/train/eecs442_0406.jpg  \n",
            "  inflating: starter_set/train/eecs442_0406.png  \n",
            "  inflating: starter_set/train/eecs442_0407.jpg  \n",
            "  inflating: starter_set/train/eecs442_0407.png  \n",
            "  inflating: starter_set/train/eecs442_0408.jpg  \n",
            "  inflating: starter_set/train/eecs442_0408.png  \n",
            "  inflating: starter_set/train/eecs442_0409.jpg  \n",
            "  inflating: starter_set/train/eecs442_0409.png  \n",
            "  inflating: starter_set/train/eecs442_0410.jpg  \n",
            "  inflating: starter_set/train/eecs442_0410.png  \n",
            "  inflating: starter_set/train/eecs442_0411.jpg  \n",
            "  inflating: starter_set/train/eecs442_0411.png  \n",
            "  inflating: starter_set/train/eecs442_0412.jpg  \n",
            "  inflating: starter_set/train/eecs442_0412.png  \n",
            "  inflating: starter_set/train/eecs442_0413.jpg  \n",
            "  inflating: starter_set/train/eecs442_0413.png  \n",
            "  inflating: starter_set/train/eecs442_0414.jpg  \n",
            "  inflating: starter_set/train/eecs442_0414.png  \n",
            "  inflating: starter_set/train/eecs442_0415.jpg  \n",
            "  inflating: starter_set/train/eecs442_0415.png  \n",
            "  inflating: starter_set/train/eecs442_0416.jpg  \n",
            "  inflating: starter_set/train/eecs442_0416.png  \n",
            "  inflating: starter_set/train/eecs442_0417.jpg  \n",
            "  inflating: starter_set/train/eecs442_0417.png  \n",
            "  inflating: starter_set/train/eecs442_0418.jpg  \n",
            "  inflating: starter_set/train/eecs442_0418.png  \n",
            "  inflating: starter_set/train/eecs442_0419.jpg  \n",
            "  inflating: starter_set/train/eecs442_0419.png  \n",
            "  inflating: starter_set/train/eecs442_0420.jpg  \n",
            "  inflating: starter_set/train/eecs442_0420.png  \n",
            "  inflating: starter_set/train/eecs442_0421.jpg  \n",
            "  inflating: starter_set/train/eecs442_0421.png  \n",
            "  inflating: starter_set/train/eecs442_0422.jpg  \n",
            "  inflating: starter_set/train/eecs442_0422.png  \n",
            "  inflating: starter_set/train/eecs442_0423.jpg  \n",
            "  inflating: starter_set/train/eecs442_0423.png  \n",
            "  inflating: starter_set/train/eecs442_0424.jpg  \n",
            "  inflating: starter_set/train/eecs442_0424.png  \n",
            "  inflating: starter_set/train/eecs442_0425.jpg  \n",
            "  inflating: starter_set/train/eecs442_0425.png  \n",
            "  inflating: starter_set/train/eecs442_0426.jpg  \n",
            "  inflating: starter_set/train/eecs442_0426.png  \n",
            "  inflating: starter_set/train/eecs442_0427.jpg  \n",
            "  inflating: starter_set/train/eecs442_0427.png  \n",
            "  inflating: starter_set/train/eecs442_0428.jpg  \n",
            "  inflating: starter_set/train/eecs442_0428.png  \n",
            "  inflating: starter_set/train/eecs442_0429.jpg  \n",
            "  inflating: starter_set/train/eecs442_0429.png  \n",
            "  inflating: starter_set/train/eecs442_0430.jpg  \n",
            "  inflating: starter_set/train/eecs442_0430.png  \n",
            "  inflating: starter_set/train/eecs442_0431.jpg  \n",
            "  inflating: starter_set/train/eecs442_0431.png  \n",
            "  inflating: starter_set/train/eecs442_0432.jpg  \n",
            "  inflating: starter_set/train/eecs442_0432.png  \n",
            "  inflating: starter_set/train/eecs442_0433.jpg  \n",
            "  inflating: starter_set/train/eecs442_0433.png  \n",
            "  inflating: starter_set/train/eecs442_0434.jpg  \n",
            "  inflating: starter_set/train/eecs442_0434.png  \n",
            "  inflating: starter_set/train/eecs442_0435.jpg  \n",
            "  inflating: starter_set/train/eecs442_0435.png  \n",
            "  inflating: starter_set/train/eecs442_0436.jpg  \n",
            "  inflating: starter_set/train/eecs442_0436.png  \n",
            "  inflating: starter_set/train/eecs442_0437.jpg  \n",
            "  inflating: starter_set/train/eecs442_0437.png  \n",
            "  inflating: starter_set/train/eecs442_0438.jpg  \n",
            "  inflating: starter_set/train/eecs442_0438.png  \n",
            "  inflating: starter_set/train/eecs442_0439.jpg  \n",
            "  inflating: starter_set/train/eecs442_0439.png  \n",
            "  inflating: starter_set/train/eecs442_0440.jpg  \n",
            "  inflating: starter_set/train/eecs442_0440.png  \n",
            "  inflating: starter_set/train/eecs442_0441.jpg  \n",
            "  inflating: starter_set/train/eecs442_0441.png  \n",
            "  inflating: starter_set/train/eecs442_0442.jpg  \n",
            "  inflating: starter_set/train/eecs442_0442.png  \n",
            "  inflating: starter_set/train/eecs442_0443.jpg  \n",
            "  inflating: starter_set/train/eecs442_0443.png  \n",
            "  inflating: starter_set/train/eecs442_0444.jpg  \n",
            "  inflating: starter_set/train/eecs442_0444.png  \n",
            "  inflating: starter_set/train/eecs442_0445.jpg  \n",
            "  inflating: starter_set/train/eecs442_0445.png  \n",
            "  inflating: starter_set/train/eecs442_0446.jpg  \n",
            "  inflating: starter_set/train/eecs442_0446.png  \n",
            "  inflating: starter_set/train/eecs442_0447.jpg  \n",
            "  inflating: starter_set/train/eecs442_0447.png  \n",
            "  inflating: starter_set/train/eecs442_0448.jpg  \n",
            "  inflating: starter_set/train/eecs442_0448.png  \n",
            "  inflating: starter_set/train/eecs442_0449.jpg  \n",
            "  inflating: starter_set/train/eecs442_0449.png  \n",
            "  inflating: starter_set/train/eecs442_0450.jpg  \n",
            "  inflating: starter_set/train/eecs442_0450.png  \n",
            "  inflating: starter_set/train/eecs442_0451.jpg  \n",
            "  inflating: starter_set/train/eecs442_0451.png  \n",
            "  inflating: starter_set/train/eecs442_0452.jpg  \n",
            "  inflating: starter_set/train/eecs442_0452.png  \n",
            "  inflating: starter_set/train/eecs442_0453.jpg  \n",
            "  inflating: starter_set/train/eecs442_0453.png  \n",
            "  inflating: starter_set/train/eecs442_0454.jpg  \n",
            "  inflating: starter_set/train/eecs442_0454.png  \n",
            "  inflating: starter_set/train/eecs442_0455.jpg  \n",
            "  inflating: starter_set/train/eecs442_0455.png  \n",
            "  inflating: starter_set/train/eecs442_0456.jpg  \n",
            "  inflating: starter_set/train/eecs442_0456.png  \n",
            "  inflating: starter_set/train/eecs442_0457.jpg  \n",
            "  inflating: starter_set/train/eecs442_0457.png  \n",
            "  inflating: starter_set/train/eecs442_0458.jpg  \n",
            "  inflating: starter_set/train/eecs442_0458.png  \n",
            "  inflating: starter_set/train/eecs442_0459.jpg  \n",
            "  inflating: starter_set/train/eecs442_0459.png  \n",
            "  inflating: starter_set/train/eecs442_0460.jpg  \n",
            "  inflating: starter_set/train/eecs442_0460.png  \n",
            "  inflating: starter_set/train/eecs442_0461.jpg  \n",
            "  inflating: starter_set/train/eecs442_0461.png  \n",
            "  inflating: starter_set/train/eecs442_0462.jpg  \n",
            "  inflating: starter_set/train/eecs442_0462.png  \n",
            "  inflating: starter_set/train/eecs442_0463.jpg  \n",
            "  inflating: starter_set/train/eecs442_0463.png  \n",
            "  inflating: starter_set/train/eecs442_0464.jpg  \n",
            "  inflating: starter_set/train/eecs442_0464.png  \n",
            "  inflating: starter_set/train/eecs442_0465.jpg  \n",
            "  inflating: starter_set/train/eecs442_0465.png  \n",
            "  inflating: starter_set/train/eecs442_0466.jpg  \n",
            "  inflating: starter_set/train/eecs442_0466.png  \n",
            "  inflating: starter_set/train/eecs442_0467.jpg  \n",
            "  inflating: starter_set/train/eecs442_0467.png  \n",
            "  inflating: starter_set/train/eecs442_0468.jpg  \n",
            "  inflating: starter_set/train/eecs442_0468.png  \n",
            "  inflating: starter_set/train/eecs442_0469.jpg  \n",
            "  inflating: starter_set/train/eecs442_0469.png  \n",
            "  inflating: starter_set/train/eecs442_0470.jpg  \n",
            "  inflating: starter_set/train/eecs442_0470.png  \n",
            "  inflating: starter_set/train/eecs442_0471.jpg  \n",
            "  inflating: starter_set/train/eecs442_0471.png  \n",
            "  inflating: starter_set/train/eecs442_0472.jpg  \n",
            "  inflating: starter_set/train/eecs442_0472.png  \n",
            "  inflating: starter_set/train/eecs442_0473.jpg  \n",
            "  inflating: starter_set/train/eecs442_0473.png  \n",
            "  inflating: starter_set/train/eecs442_0474.jpg  \n",
            "  inflating: starter_set/train/eecs442_0474.png  \n",
            "  inflating: starter_set/train/eecs442_0475.jpg  \n",
            "  inflating: starter_set/train/eecs442_0475.png  \n",
            "  inflating: starter_set/train/eecs442_0476.jpg  \n",
            "  inflating: starter_set/train/eecs442_0476.png  \n",
            "  inflating: starter_set/train/eecs442_0477.jpg  \n",
            "  inflating: starter_set/train/eecs442_0477.png  \n",
            "  inflating: starter_set/train/eecs442_0478.jpg  \n",
            "  inflating: starter_set/train/eecs442_0478.png  \n",
            "  inflating: starter_set/train/eecs442_0479.jpg  \n",
            "  inflating: starter_set/train/eecs442_0479.png  \n",
            "  inflating: starter_set/train/eecs442_0480.jpg  \n",
            "  inflating: starter_set/train/eecs442_0480.png  \n",
            "  inflating: starter_set/train/eecs442_0481.jpg  \n",
            "  inflating: starter_set/train/eecs442_0481.png  \n",
            "  inflating: starter_set/train/eecs442_0482.jpg  \n",
            "  inflating: starter_set/train/eecs442_0482.png  \n",
            "  inflating: starter_set/train/eecs442_0483.jpg  \n",
            "  inflating: starter_set/train/eecs442_0483.png  \n",
            "  inflating: starter_set/train/eecs442_0484.jpg  \n",
            "  inflating: starter_set/train/eecs442_0484.png  \n",
            "  inflating: starter_set/train/eecs442_0485.jpg  \n",
            "  inflating: starter_set/train/eecs442_0485.png  \n",
            "  inflating: starter_set/train/eecs442_0486.jpg  \n",
            "  inflating: starter_set/train/eecs442_0486.png  \n",
            "  inflating: starter_set/train/eecs442_0487.jpg  \n",
            "  inflating: starter_set/train/eecs442_0487.png  \n",
            "  inflating: starter_set/train/eecs442_0488.jpg  \n",
            "  inflating: starter_set/train/eecs442_0488.png  \n",
            "  inflating: starter_set/train/eecs442_0489.jpg  \n",
            "  inflating: starter_set/train/eecs442_0489.png  \n",
            "  inflating: starter_set/train/eecs442_0490.jpg  \n",
            "  inflating: starter_set/train/eecs442_0490.png  \n",
            "  inflating: starter_set/train/eecs442_0491.jpg  \n",
            "  inflating: starter_set/train/eecs442_0491.png  \n",
            "  inflating: starter_set/train/eecs442_0492.jpg  \n",
            "  inflating: starter_set/train/eecs442_0492.png  \n",
            "  inflating: starter_set/train/eecs442_0493.jpg  \n",
            "  inflating: starter_set/train/eecs442_0493.png  \n",
            "  inflating: starter_set/train/eecs442_0494.jpg  \n",
            "  inflating: starter_set/train/eecs442_0494.png  \n",
            "  inflating: starter_set/train/eecs442_0495.jpg  \n",
            "  inflating: starter_set/train/eecs442_0495.png  \n",
            "  inflating: starter_set/train/eecs442_0496.jpg  \n",
            "  inflating: starter_set/train/eecs442_0496.png  \n",
            "  inflating: starter_set/train/eecs442_0497.jpg  \n",
            "  inflating: starter_set/train/eecs442_0497.png  \n",
            "  inflating: starter_set/train/eecs442_0498.jpg  \n",
            "  inflating: starter_set/train/eecs442_0498.png  \n",
            "  inflating: starter_set/train/eecs442_0499.jpg  \n",
            "  inflating: starter_set/train/eecs442_0499.png  \n",
            "  inflating: starter_set/train/eecs442_0500.jpg  \n",
            "  inflating: starter_set/train/eecs442_0500.png  \n",
            "  inflating: starter_set/train/eecs442_0501.jpg  \n",
            "  inflating: starter_set/train/eecs442_0501.png  \n",
            "  inflating: starter_set/train/eecs442_0502.jpg  \n",
            "  inflating: starter_set/train/eecs442_0502.png  \n",
            "  inflating: starter_set/train/eecs442_0503.jpg  \n",
            "  inflating: starter_set/train/eecs442_0503.png  \n",
            "  inflating: starter_set/train/eecs442_0504.jpg  \n",
            "  inflating: starter_set/train/eecs442_0504.png  \n",
            "  inflating: starter_set/train/eecs442_0505.jpg  \n",
            "  inflating: starter_set/train/eecs442_0505.png  \n",
            "  inflating: starter_set/train/eecs442_0506.jpg  \n",
            "  inflating: starter_set/train/eecs442_0506.png  \n",
            "  inflating: starter_set/train/eecs442_0507.jpg  \n",
            "  inflating: starter_set/train/eecs442_0507.png  \n",
            "  inflating: starter_set/train/eecs442_0508.jpg  \n",
            "  inflating: starter_set/train/eecs442_0508.png  \n",
            "  inflating: starter_set/train/eecs442_0509.jpg  \n",
            "  inflating: starter_set/train/eecs442_0509.png  \n",
            "  inflating: starter_set/train/eecs442_0510.jpg  \n",
            "  inflating: starter_set/train/eecs442_0510.png  \n",
            "  inflating: starter_set/train/eecs442_0511.jpg  \n",
            "  inflating: starter_set/train/eecs442_0511.png  \n",
            "  inflating: starter_set/train/eecs442_0512.jpg  \n",
            "  inflating: starter_set/train/eecs442_0512.png  \n",
            "  inflating: starter_set/train/eecs442_0513.jpg  \n",
            "  inflating: starter_set/train/eecs442_0513.png  \n",
            "  inflating: starter_set/train/eecs442_0514.jpg  \n",
            "  inflating: starter_set/train/eecs442_0514.png  \n",
            "  inflating: starter_set/train/eecs442_0515.jpg  \n",
            "  inflating: starter_set/train/eecs442_0515.png  \n",
            "  inflating: starter_set/train/eecs442_0516.jpg  \n",
            "  inflating: starter_set/train/eecs442_0516.png  \n",
            "  inflating: starter_set/train/eecs442_0517.jpg  \n",
            "  inflating: starter_set/train/eecs442_0517.png  \n",
            "  inflating: starter_set/train/eecs442_0518.jpg  \n",
            "  inflating: starter_set/train/eecs442_0518.png  \n",
            "  inflating: starter_set/train/eecs442_0519.jpg  \n",
            "  inflating: starter_set/train/eecs442_0519.png  \n",
            "  inflating: starter_set/train/eecs442_0520.jpg  \n",
            "  inflating: starter_set/train/eecs442_0520.png  \n",
            "  inflating: starter_set/train/eecs442_0521.jpg  \n",
            "  inflating: starter_set/train/eecs442_0521.png  \n",
            "  inflating: starter_set/train/eecs442_0522.jpg  \n",
            "  inflating: starter_set/train/eecs442_0522.png  \n",
            "  inflating: starter_set/train/eecs442_0523.jpg  \n",
            "  inflating: starter_set/train/eecs442_0523.png  \n",
            "  inflating: starter_set/train/eecs442_0524.jpg  \n",
            "  inflating: starter_set/train/eecs442_0524.png  \n",
            "  inflating: starter_set/train/eecs442_0525.jpg  \n",
            "  inflating: starter_set/train/eecs442_0525.png  \n",
            "  inflating: starter_set/train/eecs442_0526.jpg  \n",
            "  inflating: starter_set/train/eecs442_0526.png  \n",
            "  inflating: starter_set/train/eecs442_0527.jpg  \n",
            "  inflating: starter_set/train/eecs442_0527.png  \n",
            "  inflating: starter_set/train/eecs442_0528.jpg  \n",
            "  inflating: starter_set/train/eecs442_0528.png  \n",
            "  inflating: starter_set/train/eecs442_0529.jpg  \n",
            "  inflating: starter_set/train/eecs442_0529.png  \n",
            "  inflating: starter_set/train/eecs442_0530.jpg  \n",
            "  inflating: starter_set/train/eecs442_0530.png  \n",
            "  inflating: starter_set/train/eecs442_0531.jpg  \n",
            "  inflating: starter_set/train/eecs442_0531.png  \n",
            "  inflating: starter_set/train/eecs442_0532.jpg  \n",
            "  inflating: starter_set/train/eecs442_0532.png  \n",
            "  inflating: starter_set/train/eecs442_0533.jpg  \n",
            "  inflating: starter_set/train/eecs442_0533.png  \n",
            "  inflating: starter_set/train/eecs442_0534.jpg  \n",
            "  inflating: starter_set/train/eecs442_0534.png  \n",
            "  inflating: starter_set/train/eecs442_0535.jpg  \n",
            "  inflating: starter_set/train/eecs442_0535.png  \n",
            "  inflating: starter_set/train/eecs442_0536.jpg  \n",
            "  inflating: starter_set/train/eecs442_0536.png  \n",
            "  inflating: starter_set/train/eecs442_0537.jpg  \n",
            "  inflating: starter_set/train/eecs442_0537.png  \n",
            "  inflating: starter_set/train/eecs442_0538.jpg  \n",
            "  inflating: starter_set/train/eecs442_0538.png  \n",
            "  inflating: starter_set/train/eecs442_0539.jpg  \n",
            "  inflating: starter_set/train/eecs442_0539.png  \n",
            "  inflating: starter_set/train/eecs442_0540.jpg  \n",
            "  inflating: starter_set/train/eecs442_0540.png  \n",
            "  inflating: starter_set/train/eecs442_0541.jpg  \n",
            "  inflating: starter_set/train/eecs442_0541.png  \n",
            "  inflating: starter_set/train/eecs442_0542.jpg  \n",
            "  inflating: starter_set/train/eecs442_0542.png  \n",
            "  inflating: starter_set/train/eecs442_0543.jpg  \n",
            "  inflating: starter_set/train/eecs442_0543.png  \n",
            "  inflating: starter_set/train/eecs442_0544.jpg  \n",
            "  inflating: starter_set/train/eecs442_0544.png  \n",
            "  inflating: starter_set/train/eecs442_0545.jpg  \n",
            "  inflating: starter_set/train/eecs442_0545.png  \n",
            "  inflating: starter_set/train/eecs442_0546.jpg  \n",
            "  inflating: starter_set/train/eecs442_0546.png  \n",
            "  inflating: starter_set/train/eecs442_0547.jpg  \n",
            "  inflating: starter_set/train/eecs442_0547.png  \n",
            "  inflating: starter_set/train/eecs442_0548.jpg  \n",
            "  inflating: starter_set/train/eecs442_0548.png  \n",
            "  inflating: starter_set/train/eecs442_0549.jpg  \n",
            "  inflating: starter_set/train/eecs442_0549.png  \n",
            "  inflating: starter_set/train/eecs442_0550.jpg  \n",
            "  inflating: starter_set/train/eecs442_0550.png  \n",
            "  inflating: starter_set/train/eecs442_0551.jpg  \n",
            "  inflating: starter_set/train/eecs442_0551.png  \n",
            "  inflating: starter_set/train/eecs442_0552.jpg  \n",
            "  inflating: starter_set/train/eecs442_0552.png  \n",
            "  inflating: starter_set/train/eecs442_0553.jpg  \n",
            "  inflating: starter_set/train/eecs442_0553.png  \n",
            "  inflating: starter_set/train/eecs442_0554.jpg  \n",
            "  inflating: starter_set/train/eecs442_0554.png  \n",
            "  inflating: starter_set/train/eecs442_0555.jpg  \n",
            "  inflating: starter_set/train/eecs442_0555.png  \n",
            "  inflating: starter_set/train/eecs442_0556.jpg  \n",
            "  inflating: starter_set/train/eecs442_0556.png  \n",
            "  inflating: starter_set/train/eecs442_0557.jpg  \n",
            "  inflating: starter_set/train/eecs442_0557.png  \n",
            "  inflating: starter_set/train/eecs442_0558.jpg  \n",
            "  inflating: starter_set/train/eecs442_0558.png  \n",
            "  inflating: starter_set/train/eecs442_0559.jpg  \n",
            "  inflating: starter_set/train/eecs442_0559.png  \n",
            "  inflating: starter_set/train/eecs442_0560.jpg  \n",
            "  inflating: starter_set/train/eecs442_0560.png  \n",
            "  inflating: starter_set/train/eecs442_0561.jpg  \n",
            "  inflating: starter_set/train/eecs442_0561.png  \n",
            "  inflating: starter_set/train/eecs442_0562.jpg  \n",
            "  inflating: starter_set/train/eecs442_0562.png  \n",
            "  inflating: starter_set/train/eecs442_0563.jpg  \n",
            "  inflating: starter_set/train/eecs442_0563.png  \n",
            "  inflating: starter_set/train/eecs442_0564.jpg  \n",
            "  inflating: starter_set/train/eecs442_0564.png  \n",
            "  inflating: starter_set/train/eecs442_0565.jpg  \n",
            "  inflating: starter_set/train/eecs442_0565.png  \n",
            "  inflating: starter_set/train/eecs442_0566.jpg  \n",
            "  inflating: starter_set/train/eecs442_0566.png  \n",
            "  inflating: starter_set/train/eecs442_0567.jpg  \n",
            "  inflating: starter_set/train/eecs442_0567.png  \n",
            "  inflating: starter_set/train/eecs442_0568.jpg  \n",
            "  inflating: starter_set/train/eecs442_0568.png  \n",
            "  inflating: starter_set/train/eecs442_0569.jpg  \n",
            "  inflating: starter_set/train/eecs442_0569.png  \n",
            "  inflating: starter_set/train/eecs442_0570.jpg  \n",
            "  inflating: starter_set/train/eecs442_0570.png  \n",
            "  inflating: starter_set/train/eecs442_0571.jpg  \n",
            "  inflating: starter_set/train/eecs442_0571.png  \n",
            "  inflating: starter_set/train/eecs442_0572.jpg  \n",
            "  inflating: starter_set/train/eecs442_0572.png  \n",
            "  inflating: starter_set/train/eecs442_0573.jpg  \n",
            "  inflating: starter_set/train/eecs442_0573.png  \n",
            "  inflating: starter_set/train/eecs442_0574.jpg  \n",
            "  inflating: starter_set/train/eecs442_0574.png  \n",
            "  inflating: starter_set/train/eecs442_0575.jpg  \n",
            "  inflating: starter_set/train/eecs442_0575.png  \n",
            "  inflating: starter_set/train/eecs442_0576.jpg  \n",
            "  inflating: starter_set/train/eecs442_0576.png  \n",
            "  inflating: starter_set/train/eecs442_0577.jpg  \n",
            "  inflating: starter_set/train/eecs442_0577.png  \n",
            "  inflating: starter_set/train/eecs442_0578.jpg  \n",
            "  inflating: starter_set/train/eecs442_0578.png  \n",
            "  inflating: starter_set/train/eecs442_0579.jpg  \n",
            "  inflating: starter_set/train/eecs442_0579.png  \n",
            "  inflating: starter_set/train/eecs442_0580.jpg  \n",
            "  inflating: starter_set/train/eecs442_0580.png  \n",
            "  inflating: starter_set/train/eecs442_0581.jpg  \n",
            "  inflating: starter_set/train/eecs442_0581.png  \n",
            "  inflating: starter_set/train/eecs442_0582.jpg  \n",
            "  inflating: starter_set/train/eecs442_0582.png  \n",
            "  inflating: starter_set/train/eecs442_0583.jpg  \n",
            "  inflating: starter_set/train/eecs442_0583.png  \n",
            "  inflating: starter_set/train/eecs442_0584.jpg  \n",
            "  inflating: starter_set/train/eecs442_0584.png  \n",
            "  inflating: starter_set/train/eecs442_0585.jpg  \n",
            "  inflating: starter_set/train/eecs442_0585.png  \n",
            "  inflating: starter_set/train/eecs442_0586.jpg  \n",
            "  inflating: starter_set/train/eecs442_0586.png  \n",
            "  inflating: starter_set/train/eecs442_0587.jpg  \n",
            "  inflating: starter_set/train/eecs442_0587.png  \n",
            "  inflating: starter_set/train/eecs442_0588.jpg  \n",
            "  inflating: starter_set/train/eecs442_0588.png  \n",
            "  inflating: starter_set/train/eecs442_0589.jpg  \n",
            "  inflating: starter_set/train/eecs442_0589.png  \n",
            "  inflating: starter_set/train/eecs442_0590.jpg  \n",
            "  inflating: starter_set/train/eecs442_0590.png  \n",
            "  inflating: starter_set/train/eecs442_0591.jpg  \n",
            "  inflating: starter_set/train/eecs442_0591.png  \n",
            "  inflating: starter_set/train/eecs442_0592.jpg  \n",
            "  inflating: starter_set/train/eecs442_0592.png  \n",
            "  inflating: starter_set/train/eecs442_0593.jpg  \n",
            "  inflating: starter_set/train/eecs442_0593.png  \n",
            "  inflating: starter_set/train/eecs442_0594.jpg  \n",
            "  inflating: starter_set/train/eecs442_0594.png  \n",
            "  inflating: starter_set/train/eecs442_0595.jpg  \n",
            "  inflating: starter_set/train/eecs442_0595.png  \n",
            "  inflating: starter_set/train/eecs442_0596.jpg  \n",
            "  inflating: starter_set/train/eecs442_0596.png  \n",
            "  inflating: starter_set/train/eecs442_0597.jpg  \n",
            "  inflating: starter_set/train/eecs442_0597.png  \n",
            "  inflating: starter_set/train/eecs442_0598.jpg  \n",
            "  inflating: starter_set/train/eecs442_0598.png  \n",
            "  inflating: starter_set/train/eecs442_0599.jpg  \n",
            "  inflating: starter_set/train/eecs442_0599.png  \n",
            "  inflating: starter_set/train/eecs442_0600.jpg  \n",
            "  inflating: starter_set/train/eecs442_0600.png  \n",
            "  inflating: starter_set/train/eecs442_0601.jpg  \n",
            "  inflating: starter_set/train/eecs442_0601.png  \n",
            "  inflating: starter_set/train/eecs442_0602.jpg  \n",
            "  inflating: starter_set/train/eecs442_0602.png  \n",
            "  inflating: starter_set/train/eecs442_0603.jpg  \n",
            "  inflating: starter_set/train/eecs442_0603.png  \n",
            "  inflating: starter_set/train/eecs442_0604.jpg  \n",
            "  inflating: starter_set/train/eecs442_0604.png  \n",
            "  inflating: starter_set/train/eecs442_0605.jpg  \n",
            "  inflating: starter_set/train/eecs442_0605.png  \n",
            "  inflating: starter_set/train/eecs442_0606.jpg  \n",
            "  inflating: starter_set/train/eecs442_0606.png  \n",
            "  inflating: starter_set/train/eecs442_0607.jpg  \n",
            "  inflating: starter_set/train/eecs442_0607.png  \n",
            "  inflating: starter_set/train/eecs442_0608.jpg  \n",
            "  inflating: starter_set/train/eecs442_0608.png  \n",
            "  inflating: starter_set/train/eecs442_0609.jpg  \n",
            "  inflating: starter_set/train/eecs442_0609.png  \n",
            "  inflating: starter_set/train/eecs442_0610.jpg  \n",
            "  inflating: starter_set/train/eecs442_0610.png  \n",
            "  inflating: starter_set/train/eecs442_0611.jpg  \n",
            "  inflating: starter_set/train/eecs442_0611.png  \n",
            "  inflating: starter_set/train/eecs442_0612.jpg  \n",
            "  inflating: starter_set/train/eecs442_0612.png  \n",
            "  inflating: starter_set/train/eecs442_0613.jpg  \n",
            "  inflating: starter_set/train/eecs442_0613.png  \n",
            "  inflating: starter_set/train/eecs442_0614.jpg  \n",
            "  inflating: starter_set/train/eecs442_0614.png  \n",
            "  inflating: starter_set/train/eecs442_0615.jpg  \n",
            "  inflating: starter_set/train/eecs442_0615.png  \n",
            "  inflating: starter_set/train/eecs442_0616.jpg  \n",
            "  inflating: starter_set/train/eecs442_0616.png  \n",
            "  inflating: starter_set/train/eecs442_0617.jpg  \n",
            "  inflating: starter_set/train/eecs442_0617.png  \n",
            "  inflating: starter_set/train/eecs442_0618.jpg  \n",
            "  inflating: starter_set/train/eecs442_0618.png  \n",
            "  inflating: starter_set/train/eecs442_0619.jpg  \n",
            "  inflating: starter_set/train/eecs442_0619.png  \n",
            "  inflating: starter_set/train/eecs442_0620.jpg  \n",
            "  inflating: starter_set/train/eecs442_0620.png  \n",
            "  inflating: starter_set/train/eecs442_0621.jpg  \n",
            "  inflating: starter_set/train/eecs442_0621.png  \n",
            "  inflating: starter_set/train/eecs442_0622.jpg  \n",
            "  inflating: starter_set/train/eecs442_0622.png  \n",
            "  inflating: starter_set/train/eecs442_0623.jpg  \n",
            "  inflating: starter_set/train/eecs442_0623.png  \n",
            "  inflating: starter_set/train/eecs442_0624.jpg  \n",
            " extracting: starter_set/train/eecs442_0624.png  \n",
            "  inflating: starter_set/train/eecs442_0625.jpg  \n",
            "  inflating: starter_set/train/eecs442_0625.png  \n",
            "  inflating: starter_set/train/eecs442_0626.jpg  \n",
            "  inflating: starter_set/train/eecs442_0626.png  \n",
            "  inflating: starter_set/train/eecs442_0627.jpg  \n",
            "  inflating: starter_set/train/eecs442_0627.png  \n",
            "  inflating: starter_set/train/eecs442_0628.jpg  \n",
            "  inflating: starter_set/train/eecs442_0628.png  \n",
            "  inflating: starter_set/train/eecs442_0629.jpg  \n",
            "  inflating: starter_set/train/eecs442_0629.png  \n",
            "  inflating: starter_set/train/eecs442_0630.jpg  \n",
            "  inflating: starter_set/train/eecs442_0630.png  \n",
            "  inflating: starter_set/train/eecs442_0631.jpg  \n",
            "  inflating: starter_set/train/eecs442_0631.png  \n",
            "  inflating: starter_set/train/eecs442_0632.jpg  \n",
            "  inflating: starter_set/train/eecs442_0632.png  \n",
            "  inflating: starter_set/train/eecs442_0633.jpg  \n",
            "  inflating: starter_set/train/eecs442_0633.png  \n",
            "  inflating: starter_set/train/eecs442_0634.jpg  \n",
            "  inflating: starter_set/train/eecs442_0634.png  \n",
            "  inflating: starter_set/train/eecs442_0635.jpg  \n",
            "  inflating: starter_set/train/eecs442_0635.png  \n",
            "  inflating: starter_set/train/eecs442_0636.jpg  \n",
            "  inflating: starter_set/train/eecs442_0636.png  \n",
            "  inflating: starter_set/train/eecs442_0637.jpg  \n",
            "  inflating: starter_set/train/eecs442_0637.png  \n",
            "  inflating: starter_set/train/eecs442_0638.jpg  \n",
            "  inflating: starter_set/train/eecs442_0638.png  \n",
            "  inflating: starter_set/train/eecs442_0639.jpg  \n",
            "  inflating: starter_set/train/eecs442_0639.png  \n",
            "  inflating: starter_set/train/eecs442_0640.jpg  \n",
            "  inflating: starter_set/train/eecs442_0640.png  \n",
            "  inflating: starter_set/train/eecs442_0641.jpg  \n",
            "  inflating: starter_set/train/eecs442_0641.png  \n",
            "  inflating: starter_set/train/eecs442_0642.jpg  \n",
            "  inflating: starter_set/train/eecs442_0642.png  \n",
            "  inflating: starter_set/train/eecs442_0643.jpg  \n",
            "  inflating: starter_set/train/eecs442_0643.png  \n",
            "  inflating: starter_set/train/eecs442_0644.jpg  \n",
            "  inflating: starter_set/train/eecs442_0644.png  \n",
            "  inflating: starter_set/train/eecs442_0645.jpg  \n",
            "  inflating: starter_set/train/eecs442_0645.png  \n",
            "  inflating: starter_set/train/eecs442_0646.jpg  \n",
            "  inflating: starter_set/train/eecs442_0646.png  \n",
            "  inflating: starter_set/train/eecs442_0647.jpg  \n",
            "  inflating: starter_set/train/eecs442_0647.png  \n",
            "  inflating: starter_set/train/eecs442_0648.jpg  \n",
            "  inflating: starter_set/train/eecs442_0648.png  \n",
            "  inflating: starter_set/train/eecs442_0649.jpg  \n",
            "  inflating: starter_set/train/eecs442_0649.png  \n",
            "  inflating: starter_set/train/eecs442_0650.jpg  \n",
            "  inflating: starter_set/train/eecs442_0650.png  \n",
            "  inflating: starter_set/train/eecs442_0651.jpg  \n",
            "  inflating: starter_set/train/eecs442_0651.png  \n",
            "  inflating: starter_set/train/eecs442_0652.jpg  \n",
            "  inflating: starter_set/train/eecs442_0652.png  \n",
            "  inflating: starter_set/train/eecs442_0653.jpg  \n",
            "  inflating: starter_set/train/eecs442_0653.png  \n",
            "  inflating: starter_set/train/eecs442_0654.jpg  \n",
            "  inflating: starter_set/train/eecs442_0654.png  \n",
            "  inflating: starter_set/train/eecs442_0655.jpg  \n",
            "  inflating: starter_set/train/eecs442_0655.png  \n",
            "  inflating: starter_set/train/eecs442_0656.jpg  \n",
            "  inflating: starter_set/train/eecs442_0656.png  \n",
            "  inflating: starter_set/train/eecs442_0657.jpg  \n",
            "  inflating: starter_set/train/eecs442_0657.png  \n",
            "  inflating: starter_set/train/eecs442_0658.jpg  \n",
            "  inflating: starter_set/train/eecs442_0658.png  \n",
            "  inflating: starter_set/train/eecs442_0659.jpg  \n",
            "  inflating: starter_set/train/eecs442_0659.png  \n",
            "  inflating: starter_set/train/eecs442_0660.jpg  \n",
            "  inflating: starter_set/train/eecs442_0660.png  \n",
            "  inflating: starter_set/train/eecs442_0661.jpg  \n",
            "  inflating: starter_set/train/eecs442_0661.png  \n",
            "  inflating: starter_set/train/eecs442_0662.jpg  \n",
            "  inflating: starter_set/train/eecs442_0662.png  \n",
            "  inflating: starter_set/train/eecs442_0663.jpg  \n",
            "  inflating: starter_set/train/eecs442_0663.png  \n",
            "  inflating: starter_set/train/eecs442_0664.jpg  \n",
            "  inflating: starter_set/train/eecs442_0664.png  \n",
            "  inflating: starter_set/train/eecs442_0665.jpg  \n",
            "  inflating: starter_set/train/eecs442_0665.png  \n",
            "  inflating: starter_set/train/eecs442_0666.jpg  \n",
            "  inflating: starter_set/train/eecs442_0666.png  \n",
            "  inflating: starter_set/train/eecs442_0667.jpg  \n",
            "  inflating: starter_set/train/eecs442_0667.png  \n",
            "  inflating: starter_set/train/eecs442_0668.jpg  \n",
            "  inflating: starter_set/train/eecs442_0668.png  \n",
            "  inflating: starter_set/train/eecs442_0669.jpg  \n",
            "  inflating: starter_set/train/eecs442_0669.png  \n",
            "  inflating: starter_set/train/eecs442_0670.jpg  \n",
            "  inflating: starter_set/train/eecs442_0670.png  \n",
            "  inflating: starter_set/train/eecs442_0671.jpg  \n",
            "  inflating: starter_set/train/eecs442_0671.png  \n",
            "  inflating: starter_set/train/eecs442_0672.jpg  \n",
            "  inflating: starter_set/train/eecs442_0672.png  \n",
            "  inflating: starter_set/train/eecs442_0673.jpg  \n",
            "  inflating: starter_set/train/eecs442_0673.png  \n",
            "  inflating: starter_set/train/eecs442_0674.jpg  \n",
            "  inflating: starter_set/train/eecs442_0674.png  \n",
            "  inflating: starter_set/train/eecs442_0675.jpg  \n",
            "  inflating: starter_set/train/eecs442_0675.png  \n",
            "  inflating: starter_set/train/eecs442_0676.jpg  \n",
            "  inflating: starter_set/train/eecs442_0676.png  \n",
            "  inflating: starter_set/train/eecs442_0677.jpg  \n",
            "  inflating: starter_set/train/eecs442_0677.png  \n",
            "  inflating: starter_set/train/eecs442_0678.jpg  \n",
            "  inflating: starter_set/train/eecs442_0678.png  \n",
            "  inflating: starter_set/train/eecs442_0679.jpg  \n",
            "  inflating: starter_set/train/eecs442_0679.png  \n",
            "  inflating: starter_set/train/eecs442_0680.jpg  \n",
            "  inflating: starter_set/train/eecs442_0680.png  \n",
            "  inflating: starter_set/train/eecs442_0681.jpg  \n",
            "  inflating: starter_set/train/eecs442_0681.png  \n",
            "  inflating: starter_set/train/eecs442_0682.jpg  \n",
            "  inflating: starter_set/train/eecs442_0682.png  \n",
            "  inflating: starter_set/train/eecs442_0683.jpg  \n",
            "  inflating: starter_set/train/eecs442_0683.png  \n",
            "  inflating: starter_set/train/eecs442_0684.jpg  \n",
            "  inflating: starter_set/train/eecs442_0684.png  \n",
            "  inflating: starter_set/train/eecs442_0685.jpg  \n",
            "  inflating: starter_set/train/eecs442_0685.png  \n",
            "  inflating: starter_set/train/eecs442_0686.jpg  \n",
            "  inflating: starter_set/train/eecs442_0686.png  \n",
            "  inflating: starter_set/train/eecs442_0687.jpg  \n",
            "  inflating: starter_set/train/eecs442_0687.png  \n",
            "  inflating: starter_set/train/eecs442_0688.jpg  \n",
            "  inflating: starter_set/train/eecs442_0688.png  \n",
            "  inflating: starter_set/train/eecs442_0689.jpg  \n",
            "  inflating: starter_set/train/eecs442_0689.png  \n",
            "  inflating: starter_set/train/eecs442_0690.jpg  \n",
            "  inflating: starter_set/train/eecs442_0690.png  \n",
            "  inflating: starter_set/train/eecs442_0691.jpg  \n",
            "  inflating: starter_set/train/eecs442_0691.png  \n",
            "  inflating: starter_set/train/eecs442_0692.jpg  \n",
            "  inflating: starter_set/train/eecs442_0692.png  \n",
            "  inflating: starter_set/train/eecs442_0693.jpg  \n",
            "  inflating: starter_set/train/eecs442_0693.png  \n",
            "  inflating: starter_set/train/eecs442_0694.jpg  \n",
            "  inflating: starter_set/train/eecs442_0694.png  \n",
            "  inflating: starter_set/train/eecs442_0695.jpg  \n",
            "  inflating: starter_set/train/eecs442_0695.png  \n",
            "  inflating: starter_set/train/eecs442_0696.jpg  \n",
            "  inflating: starter_set/train/eecs442_0696.png  \n",
            "  inflating: starter_set/train/eecs442_0697.jpg  \n",
            "  inflating: starter_set/train/eecs442_0697.png  \n",
            "  inflating: starter_set/train/eecs442_0698.jpg  \n",
            "  inflating: starter_set/train/eecs442_0698.png  \n",
            "  inflating: starter_set/train/eecs442_0699.jpg  \n",
            "  inflating: starter_set/train/eecs442_0699.png  \n",
            "  inflating: starter_set/train/eecs442_0700.jpg  \n",
            "  inflating: starter_set/train/eecs442_0700.png  \n",
            "  inflating: starter_set/train/eecs442_0701.jpg  \n",
            "  inflating: starter_set/train/eecs442_0701.png  \n",
            "  inflating: starter_set/train/eecs442_0702.jpg  \n",
            "  inflating: starter_set/train/eecs442_0702.png  \n",
            "  inflating: starter_set/train/eecs442_0703.jpg  \n",
            "  inflating: starter_set/train/eecs442_0703.png  \n",
            "  inflating: starter_set/train/eecs442_0704.jpg  \n",
            "  inflating: starter_set/train/eecs442_0704.png  \n",
            "  inflating: starter_set/train/eecs442_0705.jpg  \n",
            "  inflating: starter_set/train/eecs442_0705.png  \n",
            "  inflating: starter_set/train/eecs442_0706.jpg  \n",
            "  inflating: starter_set/train/eecs442_0706.png  \n",
            "  inflating: starter_set/train/eecs442_0707.jpg  \n",
            "  inflating: starter_set/train/eecs442_0707.png  \n",
            "  inflating: starter_set/train/eecs442_0708.jpg  \n",
            "  inflating: starter_set/train/eecs442_0708.png  \n",
            "  inflating: starter_set/train/eecs442_0709.jpg  \n",
            "  inflating: starter_set/train/eecs442_0709.png  \n",
            "  inflating: starter_set/train/eecs442_0710.jpg  \n",
            "  inflating: starter_set/train/eecs442_0710.png  \n",
            "  inflating: starter_set/train/eecs442_0711.jpg  \n",
            "  inflating: starter_set/train/eecs442_0711.png  \n",
            "  inflating: starter_set/train/eecs442_0712.jpg  \n",
            "  inflating: starter_set/train/eecs442_0712.png  \n",
            "  inflating: starter_set/train/eecs442_0713.jpg  \n",
            "  inflating: starter_set/train/eecs442_0713.png  \n",
            "  inflating: starter_set/train/eecs442_0714.jpg  \n",
            "  inflating: starter_set/train/eecs442_0714.png  \n",
            "  inflating: starter_set/train/eecs442_0715.jpg  \n",
            "  inflating: starter_set/train/eecs442_0715.png  \n",
            "  inflating: starter_set/train/eecs442_0716.jpg  \n",
            "  inflating: starter_set/train/eecs442_0716.png  \n",
            "  inflating: starter_set/train/eecs442_0717.jpg  \n",
            "  inflating: starter_set/train/eecs442_0717.png  \n",
            "  inflating: starter_set/train/eecs442_0718.jpg  \n",
            "  inflating: starter_set/train/eecs442_0718.png  \n",
            "  inflating: starter_set/train/eecs442_0719.jpg  \n",
            "  inflating: starter_set/train/eecs442_0719.png  \n",
            "  inflating: starter_set/train/eecs442_0720.jpg  \n",
            "  inflating: starter_set/train/eecs442_0720.png  \n",
            "  inflating: starter_set/train/eecs442_0721.jpg  \n",
            "  inflating: starter_set/train/eecs442_0721.png  \n",
            "  inflating: starter_set/train/eecs442_0722.jpg  \n",
            "  inflating: starter_set/train/eecs442_0722.png  \n",
            "  inflating: starter_set/train/eecs442_0723.jpg  \n",
            "  inflating: starter_set/train/eecs442_0723.png  \n",
            "  inflating: starter_set/train/eecs442_0724.jpg  \n",
            "  inflating: starter_set/train/eecs442_0724.png  \n",
            "  inflating: starter_set/train/eecs442_0725.jpg  \n",
            "  inflating: starter_set/train/eecs442_0725.png  \n",
            "  inflating: starter_set/train/eecs442_0726.jpg  \n",
            "  inflating: starter_set/train/eecs442_0726.png  \n",
            "  inflating: starter_set/train/eecs442_0727.jpg  \n",
            "  inflating: starter_set/train/eecs442_0727.png  \n",
            "  inflating: starter_set/train/eecs442_0728.jpg  \n",
            "  inflating: starter_set/train/eecs442_0728.png  \n",
            "  inflating: starter_set/train/eecs442_0729.jpg  \n",
            "  inflating: starter_set/train/eecs442_0729.png  \n",
            "  inflating: starter_set/train/eecs442_0730.jpg  \n",
            "  inflating: starter_set/train/eecs442_0730.png  \n",
            "  inflating: starter_set/train/eecs442_0731.jpg  \n",
            "  inflating: starter_set/train/eecs442_0731.png  \n",
            "  inflating: starter_set/train/eecs442_0732.jpg  \n",
            "  inflating: starter_set/train/eecs442_0732.png  \n",
            "  inflating: starter_set/train/eecs442_0733.jpg  \n",
            "  inflating: starter_set/train/eecs442_0733.png  \n",
            "  inflating: starter_set/train/eecs442_0734.jpg  \n",
            "  inflating: starter_set/train/eecs442_0734.png  \n",
            "  inflating: starter_set/train/eecs442_0735.jpg  \n",
            "  inflating: starter_set/train/eecs442_0735.png  \n",
            "  inflating: starter_set/train/eecs442_0736.jpg  \n",
            "  inflating: starter_set/train/eecs442_0736.png  \n",
            "  inflating: starter_set/train/eecs442_0737.jpg  \n",
            "  inflating: starter_set/train/eecs442_0737.png  \n",
            "  inflating: starter_set/train/eecs442_0738.jpg  \n",
            "  inflating: starter_set/train/eecs442_0738.png  \n",
            "  inflating: starter_set/train/eecs442_0739.jpg  \n",
            "  inflating: starter_set/train/eecs442_0739.png  \n",
            "  inflating: starter_set/train/eecs442_0740.jpg  \n",
            "  inflating: starter_set/train/eecs442_0740.png  \n",
            "  inflating: starter_set/train/eecs442_0741.jpg  \n",
            "  inflating: starter_set/train/eecs442_0741.png  \n",
            "  inflating: starter_set/train/eecs442_0742.jpg  \n",
            "  inflating: starter_set/train/eecs442_0742.png  \n",
            "  inflating: starter_set/train/eecs442_0743.jpg  \n",
            "  inflating: starter_set/train/eecs442_0743.png  \n",
            "  inflating: starter_set/train/eecs442_0744.jpg  \n",
            "  inflating: starter_set/train/eecs442_0744.png  \n",
            "  inflating: starter_set/train/eecs442_0745.jpg  \n",
            "  inflating: starter_set/train/eecs442_0745.png  \n",
            "  inflating: starter_set/train/eecs442_0746.jpg  \n",
            "  inflating: starter_set/train/eecs442_0746.png  \n",
            "  inflating: starter_set/train/eecs442_0747.jpg  \n",
            "  inflating: starter_set/train/eecs442_0747.png  \n",
            "  inflating: starter_set/train/eecs442_0748.jpg  \n",
            "  inflating: starter_set/train/eecs442_0748.png  \n",
            "  inflating: starter_set/train/eecs442_0749.jpg  \n",
            "  inflating: starter_set/train/eecs442_0749.png  \n",
            "  inflating: starter_set/train/eecs442_0750.jpg  \n",
            "  inflating: starter_set/train/eecs442_0750.png  \n",
            "  inflating: starter_set/train/eecs442_0751.jpg  \n",
            "  inflating: starter_set/train/eecs442_0751.png  \n",
            "  inflating: starter_set/train/eecs442_0752.jpg  \n",
            "  inflating: starter_set/train/eecs442_0752.png  \n",
            "  inflating: starter_set/train/eecs442_0753.jpg  \n",
            "  inflating: starter_set/train/eecs442_0753.png  \n",
            "  inflating: starter_set/train/eecs442_0754.jpg  \n",
            "  inflating: starter_set/train/eecs442_0754.png  \n",
            "  inflating: starter_set/train/eecs442_0755.jpg  \n",
            "  inflating: starter_set/train/eecs442_0755.png  \n",
            "  inflating: starter_set/train/eecs442_0756.jpg  \n",
            "  inflating: starter_set/train/eecs442_0756.png  \n",
            "  inflating: starter_set/train/eecs442_0757.jpg  \n",
            "  inflating: starter_set/train/eecs442_0757.png  \n",
            "  inflating: starter_set/train/eecs442_0758.jpg  \n",
            "  inflating: starter_set/train/eecs442_0758.png  \n",
            "  inflating: starter_set/train/eecs442_0759.jpg  \n",
            "  inflating: starter_set/train/eecs442_0759.png  \n",
            "  inflating: starter_set/train/eecs442_0760.jpg  \n",
            "  inflating: starter_set/train/eecs442_0760.png  \n",
            "  inflating: starter_set/train/eecs442_0761.jpg  \n",
            "  inflating: starter_set/train/eecs442_0761.png  \n",
            "  inflating: starter_set/train/eecs442_0762.jpg  \n",
            "  inflating: starter_set/train/eecs442_0762.png  \n",
            "  inflating: starter_set/train/eecs442_0763.jpg  \n",
            "  inflating: starter_set/train/eecs442_0763.png  \n",
            "  inflating: starter_set/train/eecs442_0764.jpg  \n",
            "  inflating: starter_set/train/eecs442_0764.png  \n",
            "  inflating: starter_set/train/eecs442_0765.jpg  \n",
            "  inflating: starter_set/train/eecs442_0765.png  \n",
            "  inflating: starter_set/train/eecs442_0766.jpg  \n",
            "  inflating: starter_set/train/eecs442_0766.png  \n",
            "  inflating: starter_set/train/eecs442_0767.jpg  \n",
            "  inflating: starter_set/train/eecs442_0767.png  \n",
            "  inflating: starter_set/train/eecs442_0768.jpg  \n",
            "  inflating: starter_set/train/eecs442_0768.png  \n",
            "  inflating: starter_set/train/eecs442_0769.jpg  \n",
            "  inflating: starter_set/train/eecs442_0769.png  \n",
            "  inflating: starter_set/train/eecs442_0770.jpg  \n",
            "  inflating: starter_set/train/eecs442_0770.png  \n",
            "  inflating: starter_set/train/eecs442_0771.jpg  \n",
            "  inflating: starter_set/train/eecs442_0771.png  \n",
            "  inflating: starter_set/train/eecs442_0772.jpg  \n",
            "  inflating: starter_set/train/eecs442_0772.png  \n",
            "  inflating: starter_set/train/eecs442_0773.jpg  \n",
            "  inflating: starter_set/train/eecs442_0773.png  \n",
            "  inflating: starter_set/train/eecs442_0774.jpg  \n",
            "  inflating: starter_set/train/eecs442_0774.png  \n",
            "  inflating: starter_set/train/eecs442_0775.jpg  \n",
            "  inflating: starter_set/train/eecs442_0775.png  \n",
            "  inflating: starter_set/train/eecs442_0776.jpg  \n",
            "  inflating: starter_set/train/eecs442_0776.png  \n",
            "  inflating: starter_set/train/eecs442_0777.jpg  \n",
            "  inflating: starter_set/train/eecs442_0777.png  \n",
            "  inflating: starter_set/train/eecs442_0778.jpg  \n",
            "  inflating: starter_set/train/eecs442_0778.png  \n",
            "  inflating: starter_set/train/eecs442_0779.jpg  \n",
            "  inflating: starter_set/train/eecs442_0779.png  \n",
            "  inflating: starter_set/train/eecs442_0780.jpg  \n",
            "  inflating: starter_set/train/eecs442_0780.png  \n",
            "  inflating: starter_set/train/eecs442_0781.jpg  \n",
            "  inflating: starter_set/train/eecs442_0781.png  \n",
            "  inflating: starter_set/train/eecs442_0782.jpg  \n",
            "  inflating: starter_set/train/eecs442_0782.png  \n",
            "  inflating: starter_set/train/eecs442_0783.jpg  \n",
            "  inflating: starter_set/train/eecs442_0783.png  \n",
            "  inflating: starter_set/train/eecs442_0784.jpg  \n",
            "  inflating: starter_set/train/eecs442_0784.png  \n",
            "  inflating: starter_set/train/eecs442_0785.jpg  \n",
            "  inflating: starter_set/train/eecs442_0785.png  \n",
            "  inflating: starter_set/train/eecs442_0786.jpg  \n",
            "  inflating: starter_set/train/eecs442_0786.png  \n",
            "  inflating: starter_set/train/eecs442_0787.jpg  \n",
            "  inflating: starter_set/train/eecs442_0787.png  \n",
            "  inflating: starter_set/train/eecs442_0788.jpg  \n",
            "  inflating: starter_set/train/eecs442_0788.png  \n",
            "  inflating: starter_set/train/eecs442_0789.jpg  \n",
            "  inflating: starter_set/train/eecs442_0789.png  \n",
            "  inflating: starter_set/train/eecs442_0790.jpg  \n",
            "  inflating: starter_set/train/eecs442_0790.png  \n",
            "  inflating: starter_set/train/eecs442_0791.jpg  \n",
            "  inflating: starter_set/train/eecs442_0791.png  \n",
            "  inflating: starter_set/train/eecs442_0792.jpg  \n",
            "  inflating: starter_set/train/eecs442_0792.png  \n",
            "  inflating: starter_set/train/eecs442_0793.jpg  \n",
            "  inflating: starter_set/train/eecs442_0793.png  \n",
            "  inflating: starter_set/train/eecs442_0794.jpg  \n",
            "  inflating: starter_set/train/eecs442_0794.png  \n",
            "  inflating: starter_set/train/eecs442_0795.jpg  \n",
            "  inflating: starter_set/train/eecs442_0795.png  \n",
            "  inflating: starter_set/train/eecs442_0796.jpg  \n",
            "  inflating: starter_set/train/eecs442_0796.png  \n",
            "  inflating: starter_set/train/eecs442_0797.jpg  \n",
            "  inflating: starter_set/train/eecs442_0797.png  \n",
            "  inflating: starter_set/train/eecs442_0798.jpg  \n",
            "  inflating: starter_set/train/eecs442_0798.png  \n",
            "  inflating: starter_set/train/eecs442_0799.jpg  \n",
            "  inflating: starter_set/train/eecs442_0799.png  \n",
            "  inflating: starter_set/train/eecs442_0800.jpg  \n",
            "  inflating: starter_set/train/eecs442_0800.png  \n",
            "  inflating: starter_set/train/eecs442_0801.jpg  \n",
            "  inflating: starter_set/train/eecs442_0801.png  \n",
            "  inflating: starter_set/train/eecs442_0802.jpg  \n",
            "  inflating: starter_set/train/eecs442_0802.png  \n",
            "  inflating: starter_set/train/eecs442_0803.jpg  \n",
            "  inflating: starter_set/train/eecs442_0803.png  \n",
            "  inflating: starter_set/train/eecs442_0804.jpg  \n",
            "  inflating: starter_set/train/eecs442_0804.png  \n",
            "  inflating: starter_set/train/eecs442_0805.jpg  \n",
            "  inflating: starter_set/train/eecs442_0805.png  \n",
            "  inflating: starter_set/train/eecs442_0806.jpg  \n",
            "  inflating: starter_set/train/eecs442_0806.png  \n",
            "  inflating: starter_set/train/eecs442_0807.jpg  \n",
            "  inflating: starter_set/train/eecs442_0807.png  \n",
            "  inflating: starter_set/train/eecs442_0808.jpg  \n",
            "  inflating: starter_set/train/eecs442_0808.png  \n",
            "  inflating: starter_set/train/eecs442_0809.jpg  \n",
            "  inflating: starter_set/train/eecs442_0809.png  \n",
            "  inflating: starter_set/train/eecs442_0810.jpg  \n",
            "  inflating: starter_set/train/eecs442_0810.png  \n",
            "  inflating: starter_set/train/eecs442_0811.jpg  \n",
            "  inflating: starter_set/train/eecs442_0811.png  \n",
            "  inflating: starter_set/train/eecs442_0812.jpg  \n",
            "  inflating: starter_set/train/eecs442_0812.png  \n",
            "  inflating: starter_set/train/eecs442_0813.jpg  \n",
            "  inflating: starter_set/train/eecs442_0813.png  \n",
            "  inflating: starter_set/train/eecs442_0814.jpg  \n",
            "  inflating: starter_set/train/eecs442_0814.png  \n",
            "  inflating: starter_set/train/eecs442_0815.jpg  \n",
            "  inflating: starter_set/train/eecs442_0815.png  \n",
            "  inflating: starter_set/train/eecs442_0816.jpg  \n",
            "  inflating: starter_set/train/eecs442_0816.png  \n",
            "  inflating: starter_set/train/eecs442_0817.jpg  \n",
            "  inflating: starter_set/train/eecs442_0817.png  \n",
            "  inflating: starter_set/train/eecs442_0818.jpg  \n",
            "  inflating: starter_set/train/eecs442_0818.png  \n",
            "  inflating: starter_set/train/eecs442_0819.jpg  \n",
            "  inflating: starter_set/train/eecs442_0819.png  \n",
            "  inflating: starter_set/train/eecs442_0820.jpg  \n",
            "  inflating: starter_set/train/eecs442_0820.png  \n",
            "  inflating: starter_set/train/eecs442_0821.jpg  \n",
            "  inflating: starter_set/train/eecs442_0821.png  \n",
            "  inflating: starter_set/train/eecs442_0822.jpg  \n",
            "  inflating: starter_set/train/eecs442_0822.png  \n",
            "  inflating: starter_set/train/eecs442_0823.jpg  \n",
            "  inflating: starter_set/train/eecs442_0823.png  \n",
            "  inflating: starter_set/train/eecs442_0824.jpg  \n",
            "  inflating: starter_set/train/eecs442_0824.png  \n",
            "  inflating: starter_set/train/eecs442_0825.jpg  \n",
            "  inflating: starter_set/train/eecs442_0825.png  \n",
            "  inflating: starter_set/train/eecs442_0826.jpg  \n",
            "  inflating: starter_set/train/eecs442_0826.png  \n",
            "  inflating: starter_set/train/eecs442_0827.jpg  \n",
            "  inflating: starter_set/train/eecs442_0827.png  \n",
            "  inflating: starter_set/train/eecs442_0828.jpg  \n",
            "  inflating: starter_set/train/eecs442_0828.png  \n",
            "  inflating: starter_set/train/eecs442_0829.jpg  \n",
            "  inflating: starter_set/train/eecs442_0829.png  \n",
            "  inflating: starter_set/train/eecs442_0830.jpg  \n",
            "  inflating: starter_set/train/eecs442_0830.png  \n",
            "  inflating: starter_set/train/eecs442_0831.jpg  \n",
            "  inflating: starter_set/train/eecs442_0831.png  \n",
            "  inflating: starter_set/train/eecs442_0832.jpg  \n",
            "  inflating: starter_set/train/eecs442_0832.png  \n",
            "  inflating: starter_set/train/eecs442_0833.jpg  \n",
            "  inflating: starter_set/train/eecs442_0833.png  \n",
            "  inflating: starter_set/train/eecs442_0834.jpg  \n",
            "  inflating: starter_set/train/eecs442_0834.png  \n",
            "  inflating: starter_set/train/eecs442_0835.jpg  \n",
            "  inflating: starter_set/train/eecs442_0835.png  \n",
            "  inflating: starter_set/train/eecs442_0836.jpg  \n",
            "  inflating: starter_set/train/eecs442_0836.png  \n",
            "  inflating: starter_set/train/eecs442_0837.jpg  \n",
            "  inflating: starter_set/train/eecs442_0837.png  \n",
            "  inflating: starter_set/train/eecs442_0838.jpg  \n",
            "  inflating: starter_set/train/eecs442_0838.png  \n",
            "  inflating: starter_set/train/eecs442_0839.jpg  \n",
            "  inflating: starter_set/train/eecs442_0839.png  \n",
            "  inflating: starter_set/train/eecs442_0840.jpg  \n",
            "  inflating: starter_set/train/eecs442_0840.png  \n",
            "  inflating: starter_set/train/eecs442_0841.jpg  \n",
            "  inflating: starter_set/train/eecs442_0841.png  \n",
            "  inflating: starter_set/train/eecs442_0842.jpg  \n",
            "  inflating: starter_set/train/eecs442_0842.png  \n",
            "  inflating: starter_set/train/eecs442_0843.jpg  \n",
            "  inflating: starter_set/train/eecs442_0843.png  \n",
            "  inflating: starter_set/train/eecs442_0844.jpg  \n",
            "  inflating: starter_set/train/eecs442_0844.png  \n",
            "  inflating: starter_set/train/eecs442_0845.jpg  \n",
            "  inflating: starter_set/train/eecs442_0845.png  \n",
            "  inflating: starter_set/train/eecs442_0846.jpg  \n",
            "  inflating: starter_set/train/eecs442_0846.png  \n",
            "  inflating: starter_set/train/eecs442_0847.jpg  \n",
            "  inflating: starter_set/train/eecs442_0847.png  \n",
            "  inflating: starter_set/train/eecs442_0848.jpg  \n",
            "  inflating: starter_set/train/eecs442_0848.png  \n",
            "  inflating: starter_set/train/eecs442_0849.jpg  \n",
            "  inflating: starter_set/train/eecs442_0849.png  \n",
            "  inflating: starter_set/train/eecs442_0850.jpg  \n",
            "  inflating: starter_set/train/eecs442_0850.png  \n",
            "  inflating: starter_set/train/eecs442_0851.jpg  \n",
            "  inflating: starter_set/train/eecs442_0851.png  \n",
            "  inflating: starter_set/train/eecs442_0852.jpg  \n",
            "  inflating: starter_set/train/eecs442_0852.png  \n",
            "  inflating: starter_set/train/eecs442_0853.jpg  \n",
            "  inflating: starter_set/train/eecs442_0853.png  \n",
            "  inflating: starter_set/train/eecs442_0854.jpg  \n",
            "  inflating: starter_set/train/eecs442_0854.png  \n",
            "  inflating: starter_set/train/eecs442_0855.jpg  \n",
            "  inflating: starter_set/train/eecs442_0855.png  \n",
            "  inflating: starter_set/train/eecs442_0856.jpg  \n",
            "  inflating: starter_set/train/eecs442_0856.png  \n",
            "  inflating: starter_set/train/eecs442_0857.jpg  \n",
            "  inflating: starter_set/train/eecs442_0857.png  \n",
            "  inflating: starter_set/train/eecs442_0858.jpg  \n",
            "  inflating: starter_set/train/eecs442_0858.png  \n",
            "  inflating: starter_set/train/eecs442_0859.jpg  \n",
            "  inflating: starter_set/train/eecs442_0859.png  \n",
            "  inflating: starter_set/train/eecs442_0860.jpg  \n",
            "  inflating: starter_set/train/eecs442_0860.png  \n",
            "  inflating: starter_set/train/eecs442_0861.jpg  \n",
            "  inflating: starter_set/train/eecs442_0861.png  \n",
            "  inflating: starter_set/train/eecs442_0862.jpg  \n",
            "  inflating: starter_set/train/eecs442_0862.png  \n",
            "  inflating: starter_set/train/eecs442_0863.jpg  \n",
            "  inflating: starter_set/train/eecs442_0863.png  \n",
            "  inflating: starter_set/train/eecs442_0864.jpg  \n",
            "  inflating: starter_set/train/eecs442_0864.png  \n",
            "  inflating: starter_set/train/eecs442_0865.jpg  \n",
            "  inflating: starter_set/train/eecs442_0865.png  \n",
            "  inflating: starter_set/train/eecs442_0866.jpg  \n",
            "  inflating: starter_set/train/eecs442_0866.png  \n",
            "  inflating: starter_set/train/eecs442_0867.jpg  \n",
            "  inflating: starter_set/train/eecs442_0867.png  \n",
            "  inflating: starter_set/train/eecs442_0868.jpg  \n",
            "  inflating: starter_set/train/eecs442_0868.png  \n",
            "  inflating: starter_set/train/eecs442_0869.jpg  \n",
            "  inflating: starter_set/train/eecs442_0869.png  \n",
            "  inflating: starter_set/train/eecs442_0870.jpg  \n",
            "  inflating: starter_set/train/eecs442_0870.png  \n",
            "  inflating: starter_set/train/eecs442_0871.jpg  \n",
            "  inflating: starter_set/train/eecs442_0871.png  \n",
            "  inflating: starter_set/train/eecs442_0872.jpg  \n",
            "  inflating: starter_set/train/eecs442_0872.png  \n",
            "  inflating: starter_set/train/eecs442_0873.jpg  \n",
            "  inflating: starter_set/train/eecs442_0873.png  \n",
            "  inflating: starter_set/train/eecs442_0874.jpg  \n",
            "  inflating: starter_set/train/eecs442_0874.png  \n",
            "  inflating: starter_set/train/eecs442_0875.jpg  \n",
            "  inflating: starter_set/train/eecs442_0875.png  \n",
            "  inflating: starter_set/train/eecs442_0876.jpg  \n",
            "  inflating: starter_set/train/eecs442_0876.png  \n",
            "  inflating: starter_set/train/eecs442_0877.jpg  \n",
            "  inflating: starter_set/train/eecs442_0877.png  \n",
            "  inflating: starter_set/train/eecs442_0878.jpg  \n",
            "  inflating: starter_set/train/eecs442_0878.png  \n",
            "  inflating: starter_set/train/eecs442_0879.jpg  \n",
            "  inflating: starter_set/train/eecs442_0879.png  \n",
            "  inflating: starter_set/train/eecs442_0880.jpg  \n",
            "  inflating: starter_set/train/eecs442_0880.png  \n",
            "  inflating: starter_set/train/eecs442_0881.jpg  \n",
            "  inflating: starter_set/train/eecs442_0881.png  \n",
            "  inflating: starter_set/train/eecs442_0882.jpg  \n",
            "  inflating: starter_set/train/eecs442_0882.png  \n",
            "  inflating: starter_set/train/eecs442_0883.jpg  \n",
            "  inflating: starter_set/train/eecs442_0883.png  \n",
            "  inflating: starter_set/train/eecs442_0884.jpg  \n",
            "  inflating: starter_set/train/eecs442_0884.png  \n",
            "  inflating: starter_set/train/eecs442_0885.jpg  \n",
            "  inflating: starter_set/train/eecs442_0885.png  \n",
            "  inflating: starter_set/train/eecs442_0886.jpg  \n",
            "  inflating: starter_set/train/eecs442_0886.png  \n",
            "  inflating: starter_set/train/eecs442_0887.jpg  \n",
            "  inflating: starter_set/train/eecs442_0887.png  \n",
            "  inflating: starter_set/train/eecs442_0888.jpg  \n",
            "  inflating: starter_set/train/eecs442_0888.png  \n",
            "  inflating: starter_set/train/eecs442_0889.jpg  \n",
            "  inflating: starter_set/train/eecs442_0889.png  \n",
            "  inflating: starter_set/train/eecs442_0890.jpg  \n",
            "  inflating: starter_set/train/eecs442_0890.png  \n",
            "  inflating: starter_set/train/eecs442_0891.jpg  \n",
            "  inflating: starter_set/train/eecs442_0891.png  \n",
            "  inflating: starter_set/train/eecs442_0892.jpg  \n",
            "  inflating: starter_set/train/eecs442_0892.png  \n",
            "  inflating: starter_set/train/eecs442_0893.jpg  \n",
            "  inflating: starter_set/train/eecs442_0893.png  \n",
            "  inflating: starter_set/train/eecs442_0894.jpg  \n",
            "  inflating: starter_set/train/eecs442_0894.png  \n",
            "  inflating: starter_set/train/eecs442_0895.jpg  \n",
            "  inflating: starter_set/train/eecs442_0895.png  \n",
            "  inflating: starter_set/train/eecs442_0896.jpg  \n",
            "  inflating: starter_set/train/eecs442_0896.png  \n",
            "  inflating: starter_set/train/eecs442_0897.jpg  \n",
            "  inflating: starter_set/train/eecs442_0897.png  \n",
            "  inflating: starter_set/train/eecs442_0898.jpg  \n",
            "  inflating: starter_set/train/eecs442_0898.png  \n",
            "  inflating: starter_set/train/eecs442_0899.jpg  \n",
            "  inflating: starter_set/train/eecs442_0899.png  \n",
            "  inflating: starter_set/train/eecs442_0900.jpg  \n",
            "  inflating: starter_set/train/eecs442_0900.png  \n",
            "  inflating: starter_set/train/eecs442_0901.jpg  \n",
            "  inflating: starter_set/train/eecs442_0901.png  \n",
            "  inflating: starter_set/train/eecs442_0902.jpg  \n",
            "  inflating: starter_set/train/eecs442_0902.png  \n",
            "  inflating: starter_set/train/eecs442_0903.jpg  \n",
            "  inflating: starter_set/train/eecs442_0903.png  \n",
            "  inflating: starter_set/train/eecs442_0904.jpg  \n",
            "  inflating: starter_set/train/eecs442_0904.png  \n",
            "  inflating: starter_set/train/eecs442_0905.jpg  \n",
            "  inflating: starter_set/train/eecs442_0905.png  \n"
          ],
          "name": "stdout"
        }
      ]
    },
    {
      "cell_type": "code",
      "metadata": {
        "id": "JyNH5MDbtQC9",
        "colab_type": "code",
        "outputId": "bb18c420-0205-4162-88ba-ac5f413f5791",
        "colab": {
          "base_uri": "https://localhost:8080/",
          "height": 152
        }
      },
      "source": [
        "!unzip ./models.zip\n",
        "!unzip ./output_test.zip\n",
        "!unzip ./output_train.zip"
      ],
      "execution_count": 0,
      "outputs": [
        {
          "output_type": "stream",
          "text": [
            "Archive:  ./models.zip\n",
            "  inflating: models/.DS_Store        \n",
            " extracting: models/__init__.py      \n",
            "Archive:  ./output_test.zip\n",
            "  inflating: output_test/.DS_Store   \n",
            " extracting: output_test/__init__.py  \n",
            "Archive:  ./output_train.zip\n",
            " extracting: output_train/__init__.py  \n"
          ],
          "name": "stdout"
        }
      ]
    },
    {
      "cell_type": "code",
      "metadata": {
        "id": "f0kfaDX6krTI",
        "colab_type": "code",
        "colab": {}
      },
      "source": [
        "class FacadeDataset(Dataset):\n",
        "    def __init__(self, flag, dataDir='./starter_set', data_range=(0, 8), n_class=5, onehot=False):\n",
        "        self.onehot = onehot\n",
        "        assert(flag in ['train', 'eval', 'test', 'test_dev', 'kaggle'])\n",
        "        print(\"load \"+ flag+\" dataset start\")\n",
        "        print(\"    from: %s\" % dataDir)\n",
        "        print(\"    range: [%d, %d)\" % (data_range[0], data_range[1]))\n",
        "        self.dataset = []\n",
        "        for i in range(data_range[0], data_range[1]):\n",
        "            img = Image.open(os.path.join(dataDir,flag,'eecs442_%04d.jpg' % i))\n",
        "\n",
        "            pngreader = png.Reader(filename=os.path.join(dataDir,flag,'eecs442_%04d.png' % i))\n",
        "            w,h,row,info = pngreader.read()\n",
        "            label = np.array(list(row)).astype('uint8')\n",
        "\n",
        "            # Normalize input image\n",
        "            img = np.asarray(img).astype(\"f\").transpose(2, 0, 1)/128.0-1.0\n",
        "            # Convert to n_class-dimensional onehot matrix\n",
        "            label_ = np.asarray(label)\n",
        "            label = np.zeros((n_class, img.shape[1], img.shape[2])).astype(\"i\")\n",
        "            for j in range(n_class):\n",
        "                label[j, :] = label_ == j\n",
        "            self.dataset.append((img, label))\n",
        "        print(\"load dataset done\")\n",
        "\n",
        "    def __len__(self):\n",
        "        return len(self.dataset)\n",
        "\n",
        "    def __getitem__(self, index):\n",
        "        img, label = self.dataset[index]\n",
        "        label = torch.FloatTensor(label)\n",
        "        if not self.onehot:\n",
        "            label = torch.argmax(label, dim=0)\n",
        "        else:\n",
        "            label = label.long()\n",
        "\n",
        "        return torch.FloatTensor(img), torch.LongTensor(label)\n"
      ],
      "execution_count": 0,
      "outputs": []
    },
    {
      "cell_type": "markdown",
      "metadata": {
        "id": "WsEwIN8IoPGA",
        "colab_type": "text"
      },
      "source": [
        "##CNN\n",
        "The starter code in part3/train.py provides a dummy network. The output of the network should be 5 numbers for each pixel in the input image (HxWx5 sized output). Write a CNN with 5-6 convolution layers for this task. The convolution should be followed by ReLU. If you choose to use maxpool after the conv layer, you might consider using torch.nn.Upsample or torch.nn.ConvTranspose2d to finally match the resolution of the input image."
      ]
    },
    {
      "cell_type": "code",
      "metadata": {
        "id": "TU-9IUqopOOV",
        "colab_type": "code",
        "outputId": "41493522-4ffb-4b51-b15a-a62a76af0789",
        "colab": {
          "resources": {
            "http://localhost:8080/nbextensions/google.colab/files.js": {
              "data": "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",
              "ok": true,
              "headers": [
                [
                  "content-type",
                  "application/javascript"
                ]
              ],
              "status": 200,
              "status_text": ""
            }
          },
          "base_uri": "https://localhost:8080/",
          "height": 91
        }
      },
      "source": [
        "from google.colab import files\n",
        "\n",
        "uploaded = files.upload()\n",
        "\n",
        "for fn in uploaded.keys():\n",
        "  print('User uploaded file \"{name}\" with length {length} bytes'.format(\n",
        "      name=fn, length=len(uploaded[fn])))"
      ],
      "execution_count": 0,
      "outputs": [
        {
          "output_type": "display_data",
          "data": {
            "text/html": [
              "\n",
              "     <input type=\"file\" id=\"files-d5010c5c-e0f4-4c50-b4f1-d5ccb7e54056\" name=\"files[]\" multiple disabled />\n",
              "     <output id=\"result-d5010c5c-e0f4-4c50-b4f1-d5ccb7e54056\">\n",
              "      Upload widget is only available when the cell has been executed in the\n",
              "      current browser session. Please rerun this cell to enable.\n",
              "      </output>\n",
              "      <script src=\"/nbextensions/google.colab/files.js\"></script> "
            ],
            "text/plain": [
              "<IPython.core.display.HTML object>"
            ]
          },
          "metadata": {
            "tags": []
          }
        },
        {
          "output_type": "stream",
          "text": [
            "Saving requirements.txt to requirements.txt\n",
            "User uploaded file \"requirements.txt\" with length 23 bytes\n"
          ],
          "name": "stdout"
        }
      ]
    },
    {
      "cell_type": "code",
      "metadata": {
        "id": "k2FwmsT4omPg",
        "colab_type": "code",
        "outputId": "bc077cc6-1047-4e3d-8c7b-5fd5337ba559",
        "colab": {
          "base_uri": "https://localhost:8080/",
          "height": 492
        }
      },
      "source": [
        "pip install -r requirements.txt"
      ],
      "execution_count": 0,
      "outputs": [
        {
          "output_type": "stream",
          "text": [
            "Collecting pypng\n",
            "\u001b[?25l  Downloading https://files.pythonhosted.org/packages/bc/fb/f719f1ac965e2101aa6ea6f54ef8b40f8fbb033f6ad07c017663467f5147/pypng-0.0.20.tar.gz (649kB)\n",
            "\r\u001b[K     |▌                               | 10kB 31.1MB/s eta 0:00:01\r\u001b[K     |█                               | 20kB 3.1MB/s eta 0:00:01\r\u001b[K     |█▌                              | 30kB 4.2MB/s eta 0:00:01\r\u001b[K     |██                              | 40kB 2.9MB/s eta 0:00:01\r\u001b[K     |██▌                             | 51kB 3.4MB/s eta 0:00:01\r\u001b[K     |███                             | 61kB 4.0MB/s eta 0:00:01\r\u001b[K     |███▌                            | 71kB 4.3MB/s eta 0:00:01\r\u001b[K     |████                            | 81kB 4.7MB/s eta 0:00:01\r\u001b[K     |████▌                           | 92kB 5.2MB/s eta 0:00:01\r\u001b[K     |█████                           | 102kB 4.8MB/s eta 0:00:01\r\u001b[K     |█████▌                          | 112kB 4.8MB/s eta 0:00:01\r\u001b[K     |██████                          | 122kB 4.8MB/s eta 0:00:01\r\u001b[K     |██████▋                         | 133kB 4.8MB/s eta 0:00:01\r\u001b[K     |███████                         | 143kB 4.8MB/s eta 0:00:01\r\u001b[K     |███████▋                        | 153kB 4.8MB/s eta 0:00:01\r\u001b[K     |████████                        | 163kB 4.8MB/s eta 0:00:01\r\u001b[K     |████████▋                       | 174kB 4.8MB/s eta 0:00:01\r\u001b[K     |█████████                       | 184kB 4.8MB/s eta 0:00:01\r\u001b[K     |█████████▋                      | 194kB 4.8MB/s eta 0:00:01\r\u001b[K     |██████████                      | 204kB 4.8MB/s eta 0:00:01\r\u001b[K     |██████████▋                     | 215kB 4.8MB/s eta 0:00:01\r\u001b[K     |███████████                     | 225kB 4.8MB/s eta 0:00:01\r\u001b[K     |███████████▋                    | 235kB 4.8MB/s eta 0:00:01\r\u001b[K     |████████████                    | 245kB 4.8MB/s eta 0:00:01\r\u001b[K     |████████████▋                   | 256kB 4.8MB/s eta 0:00:01\r\u001b[K     |█████████████▏                  | 266kB 4.8MB/s eta 0:00:01\r\u001b[K     |█████████████▋                  | 276kB 4.8MB/s eta 0:00:01\r\u001b[K     |██████████████▏                 | 286kB 4.8MB/s eta 0:00:01\r\u001b[K     |██████████████▋                 | 296kB 4.8MB/s eta 0:00:01\r\u001b[K     |███████████████▏                | 307kB 4.8MB/s eta 0:00:01\r\u001b[K     |███████████████▋                | 317kB 4.8MB/s eta 0:00:01\r\u001b[K     |████████████████▏               | 327kB 4.8MB/s eta 0:00:01\r\u001b[K     |████████████████▋               | 337kB 4.8MB/s eta 0:00:01\r\u001b[K     |█████████████████▏              | 348kB 4.8MB/s eta 0:00:01\r\u001b[K     |█████████████████▋              | 358kB 4.8MB/s eta 0:00:01\r\u001b[K     |██████████████████▏             | 368kB 4.8MB/s eta 0:00:01\r\u001b[K     |██████████████████▋             | 378kB 4.8MB/s eta 0:00:01\r\u001b[K     |███████████████████▏            | 389kB 4.8MB/s eta 0:00:01\r\u001b[K     |███████████████████▊            | 399kB 4.8MB/s eta 0:00:01\r\u001b[K     |████████████████████▏           | 409kB 4.8MB/s eta 0:00:01\r\u001b[K     |████████████████████▊           | 419kB 4.8MB/s eta 0:00:01\r\u001b[K     |█████████████████████▏          | 430kB 4.8MB/s eta 0:00:01\r\u001b[K     |█████████████████████▊          | 440kB 4.8MB/s eta 0:00:01\r\u001b[K     |██████████████████████▏         | 450kB 4.8MB/s eta 0:00:01\r\u001b[K     |██████████████████████▊         | 460kB 4.8MB/s eta 0:00:01\r\u001b[K     |███████████████████████▏        | 471kB 4.8MB/s eta 0:00:01\r\u001b[K     |███████████████████████▊        | 481kB 4.8MB/s eta 0:00:01\r\u001b[K     |████████████████████████▏       | 491kB 4.8MB/s eta 0:00:01\r\u001b[K     |████████████████████████▊       | 501kB 4.8MB/s eta 0:00:01\r\u001b[K     |█████████████████████████▎      | 512kB 4.8MB/s eta 0:00:01\r\u001b[K     |█████████████████████████▊      | 522kB 4.8MB/s eta 0:00:01\r\u001b[K     |██████████████████████████▎     | 532kB 4.8MB/s eta 0:00:01\r\u001b[K     |██████████████████████████▊     | 542kB 4.8MB/s eta 0:00:01\r\u001b[K     |███████████████████████████▎    | 552kB 4.8MB/s eta 0:00:01\r\u001b[K     |███████████████████████████▊    | 563kB 4.8MB/s eta 0:00:01\r\u001b[K     |████████████████████████████▎   | 573kB 4.8MB/s eta 0:00:01\r\u001b[K     |████████████████████████████▊   | 583kB 4.8MB/s eta 0:00:01\r\u001b[K     |█████████████████████████████▎  | 593kB 4.8MB/s eta 0:00:01\r\u001b[K     |█████████████████████████████▊  | 604kB 4.8MB/s eta 0:00:01\r\u001b[K     |██████████████████████████████▎ | 614kB 4.8MB/s eta 0:00:01\r\u001b[K     |██████████████████████████████▊ | 624kB 4.8MB/s eta 0:00:01\r\u001b[K     |███████████████████████████████▎| 634kB 4.8MB/s eta 0:00:01\r\u001b[K     |███████████████████████████████▉| 645kB 4.8MB/s eta 0:00:01\r\u001b[K     |████████████████████████████████| 655kB 4.8MB/s \n",
            "\u001b[?25hCollecting colormap\n",
            "  Downloading https://files.pythonhosted.org/packages/a7/26/629aa9f3187c77725f8dc045c6dc922bc846cff386f7e5945e845e104bbe/colormap-1.0.3.tar.gz\n",
            "Collecting easydev\n",
            "\u001b[?25l  Downloading https://files.pythonhosted.org/packages/e3/cf/1fe481564e7e9bbd7f65026be2b8b2d3a013022ef666c56ebc0fa875d3cc/easydev-0.9.38.tar.gz (53kB)\n",
            "\u001b[K     |████████████████████████████████| 61kB 7.4MB/s \n",
            "\u001b[?25hCollecting colorama\n",
            "  Downloading https://files.pythonhosted.org/packages/c9/dc/45cdef1b4d119eb96316b3117e6d5708a08029992b2fee2c143c7a0a5cc5/colorama-0.4.3-py2.py3-none-any.whl\n",
            "Requirement already satisfied: pexpect in /usr/local/lib/python3.6/dist-packages (from easydev->-r requirements.txt (line 3)) (4.8.0)\n",
            "Collecting colorlog\n",
            "  Downloading https://files.pythonhosted.org/packages/00/0d/22c73c2eccb21dd3498df7d22c0b1d4a30f5a5fb3feb64e1ce06bc247747/colorlog-4.1.0-py2.py3-none-any.whl\n",
            "Requirement already satisfied: ptyprocess>=0.5 in /usr/local/lib/python3.6/dist-packages (from pexpect->easydev->-r requirements.txt (line 3)) (0.6.0)\n",
            "Building wheels for collected packages: pypng, colormap, easydev\n",
            "  Building wheel for pypng (setup.py) ... \u001b[?25l\u001b[?25hdone\n",
            "  Created wheel for pypng: filename=pypng-0.0.20-cp36-none-any.whl size=67161 sha256=996fcf644d01c4e00048542562bd9afe5e4b5fb89abccad946c15973b93f803d\n",
            "  Stored in directory: /root/.cache/pip/wheels/41/6b/ef/0493b536b6d4722c2ae9486691b1d49b922b9877922beeabb3\n",
            "  Building wheel for colormap (setup.py) ... \u001b[?25l\u001b[?25hdone\n",
            "  Created wheel for colormap: filename=colormap-1.0.3-cp36-none-any.whl size=15560 sha256=b8ed3a59e61a45e73fd26636fcc82e741f83d3ad11a0c26561a6d69ac6220d12\n",
            "  Stored in directory: /root/.cache/pip/wheels/b5/c4/23/5f5d3e77fb0d00f44ee147a9cbb3acb641b9ebe2f3d5406c66\n",
            "  Building wheel for easydev (setup.py) ... \u001b[?25l\u001b[?25hdone\n",
            "  Created wheel for easydev: filename=easydev-0.9.38-cp36-none-any.whl size=72215 sha256=ac231e94bb2af79a4537838abacd25d526aaeadaf4580784291a3834833028bc\n",
            "  Stored in directory: /root/.cache/pip/wheels/38/93/b7/c4ee5cf6eb4011f7db6467465fe2fb280bbb224a61400bd8a6\n",
            "Successfully built pypng colormap easydev\n",
            "Installing collected packages: pypng, colormap, colorama, colorlog, easydev\n",
            "Successfully installed colorama-0.4.3 colorlog-4.1.0 colormap-1.0.3 easydev-0.9.38 pypng-0.0.20\n"
          ],
          "name": "stdout"
        }
      ]
    },
    {
      "cell_type": "code",
      "metadata": {
        "id": "OZUm2yIMojY_",
        "colab_type": "code",
        "colab": {}
      },
      "source": [
        "import os\n",
        "import time\n",
        "\n",
        "import cv2\n",
        "import matplotlib.pyplot as plt\n",
        "import numpy as np\n",
        "import png\n",
        "import torch\n",
        "import torch.nn as nn\n",
        "import torch.optim as optim\n",
        "import torchvision\n",
        "from colormap.colors import Color, hex2rgb\n",
        "from sklearn.metrics import average_precision_score as ap_score\n",
        "from torch.utils.data import DataLoader\n",
        "from torchvision import datasets, models, transforms\n",
        "from tqdm import tqdm\n",
        "from torch.utils.data.sampler import SubsetRandomSampler"
      ],
      "execution_count": 0,
      "outputs": []
    },
    {
      "cell_type": "code",
      "metadata": {
        "id": "3q3m-UESoHLh",
        "colab_type": "code",
        "colab": {}
      },
      "source": [
        "N_CLASS=5\n",
        "train_loss = []\n",
        "val_loss = []\n",
        "\n",
        "class Net(nn.Module):\n",
        "    def __init__(self):\n",
        "        super(Net, self).__init__()\n",
        "        self.n_class = N_CLASS\n",
        "        self.layers = nn.Sequential(\n",
        "            #########################################\n",
        "            ###        TODO: Add more layers      ###\n",
        "            #########################################\n",
        "            nn.Conv2d(3, 128, kernel_size=5),\n",
        "            nn.ReLU(inplace=True),\n",
        "            nn.MaxPool2d(2, stride=2),\n",
        "            nn.Conv2d(128, 256, kernel_size=3),\n",
        "            nn.ReLU(inplace=True),\n",
        "            nn.MaxPool2d(2, stride=2),\n",
        "            nn.Conv2d(256, 512, kernel_size=3),\n",
        "            nn.ReLU(inplace=True),\n",
        "            nn.MaxPool2d(2, stride=2),\n",
        "            nn.ConvTranspose2d(512, 256, 5, stride=2),\n",
        "            nn.ConvTranspose2d(256, 128, 3, stride=2),\n",
        "            nn.ReLU(inplace=True),\n",
        "            nn.ConvTranspose2d(128, self.n_class, 3, stride=2, output_padding=1)\n",
        "        )\n",
        "\n",
        "    def forward(self, x):\n",
        "        x = self.layers(x)\n",
        "        return x\n",
        "\n",
        "\n",
        "def save_label(label, path):\n",
        "    '''\n",
        "    Function for ploting labels.\n",
        "    '''\n",
        "    colormap = [\n",
        "        '#000000',\n",
        "        '#0080FF',\n",
        "        '#80FF80',\n",
        "        '#FF8000',\n",
        "        '#FF0000',\n",
        "    ]\n",
        "    assert(np.max(label)<len(colormap))\n",
        "    colors = [hex2rgb(color, normalise=False) for color in colormap]\n",
        "    w = png.Writer(label.shape[1], label.shape[0], palette=colors, bitdepth=4)\n",
        "    with open(path, 'wb') as f:\n",
        "        w.write(f, label)\n",
        "\n",
        "def train(trainloader, net, criterion, optimizer, device, epoch):\n",
        "    '''\n",
        "    Function for training.\n",
        "    '''\n",
        "    start = time.time()\n",
        "    running_loss = 0.0\n",
        "    net = net.train()\n",
        "    for images, labels in tqdm(trainloader):\n",
        "        images = images.to(device)\n",
        "        labels = labels.to(device)\n",
        "        optimizer.zero_grad()\n",
        "        output = net(images)\n",
        "        loss = criterion(output, labels)\n",
        "        loss.backward()\n",
        "        optimizer.step()\n",
        "        running_loss = loss.item()\n",
        "    end = time.time()\n",
        "    print('[epoch %d] loss: %.3f elapsed time %.3f' %\n",
        "          (epoch, running_loss, end-start))\n",
        "    train_loss.append(running_loss)\n",
        "\n",
        "def test(testloader, net, criterion, device, val=False):\n",
        "    '''\n",
        "    Function for testing.\n",
        "    '''\n",
        "    losses = 0.\n",
        "    cnt = 0\n",
        "    with torch.no_grad():\n",
        "        net = net.eval()\n",
        "        for images, labels in tqdm(testloader):\n",
        "            images = images.to(device)\n",
        "            labels = labels.to(device)\n",
        "            output = net(images)\n",
        "            loss = criterion(output, labels)\n",
        "            losses += loss.item()\n",
        "            cnt += 1\n",
        "    print(losses / cnt)\n",
        "    if (val):\n",
        "      val_loss.append(losses / cnt)\n",
        "    return (losses/cnt)\n",
        "\n",
        "\n",
        "def cal_AP(testloader, net, criterion, device):\n",
        "    '''\n",
        "    Calculate Average Precision\n",
        "    '''\n",
        "    losses = 0.\n",
        "    cnt = 0\n",
        "    with torch.no_grad():\n",
        "        net = net.eval()\n",
        "        preds = [[] for _ in range(5)]\n",
        "        heatmaps = [[] for _ in range(5)]\n",
        "        for images, labels in tqdm(testloader):\n",
        "            images = images.to(device)\n",
        "            labels = labels.to(device)\n",
        "            output = net(images).cpu().numpy()\n",
        "            for c in range(5):\n",
        "                preds[c].append(output[:, c].reshape(-1))\n",
        "                heatmaps[c].append(labels[:, c].cpu().numpy().reshape(-1))\n",
        "\n",
        "        aps = []\n",
        "        for c in range(5):\n",
        "            preds[c] = np.concatenate(preds[c])\n",
        "            heatmaps[c] = np.concatenate(heatmaps[c])\n",
        "            if heatmaps[c].max() == 0:\n",
        "                ap = float('nan')\n",
        "            else:\n",
        "                ap = ap_score(heatmaps[c], preds[c])\n",
        "                aps.append(ap)\n",
        "            print(\"AP = {}\".format(ap))\n",
        "\n",
        "    # print(losses / cnt)\n",
        "    print(\"Average over all cases:\", sum(aps) / 5)\n",
        "    return None\n",
        "\n",
        "\n",
        "def get_result(testloader, net, device, folder='output_train'):\n",
        "    result = []\n",
        "    cnt = 1\n",
        "    with torch.no_grad():\n",
        "        net = net.eval()\n",
        "        cnt = 0\n",
        "        for images, labels in tqdm(testloader):\n",
        "            images = images.to(device)\n",
        "            labels = labels.to(device)\n",
        "            output = net(images)[0].cpu().numpy()\n",
        "            c, h, w = output.shape\n",
        "            assert(c == N_CLASS)\n",
        "            y = np.zeros((h,w)).astype('uint8')\n",
        "            for i in range(N_CLASS):\n",
        "                mask = output[i]>0.5\n",
        "                y[mask] = i\n",
        "            gt = labels.cpu().data.numpy().squeeze(0).astype('uint8')\n",
        "            save_label(y, './{}/y{}.png'.format(folder, cnt))\n",
        "            save_label(gt, './{}/gt{}.png'.format(folder, cnt))\n",
        "            plt.imsave(\n",
        "                './{}/x{}.png'.format(folder, cnt),\n",
        "                ((images[0].cpu().data.numpy()+1)*128).astype(np.uint8).transpose(1,2,0))\n",
        "\n",
        "            cnt += 1\n",
        "\n",
        "def main():\n",
        "    batch_size = 1\n",
        "    device = torch.device(\"cuda:0\" if torch.cuda.is_available() else \"cpu\")\n",
        "    # TODO change data_range to include all train/evaluation/test data.\n",
        "    # TODO adjust batch_size.\n",
        "    #Training\n",
        "    n_training_samples = 905\n",
        "    train_sampler = SubsetRandomSampler(np.arange(n_training_samples - 114, dtype=np.int64))\n",
        "    #Validation\n",
        "    n_val_samples = 114\n",
        "    val_sampler = SubsetRandomSampler(np.arange(n_training_samples - n_val_samples, n_training_samples, dtype=np.int64))\n",
        "    #Test\n",
        "    n_test_samples = 114\n",
        "    test_sampler = SubsetRandomSampler(np.arange(n_test_samples, dtype=np.int64))\n",
        "    train_data = FacadeDataset(flag='train', data_range=(0, n_training_samples), onehot=False)\n",
        "    train_loader = DataLoader(train_data, sampler=train_sampler, num_workers=2, batch_size=batch_size)\n",
        "    test_data = FacadeDataset(flag='test_dev', data_range=(0,114), onehot=False)\n",
        "    test_loader = DataLoader(test_data, sampler=test_sampler, num_workers=2, batch_size=batch_size)\n",
        "    ap_data = FacadeDataset(flag='test_dev', data_range=(0,114), onehot=True)\n",
        "    ap_loader = DataLoader(ap_data, batch_size=batch_size)\n",
        "\n",
        "    name = 'starter_net'\n",
        "    net = Net().to(device)\n",
        "    criterion = nn.CrossEntropyLoss() #TODO decide loss\n",
        "    optimizer = torch.optim.Adam(net.parameters(), .00008, weight_decay=1e-5)\n",
        "\n",
        "    print('\\nStart training')\n",
        "    for epoch in range(45): #TODO decide epochs\n",
        "        print('-----------------Epoch = %d-----------------' % (epoch+1))\n",
        "        train(train_loader, net, criterion, optimizer, device, epoch+1)\n",
        "        # TODO create your evaluation set, load the evaluation set and test on evaluation set\n",
        "        #evaluation_loader = train_loader\n",
        "        #test(evaluation_loader, net, criterion, device)\n",
        "        evaluation_loader = DataLoader(train_data, batch_size=batch_size, sampler=val_sampler)\n",
        "        test(evaluation_loader, net, criterion, device, val=True)\n",
        "\n",
        "    print('\\nFinished Training, Testing on test set')\n",
        "    test(test_loader, net, criterion, device)\n",
        "    print('\\nGenerating Unlabeled Result')\n",
        "    result = get_result(test_loader, net, device, folder='output_test')\n",
        "\n",
        "    torch.save(net.state_dict(), './models/model_{}.pth'.format(name))\n",
        "\n",
        "    cal_AP(ap_loader, net, criterion, device)"
      ],
      "execution_count": 0,
      "outputs": []
    },
    {
      "cell_type": "code",
      "metadata": {
        "id": "i0iBko2toTez",
        "colab_type": "code",
        "outputId": "127739d0-21ac-436c-c0b4-da3d8e72d9cb",
        "colab": {
          "base_uri": "https://localhost:8080/",
          "height": 1000
        }
      },
      "source": [
        "main()"
      ],
      "execution_count": 0,
      "outputs": [
        {
          "output_type": "stream",
          "text": [
            "load train dataset start\n",
            "    from: ./starter_set\n",
            "    range: [0, 905)\n",
            "load dataset done\n",
            "load test_dev dataset start\n",
            "    from: ./starter_set\n",
            "    range: [0, 114)\n",
            "load dataset done\n",
            "load test_dev dataset start\n",
            "    from: ./starter_set\n",
            "    range: [0, 114)\n",
            "load dataset done\n",
            "\n",
            "Start training\n",
            "-----------------Epoch = 1-----------------\n"
          ],
          "name": "stdout"
        },
        {
          "output_type": "stream",
          "text": [
            "100%|██████████| 791/791 [00:14<00:00, 52.88it/s]\n"
          ],
          "name": "stderr"
        },
        {
          "output_type": "stream",
          "text": [
            "[epoch 1] loss: 1.270 elapsed time 14.962\n"
          ],
          "name": "stdout"
        },
        {
          "output_type": "stream",
          "text": [
            "100%|██████████| 114/114 [00:02<00:00, 55.98it/s]\n"
          ],
          "name": "stderr"
        },
        {
          "output_type": "stream",
          "text": [
            "1.0587933978490662\n",
            "-----------------Epoch = 2-----------------\n"
          ],
          "name": "stdout"
        },
        {
          "output_type": "stream",
          "text": [
            "100%|██████████| 791/791 [00:14<00:00, 52.87it/s]\n"
          ],
          "name": "stderr"
        },
        {
          "output_type": "stream",
          "text": [
            "[epoch 2] loss: 0.692 elapsed time 14.965\n"
          ],
          "name": "stdout"
        },
        {
          "output_type": "stream",
          "text": [
            "100%|██████████| 114/114 [00:02<00:00, 55.49it/s]\n"
          ],
          "name": "stderr"
        },
        {
          "output_type": "stream",
          "text": [
            "0.9641944096799482\n",
            "-----------------Epoch = 3-----------------\n"
          ],
          "name": "stdout"
        },
        {
          "output_type": "stream",
          "text": [
            "100%|██████████| 791/791 [00:14<00:00, 52.84it/s]\n"
          ],
          "name": "stderr"
        },
        {
          "output_type": "stream",
          "text": [
            "[epoch 3] loss: 1.540 elapsed time 14.973\n"
          ],
          "name": "stdout"
        },
        {
          "output_type": "stream",
          "text": [
            "100%|██████████| 114/114 [00:02<00:00, 56.94it/s]\n"
          ],
          "name": "stderr"
        },
        {
          "output_type": "stream",
          "text": [
            "0.8989247052293075\n",
            "-----------------Epoch = 4-----------------\n"
          ],
          "name": "stdout"
        },
        {
          "output_type": "stream",
          "text": [
            "100%|██████████| 791/791 [00:15<00:00, 52.57it/s]\n"
          ],
          "name": "stderr"
        },
        {
          "output_type": "stream",
          "text": [
            "[epoch 4] loss: 0.604 elapsed time 15.052\n"
          ],
          "name": "stdout"
        },
        {
          "output_type": "stream",
          "text": [
            "100%|██████████| 114/114 [00:02<00:00, 54.95it/s]\n"
          ],
          "name": "stderr"
        },
        {
          "output_type": "stream",
          "text": [
            "0.8622355262438456\n",
            "-----------------Epoch = 5-----------------\n"
          ],
          "name": "stdout"
        },
        {
          "output_type": "stream",
          "text": [
            "100%|██████████| 791/791 [00:15<00:00, 52.65it/s]\n"
          ],
          "name": "stderr"
        },
        {
          "output_type": "stream",
          "text": [
            "[epoch 5] loss: 0.718 elapsed time 15.029\n"
          ],
          "name": "stdout"
        },
        {
          "output_type": "stream",
          "text": [
            "100%|██████████| 114/114 [00:02<00:00, 56.17it/s]\n"
          ],
          "name": "stderr"
        },
        {
          "output_type": "stream",
          "text": [
            "0.8479235386639311\n",
            "-----------------Epoch = 6-----------------\n"
          ],
          "name": "stdout"
        },
        {
          "output_type": "stream",
          "text": [
            "100%|██████████| 791/791 [00:14<00:00, 52.84it/s]\n"
          ],
          "name": "stderr"
        },
        {
          "output_type": "stream",
          "text": [
            "[epoch 6] loss: 0.825 elapsed time 14.977\n"
          ],
          "name": "stdout"
        },
        {
          "output_type": "stream",
          "text": [
            "100%|██████████| 114/114 [00:02<00:00, 56.05it/s]\n"
          ],
          "name": "stderr"
        },
        {
          "output_type": "stream",
          "text": [
            "0.8103006050774926\n",
            "-----------------Epoch = 7-----------------\n"
          ],
          "name": "stdout"
        },
        {
          "output_type": "stream",
          "text": [
            "100%|██████████| 791/791 [00:14<00:00, 52.97it/s]\n"
          ],
          "name": "stderr"
        },
        {
          "output_type": "stream",
          "text": [
            "[epoch 7] loss: 0.834 elapsed time 14.936\n"
          ],
          "name": "stdout"
        },
        {
          "output_type": "stream",
          "text": [
            "100%|██████████| 114/114 [00:02<00:00, 55.88it/s]\n"
          ],
          "name": "stderr"
        },
        {
          "output_type": "stream",
          "text": [
            "0.803008045805128\n",
            "-----------------Epoch = 8-----------------\n"
          ],
          "name": "stdout"
        },
        {
          "output_type": "stream",
          "text": [
            "100%|██████████| 791/791 [00:14<00:00, 52.89it/s]\n"
          ],
          "name": "stderr"
        },
        {
          "output_type": "stream",
          "text": [
            "[epoch 8] loss: 0.920 elapsed time 14.959\n"
          ],
          "name": "stdout"
        },
        {
          "output_type": "stream",
          "text": [
            "100%|██████████| 114/114 [00:02<00:00, 56.09it/s]\n"
          ],
          "name": "stderr"
        },
        {
          "output_type": "stream",
          "text": [
            "0.7894886269381172\n",
            "-----------------Epoch = 9-----------------\n"
          ],
          "name": "stdout"
        },
        {
          "output_type": "stream",
          "text": [
            "100%|██████████| 791/791 [00:15<00:00, 52.61it/s]\n"
          ],
          "name": "stderr"
        },
        {
          "output_type": "stream",
          "text": [
            "[epoch 9] loss: 0.996 elapsed time 15.045\n"
          ],
          "name": "stdout"
        },
        {
          "output_type": "stream",
          "text": [
            "100%|██████████| 114/114 [00:02<00:00, 55.67it/s]\n"
          ],
          "name": "stderr"
        },
        {
          "output_type": "stream",
          "text": [
            "0.7973683424163283\n",
            "-----------------Epoch = 10-----------------\n"
          ],
          "name": "stdout"
        },
        {
          "output_type": "stream",
          "text": [
            "100%|██████████| 791/791 [00:15<00:00, 52.64it/s]\n"
          ],
          "name": "stderr"
        },
        {
          "output_type": "stream",
          "text": [
            "[epoch 10] loss: 0.671 elapsed time 15.029\n"
          ],
          "name": "stdout"
        },
        {
          "output_type": "stream",
          "text": [
            "100%|██████████| 114/114 [00:02<00:00, 55.05it/s]\n"
          ],
          "name": "stderr"
        },
        {
          "output_type": "stream",
          "text": [
            "0.7707921726661816\n",
            "-----------------Epoch = 11-----------------\n"
          ],
          "name": "stdout"
        },
        {
          "output_type": "stream",
          "text": [
            "100%|██████████| 791/791 [00:15<00:00, 52.66it/s]\n"
          ],
          "name": "stderr"
        },
        {
          "output_type": "stream",
          "text": [
            "[epoch 11] loss: 0.967 elapsed time 15.023\n"
          ],
          "name": "stdout"
        },
        {
          "output_type": "stream",
          "text": [
            "100%|██████████| 114/114 [00:02<00:00, 56.08it/s]\n"
          ],
          "name": "stderr"
        },
        {
          "output_type": "stream",
          "text": [
            "0.7550357449472996\n",
            "-----------------Epoch = 12-----------------\n"
          ],
          "name": "stdout"
        },
        {
          "output_type": "stream",
          "text": [
            "100%|██████████| 791/791 [00:14<00:00, 52.95it/s]\n"
          ],
          "name": "stderr"
        },
        {
          "output_type": "stream",
          "text": [
            "[epoch 12] loss: 0.634 elapsed time 14.944\n"
          ],
          "name": "stdout"
        },
        {
          "output_type": "stream",
          "text": [
            "100%|██████████| 114/114 [00:02<00:00, 55.54it/s]\n"
          ],
          "name": "stderr"
        },
        {
          "output_type": "stream",
          "text": [
            "0.7385744865526233\n",
            "-----------------Epoch = 13-----------------\n"
          ],
          "name": "stdout"
        },
        {
          "output_type": "stream",
          "text": [
            "100%|██████████| 791/791 [00:15<00:00, 52.59it/s]\n"
          ],
          "name": "stderr"
        },
        {
          "output_type": "stream",
          "text": [
            "[epoch 13] loss: 0.667 elapsed time 15.045\n"
          ],
          "name": "stdout"
        },
        {
          "output_type": "stream",
          "text": [
            "100%|██████████| 114/114 [00:02<00:00, 56.21it/s]\n"
          ],
          "name": "stderr"
        },
        {
          "output_type": "stream",
          "text": [
            "0.7268755430715126\n",
            "-----------------Epoch = 14-----------------\n"
          ],
          "name": "stdout"
        },
        {
          "output_type": "stream",
          "text": [
            "100%|██████████| 791/791 [00:14<00:00, 52.84it/s]\n"
          ],
          "name": "stderr"
        },
        {
          "output_type": "stream",
          "text": [
            "[epoch 14] loss: 0.839 elapsed time 14.974\n"
          ],
          "name": "stdout"
        },
        {
          "output_type": "stream",
          "text": [
            "100%|██████████| 114/114 [00:02<00:00, 56.18it/s]\n"
          ],
          "name": "stderr"
        },
        {
          "output_type": "stream",
          "text": [
            "0.7177393326633855\n",
            "-----------------Epoch = 15-----------------\n"
          ],
          "name": "stdout"
        },
        {
          "output_type": "stream",
          "text": [
            "100%|██████████| 791/791 [00:15<00:00, 52.40it/s]\n"
          ],
          "name": "stderr"
        },
        {
          "output_type": "stream",
          "text": [
            "[epoch 15] loss: 0.675 elapsed time 15.098\n"
          ],
          "name": "stdout"
        },
        {
          "output_type": "stream",
          "text": [
            "100%|██████████| 114/114 [00:02<00:00, 56.25it/s]\n"
          ],
          "name": "stderr"
        },
        {
          "output_type": "stream",
          "text": [
            "0.7107868320063541\n",
            "-----------------Epoch = 16-----------------\n"
          ],
          "name": "stdout"
        },
        {
          "output_type": "stream",
          "text": [
            "100%|██████████| 791/791 [00:15<00:00, 52.62it/s]\n"
          ],
          "name": "stderr"
        },
        {
          "output_type": "stream",
          "text": [
            "[epoch 16] loss: 0.809 elapsed time 15.038\n"
          ],
          "name": "stdout"
        },
        {
          "output_type": "stream",
          "text": [
            "100%|██████████| 114/114 [00:02<00:00, 54.30it/s]\n"
          ],
          "name": "stderr"
        },
        {
          "output_type": "stream",
          "text": [
            "0.6981550567505652\n",
            "-----------------Epoch = 17-----------------\n"
          ],
          "name": "stdout"
        },
        {
          "output_type": "stream",
          "text": [
            "100%|██████████| 791/791 [00:15<00:00, 52.61it/s]\n"
          ],
          "name": "stderr"
        },
        {
          "output_type": "stream",
          "text": [
            "[epoch 17] loss: 0.682 elapsed time 15.039\n"
          ],
          "name": "stdout"
        },
        {
          "output_type": "stream",
          "text": [
            "100%|██████████| 114/114 [00:02<00:00, 56.15it/s]\n"
          ],
          "name": "stderr"
        },
        {
          "output_type": "stream",
          "text": [
            "0.7305940217093417\n",
            "-----------------Epoch = 18-----------------\n"
          ],
          "name": "stdout"
        },
        {
          "output_type": "stream",
          "text": [
            "100%|██████████| 791/791 [00:15<00:00, 52.43it/s]\n"
          ],
          "name": "stderr"
        },
        {
          "output_type": "stream",
          "text": [
            "[epoch 18] loss: 0.532 elapsed time 15.091\n"
          ],
          "name": "stdout"
        },
        {
          "output_type": "stream",
          "text": [
            "100%|██████████| 114/114 [00:02<00:00, 54.34it/s]\n"
          ],
          "name": "stderr"
        },
        {
          "output_type": "stream",
          "text": [
            "0.6867924222820684\n",
            "-----------------Epoch = 19-----------------\n"
          ],
          "name": "stdout"
        },
        {
          "output_type": "stream",
          "text": [
            "100%|██████████| 791/791 [00:15<00:00, 52.68it/s]\n"
          ],
          "name": "stderr"
        },
        {
          "output_type": "stream",
          "text": [
            "[epoch 19] loss: 0.740 elapsed time 15.018\n"
          ],
          "name": "stdout"
        },
        {
          "output_type": "stream",
          "text": [
            "100%|██████████| 114/114 [00:02<00:00, 55.15it/s]\n"
          ],
          "name": "stderr"
        },
        {
          "output_type": "stream",
          "text": [
            "0.6577735313198023\n",
            "-----------------Epoch = 20-----------------\n"
          ],
          "name": "stdout"
        },
        {
          "output_type": "stream",
          "text": [
            "100%|██████████| 791/791 [00:15<00:00, 52.69it/s]\n"
          ],
          "name": "stderr"
        },
        {
          "output_type": "stream",
          "text": [
            "[epoch 20] loss: 0.672 elapsed time 15.018\n"
          ],
          "name": "stdout"
        },
        {
          "output_type": "stream",
          "text": [
            "100%|██████████| 114/114 [00:02<00:00, 55.12it/s]\n"
          ],
          "name": "stderr"
        },
        {
          "output_type": "stream",
          "text": [
            "0.6411076535781225\n",
            "-----------------Epoch = 21-----------------\n"
          ],
          "name": "stdout"
        },
        {
          "output_type": "stream",
          "text": [
            "100%|██████████| 791/791 [00:15<00:00, 52.72it/s]\n"
          ],
          "name": "stderr"
        },
        {
          "output_type": "stream",
          "text": [
            "[epoch 21] loss: 0.510 elapsed time 15.009\n"
          ],
          "name": "stdout"
        },
        {
          "output_type": "stream",
          "text": [
            "100%|██████████| 114/114 [00:02<00:00, 55.74it/s]\n"
          ],
          "name": "stderr"
        },
        {
          "output_type": "stream",
          "text": [
            "0.6371899150442659\n",
            "-----------------Epoch = 22-----------------\n"
          ],
          "name": "stdout"
        },
        {
          "output_type": "stream",
          "text": [
            "100%|██████████| 791/791 [00:15<00:00, 52.71it/s]\n"
          ],
          "name": "stderr"
        },
        {
          "output_type": "stream",
          "text": [
            "[epoch 22] loss: 0.708 elapsed time 15.013\n"
          ],
          "name": "stdout"
        },
        {
          "output_type": "stream",
          "text": [
            "100%|██████████| 114/114 [00:02<00:00, 55.26it/s]\n"
          ],
          "name": "stderr"
        },
        {
          "output_type": "stream",
          "text": [
            "0.651796128143344\n",
            "-----------------Epoch = 23-----------------\n"
          ],
          "name": "stdout"
        },
        {
          "output_type": "stream",
          "text": [
            "100%|██████████| 791/791 [00:15<00:00, 52.70it/s]\n"
          ],
          "name": "stderr"
        },
        {
          "output_type": "stream",
          "text": [
            "[epoch 23] loss: 0.555 elapsed time 15.014\n"
          ],
          "name": "stdout"
        },
        {
          "output_type": "stream",
          "text": [
            "100%|██████████| 114/114 [00:02<00:00, 55.95it/s]\n"
          ],
          "name": "stderr"
        },
        {
          "output_type": "stream",
          "text": [
            "0.6280704796837088\n",
            "-----------------Epoch = 24-----------------\n"
          ],
          "name": "stdout"
        },
        {
          "output_type": "stream",
          "text": [
            "100%|██████████| 791/791 [00:15<00:00, 52.63it/s]\n"
          ],
          "name": "stderr"
        },
        {
          "output_type": "stream",
          "text": [
            "[epoch 24] loss: 0.710 elapsed time 15.032\n"
          ],
          "name": "stdout"
        },
        {
          "output_type": "stream",
          "text": [
            "100%|██████████| 114/114 [00:02<00:00, 56.27it/s]\n"
          ],
          "name": "stderr"
        },
        {
          "output_type": "stream",
          "text": [
            "0.6371113637037444\n",
            "-----------------Epoch = 25-----------------\n"
          ],
          "name": "stdout"
        },
        {
          "output_type": "stream",
          "text": [
            "100%|██████████| 791/791 [00:15<00:00, 52.69it/s]\n"
          ],
          "name": "stderr"
        },
        {
          "output_type": "stream",
          "text": [
            "[epoch 25] loss: 0.484 elapsed time 15.015\n"
          ],
          "name": "stdout"
        },
        {
          "output_type": "stream",
          "text": [
            "100%|██████████| 114/114 [00:02<00:00, 56.16it/s]\n"
          ],
          "name": "stderr"
        },
        {
          "output_type": "stream",
          "text": [
            "0.6076376869490272\n",
            "-----------------Epoch = 26-----------------\n"
          ],
          "name": "stdout"
        },
        {
          "output_type": "stream",
          "text": [
            "100%|██████████| 791/791 [00:15<00:00, 52.61it/s]\n"
          ],
          "name": "stderr"
        },
        {
          "output_type": "stream",
          "text": [
            "[epoch 26] loss: 0.562 elapsed time 15.038\n"
          ],
          "name": "stdout"
        },
        {
          "output_type": "stream",
          "text": [
            "100%|██████████| 114/114 [00:02<00:00, 54.31it/s]\n"
          ],
          "name": "stderr"
        },
        {
          "output_type": "stream",
          "text": [
            "0.6186329468823316\n",
            "-----------------Epoch = 27-----------------\n"
          ],
          "name": "stdout"
        },
        {
          "output_type": "stream",
          "text": [
            "100%|██████████| 791/791 [00:15<00:00, 52.63it/s]\n"
          ],
          "name": "stderr"
        },
        {
          "output_type": "stream",
          "text": [
            "[epoch 27] loss: 0.651 elapsed time 15.036\n"
          ],
          "name": "stdout"
        },
        {
          "output_type": "stream",
          "text": [
            "100%|██████████| 114/114 [00:02<00:00, 55.53it/s]\n"
          ],
          "name": "stderr"
        },
        {
          "output_type": "stream",
          "text": [
            "0.5897263844023671\n",
            "-----------------Epoch = 28-----------------\n"
          ],
          "name": "stdout"
        },
        {
          "output_type": "stream",
          "text": [
            "100%|██████████| 791/791 [00:15<00:00, 52.51it/s]\n"
          ],
          "name": "stderr"
        },
        {
          "output_type": "stream",
          "text": [
            "[epoch 28] loss: 0.591 elapsed time 15.068\n"
          ],
          "name": "stdout"
        },
        {
          "output_type": "stream",
          "text": [
            "100%|██████████| 114/114 [00:02<00:00, 54.40it/s]\n"
          ],
          "name": "stderr"
        },
        {
          "output_type": "stream",
          "text": [
            "0.5912737475152601\n",
            "-----------------Epoch = 29-----------------\n"
          ],
          "name": "stdout"
        },
        {
          "output_type": "stream",
          "text": [
            "100%|██████████| 791/791 [00:15<00:00, 52.59it/s]\n"
          ],
          "name": "stderr"
        },
        {
          "output_type": "stream",
          "text": [
            "[epoch 29] loss: 0.462 elapsed time 15.045\n"
          ],
          "name": "stdout"
        },
        {
          "output_type": "stream",
          "text": [
            "100%|██████████| 114/114 [00:02<00:00, 54.16it/s]\n"
          ],
          "name": "stderr"
        },
        {
          "output_type": "stream",
          "text": [
            "0.5905482721956152\n",
            "-----------------Epoch = 30-----------------\n"
          ],
          "name": "stdout"
        },
        {
          "output_type": "stream",
          "text": [
            "100%|██████████| 791/791 [00:14<00:00, 53.22it/s]\n"
          ],
          "name": "stderr"
        },
        {
          "output_type": "stream",
          "text": [
            "[epoch 30] loss: 0.715 elapsed time 14.865\n"
          ],
          "name": "stdout"
        },
        {
          "output_type": "stream",
          "text": [
            "100%|██████████| 114/114 [00:02<00:00, 56.54it/s]\n"
          ],
          "name": "stderr"
        },
        {
          "output_type": "stream",
          "text": [
            "0.5744819790124893\n",
            "-----------------Epoch = 31-----------------\n"
          ],
          "name": "stdout"
        },
        {
          "output_type": "stream",
          "text": [
            "100%|██████████| 791/791 [00:15<00:00, 52.62it/s]\n"
          ],
          "name": "stderr"
        },
        {
          "output_type": "stream",
          "text": [
            "[epoch 31] loss: 0.391 elapsed time 15.039\n"
          ],
          "name": "stdout"
        },
        {
          "output_type": "stream",
          "text": [
            "100%|██████████| 114/114 [00:02<00:00, 55.83it/s]\n"
          ],
          "name": "stderr"
        },
        {
          "output_type": "stream",
          "text": [
            "0.5664549229437845\n",
            "-----------------Epoch = 32-----------------\n"
          ],
          "name": "stdout"
        },
        {
          "output_type": "stream",
          "text": [
            "100%|██████████| 791/791 [00:14<00:00, 52.77it/s]\n"
          ],
          "name": "stderr"
        },
        {
          "output_type": "stream",
          "text": [
            "[epoch 32] loss: 0.292 elapsed time 14.992\n"
          ],
          "name": "stdout"
        },
        {
          "output_type": "stream",
          "text": [
            "100%|██████████| 114/114 [00:02<00:00, 54.10it/s]\n"
          ],
          "name": "stderr"
        },
        {
          "output_type": "stream",
          "text": [
            "0.5734368920849081\n",
            "-----------------Epoch = 33-----------------\n"
          ],
          "name": "stdout"
        },
        {
          "output_type": "stream",
          "text": [
            "100%|██████████| 791/791 [00:15<00:00, 52.62it/s]\n"
          ],
          "name": "stderr"
        },
        {
          "output_type": "stream",
          "text": [
            "[epoch 33] loss: 0.486 elapsed time 15.036\n"
          ],
          "name": "stdout"
        },
        {
          "output_type": "stream",
          "text": [
            "100%|██████████| 114/114 [00:02<00:00, 54.93it/s]\n"
          ],
          "name": "stderr"
        },
        {
          "output_type": "stream",
          "text": [
            "0.5543032440177181\n",
            "-----------------Epoch = 34-----------------\n"
          ],
          "name": "stdout"
        },
        {
          "output_type": "stream",
          "text": [
            "100%|██████████| 791/791 [00:15<00:00, 52.62it/s]\n"
          ],
          "name": "stderr"
        },
        {
          "output_type": "stream",
          "text": [
            "[epoch 34] loss: 0.305 elapsed time 15.038\n"
          ],
          "name": "stdout"
        },
        {
          "output_type": "stream",
          "text": [
            "100%|██████████| 114/114 [00:02<00:00, 55.96it/s]\n"
          ],
          "name": "stderr"
        },
        {
          "output_type": "stream",
          "text": [
            "0.5463610656167331\n",
            "-----------------Epoch = 35-----------------\n"
          ],
          "name": "stdout"
        },
        {
          "output_type": "stream",
          "text": [
            "100%|██████████| 791/791 [00:15<00:00, 52.58it/s]\n"
          ],
          "name": "stderr"
        },
        {
          "output_type": "stream",
          "text": [
            "[epoch 35] loss: 0.519 elapsed time 15.045\n"
          ],
          "name": "stdout"
        },
        {
          "output_type": "stream",
          "text": [
            "100%|██████████| 114/114 [00:02<00:00, 55.79it/s]\n"
          ],
          "name": "stderr"
        },
        {
          "output_type": "stream",
          "text": [
            "0.532226124745712\n",
            "-----------------Epoch = 36-----------------\n"
          ],
          "name": "stdout"
        },
        {
          "output_type": "stream",
          "text": [
            "100%|██████████| 791/791 [00:15<00:00, 52.58it/s]\n"
          ],
          "name": "stderr"
        },
        {
          "output_type": "stream",
          "text": [
            "[epoch 36] loss: 0.427 elapsed time 15.047\n"
          ],
          "name": "stdout"
        },
        {
          "output_type": "stream",
          "text": [
            "100%|██████████| 114/114 [00:02<00:00, 55.63it/s]\n"
          ],
          "name": "stderr"
        },
        {
          "output_type": "stream",
          "text": [
            "0.5322830213005083\n",
            "-----------------Epoch = 37-----------------\n"
          ],
          "name": "stdout"
        },
        {
          "output_type": "stream",
          "text": [
            "100%|██████████| 791/791 [00:14<00:00, 52.77it/s]\n"
          ],
          "name": "stderr"
        },
        {
          "output_type": "stream",
          "text": [
            "[epoch 37] loss: 0.455 elapsed time 14.994\n"
          ],
          "name": "stdout"
        },
        {
          "output_type": "stream",
          "text": [
            "100%|██████████| 114/114 [00:02<00:00, 55.86it/s]\n"
          ],
          "name": "stderr"
        },
        {
          "output_type": "stream",
          "text": [
            "0.539074033498764\n",
            "-----------------Epoch = 38-----------------\n"
          ],
          "name": "stdout"
        },
        {
          "output_type": "stream",
          "text": [
            "100%|██████████| 791/791 [00:14<00:00, 52.91it/s]\n"
          ],
          "name": "stderr"
        },
        {
          "output_type": "stream",
          "text": [
            "[epoch 38] loss: 0.354 elapsed time 14.956\n"
          ],
          "name": "stdout"
        },
        {
          "output_type": "stream",
          "text": [
            "100%|██████████| 114/114 [00:02<00:00, 54.87it/s]\n"
          ],
          "name": "stderr"
        },
        {
          "output_type": "stream",
          "text": [
            "0.5344428677569356\n",
            "-----------------Epoch = 39-----------------\n"
          ],
          "name": "stdout"
        },
        {
          "output_type": "stream",
          "text": [
            "100%|██████████| 791/791 [00:14<00:00, 52.95it/s]\n"
          ],
          "name": "stderr"
        },
        {
          "output_type": "stream",
          "text": [
            "[epoch 39] loss: 0.366 elapsed time 14.943\n"
          ],
          "name": "stdout"
        },
        {
          "output_type": "stream",
          "text": [
            "100%|██████████| 114/114 [00:02<00:00, 54.97it/s]\n"
          ],
          "name": "stderr"
        },
        {
          "output_type": "stream",
          "text": [
            "0.5126364696444127\n",
            "-----------------Epoch = 40-----------------\n"
          ],
          "name": "stdout"
        },
        {
          "output_type": "stream",
          "text": [
            "100%|██████████| 791/791 [00:15<00:00, 52.68it/s]\n"
          ],
          "name": "stderr"
        },
        {
          "output_type": "stream",
          "text": [
            "[epoch 40] loss: 0.438 elapsed time 15.019\n"
          ],
          "name": "stdout"
        },
        {
          "output_type": "stream",
          "text": [
            "100%|██████████| 114/114 [00:02<00:00, 54.57it/s]\n"
          ],
          "name": "stderr"
        },
        {
          "output_type": "stream",
          "text": [
            "0.5401052810382425\n",
            "-----------------Epoch = 41-----------------\n"
          ],
          "name": "stdout"
        },
        {
          "output_type": "stream",
          "text": [
            "100%|██████████| 791/791 [00:15<00:00, 52.69it/s]\n"
          ],
          "name": "stderr"
        },
        {
          "output_type": "stream",
          "text": [
            "[epoch 41] loss: 0.267 elapsed time 15.017\n"
          ],
          "name": "stdout"
        },
        {
          "output_type": "stream",
          "text": [
            "100%|██████████| 114/114 [00:02<00:00, 55.36it/s]\n"
          ],
          "name": "stderr"
        },
        {
          "output_type": "stream",
          "text": [
            "0.5167857703932545\n",
            "-----------------Epoch = 42-----------------\n"
          ],
          "name": "stdout"
        },
        {
          "output_type": "stream",
          "text": [
            "100%|██████████| 791/791 [00:14<00:00, 52.80it/s]\n"
          ],
          "name": "stderr"
        },
        {
          "output_type": "stream",
          "text": [
            "[epoch 42] loss: 0.387 elapsed time 14.987\n"
          ],
          "name": "stdout"
        },
        {
          "output_type": "stream",
          "text": [
            "100%|██████████| 114/114 [00:02<00:00, 56.28it/s]\n"
          ],
          "name": "stderr"
        },
        {
          "output_type": "stream",
          "text": [
            "0.5069766346561281\n",
            "-----------------Epoch = 43-----------------\n"
          ],
          "name": "stdout"
        },
        {
          "output_type": "stream",
          "text": [
            "100%|██████████| 791/791 [00:14<00:00, 52.84it/s]\n"
          ],
          "name": "stderr"
        },
        {
          "output_type": "stream",
          "text": [
            "[epoch 43] loss: 0.410 elapsed time 14.973\n"
          ],
          "name": "stdout"
        },
        {
          "output_type": "stream",
          "text": [
            "100%|██████████| 114/114 [00:02<00:00, 56.68it/s]\n"
          ],
          "name": "stderr"
        },
        {
          "output_type": "stream",
          "text": [
            "0.5190850633539652\n",
            "-----------------Epoch = 44-----------------\n"
          ],
          "name": "stdout"
        },
        {
          "output_type": "stream",
          "text": [
            "100%|██████████| 791/791 [00:14<00:00, 53.00it/s]\n"
          ],
          "name": "stderr"
        },
        {
          "output_type": "stream",
          "text": [
            "[epoch 44] loss: 0.427 elapsed time 14.933\n"
          ],
          "name": "stdout"
        },
        {
          "output_type": "stream",
          "text": [
            "100%|██████████| 114/114 [00:02<00:00, 55.49it/s]\n"
          ],
          "name": "stderr"
        },
        {
          "output_type": "stream",
          "text": [
            "0.5103845015952462\n",
            "-----------------Epoch = 45-----------------\n"
          ],
          "name": "stdout"
        },
        {
          "output_type": "stream",
          "text": [
            "100%|██████████| 791/791 [00:15<00:00, 52.61it/s]\n"
          ],
          "name": "stderr"
        },
        {
          "output_type": "stream",
          "text": [
            "[epoch 45] loss: 0.517 elapsed time 15.039\n"
          ],
          "name": "stdout"
        },
        {
          "output_type": "stream",
          "text": [
            "100%|██████████| 114/114 [00:02<00:00, 55.16it/s]\n"
          ],
          "name": "stderr"
        },
        {
          "output_type": "stream",
          "text": [
            "0.5034478034889489\n",
            "\n",
            "Finished Training, Testing on test set\n"
          ],
          "name": "stdout"
        },
        {
          "output_type": "stream",
          "text": [
            "100%|██████████| 114/114 [00:01<00:00, 81.68it/s]\n"
          ],
          "name": "stderr"
        },
        {
          "output_type": "stream",
          "text": [
            "0.9487951983485305\n",
            "\n",
            "Generating Unlabeled Result\n"
          ],
          "name": "stdout"
        },
        {
          "output_type": "stream",
          "text": [
            "100%|██████████| 114/114 [00:08<00:00, 13.35it/s]\n",
            "100%|██████████| 114/114 [00:01<00:00, 98.07it/s]\n"
          ],
          "name": "stderr"
        },
        {
          "output_type": "stream",
          "text": [
            "AP = 0.6650391528044352\n",
            "AP = 0.7495223466019041\n",
            "AP = 0.20047346249696912\n",
            "AP = 0.8481419984297889\n",
            "AP = 0.5634386704211363\n",
            "Average over all cases: 0.6053231261508467\n"
          ],
          "name": "stdout"
        }
      ]
    },
    {
      "cell_type": "code",
      "metadata": {
        "id": "8gcpfv6CWCyS",
        "colab_type": "code",
        "outputId": "7d9a8126-ce50-4654-e211-897aa1bea9e8",
        "colab": {
          "base_uri": "https://localhost:8080/",
          "height": 312
        }
      },
      "source": [
        "plt.plot(np.arange(0, 45), val_loss, label=\"validation loss\")\n",
        "plt.plot(np.arange(0, 45), train_loss, label=\"training loss\")\n",
        "plt.title(\"Cross Entropy Loss Over Epochs\")\n",
        "plt.xlabel(\"Epochs\")\n",
        "plt.ylabel(\"Loss\")\n",
        "plt.legend()"
      ],
      "execution_count": 0,
      "outputs": [
        {
          "output_type": "execute_result",
          "data": {
            "text/plain": [
              "<matplotlib.legend.Legend at 0x7f63a01c9be0>"
            ]
          },
          "metadata": {
            "tags": []
          },
          "execution_count": 7
        },
        {
          "output_type": "display_data",
          "data": {
            "image/png": "[encoded data removed]",
            "text/plain": [
              "<Figure size 432x288 with 1 Axes>"
            ]
          },
          "metadata": {
            "tags": []
          }
        }
      ]
    },
    {
      "cell_type": "code",
      "metadata": {
        "id": "b2fvwuqYsFzi",
        "colab_type": "code",
        "colab": {}
      },
      "source": [
        "from google.colab import files"
      ],
      "execution_count": 0,
      "outputs": []
    },
    {
      "cell_type": "code",
      "metadata": {
        "id": "xIiqC74ja9_k",
        "colab_type": "code",
        "outputId": "29284621-cdfa-4955-81a9-a59bb82a8713",
        "colab": {
          "base_uri": "https://localhost:8080/",
          "height": 1000
        }
      },
      "source": [
        "!zip -r ./output_custom.zip ./output_test"
      ],
      "execution_count": 0,
      "outputs": [
        {
          "output_type": "stream",
          "text": [
            "  adding: output_test/ (stored 0%)\n",
            "  adding: output_test/x83.png (deflated 0%)\n",
            "  adding: output_test/gt16.png (deflated 8%)\n",
            "  adding: output_test/x101.png (deflated 0%)\n",
            "  adding: output_test/gt22.png (deflated 8%)\n",
            "  adding: output_test/x17.png (deflated 0%)\n",
            "  adding: output_test/y58.png (deflated 0%)\n",
            "  adding: output_test/gt27.png (deflated 10%)\n",
            "  adding: output_test/y110.png (deflated 0%)\n",
            "  adding: output_test/x113.png (deflated 0%)\n",
            "  adding: output_test/y44.png (stored 0%)\n",
            "  adding: output_test/x92.png (deflated 0%)\n",
            "  adding: output_test/gt78.png (deflated 21%)\n",
            "  adding: output_test/y75.png (stored 0%)\n",
            "  adding: output_test/x0.png (deflated 0%)\n",
            "  adding: output_test/gt93.png (deflated 2%)\n",
            "  adding: output_test/x90.png (deflated 0%)\n",
            "  adding: output_test/x107.png (deflated 0%)\n",
            "  adding: output_test/x6.png (deflated 0%)\n",
            "  adding: output_test/x69.png (deflated 0%)\n",
            "  adding: output_test/gt98.png (deflated 4%)\n",
            "  adding: output_test/gt73.png (deflated 4%)\n",
            "  adding: output_test/gt10.png (deflated 13%)\n",
            "  adding: output_test/y79.png (stored 0%)\n",
            "  adding: output_test/x96.png (deflated 0%)\n",
            "  adding: output_test/y102.png (stored 0%)\n",
            "  adding: output_test/x63.png (deflated 0%)\n",
            "  adding: output_test/y105.png (stored 0%)\n",
            "  adding: output_test/gt96.png (deflated 10%)\n",
            "  adding: output_test/y80.png (deflated 0%)\n",
            "  adding: output_test/x50.png (deflated 0%)\n",
            "  adding: output_test/x110.png (deflated 0%)\n",
            "  adding: output_test/gt60.png (deflated 0%)\n",
            "  adding: output_test/gt12.png (deflated 8%)\n",
            "  adding: output_test/gt91.png (deflated 12%)\n",
            "  adding: output_test/y66.png (deflated 0%)\n",
            "  adding: output_test/y36.png (stored 0%)\n",
            "  adding: output_test/x70.png (deflated 0%)\n",
            "  adding: output_test/y55.png (stored 0%)\n",
            "  adding: output_test/y111.png (deflated 0%)\n",
            "  adding: output_test/gt82.png (deflated 13%)\n",
            "  adding: output_test/x82.png (deflated 0%)\n",
            "  adding: output_test/x67.png (deflated 0%)\n",
            "  adding: output_test/x55.png (deflated 0%)\n",
            "  adding: output_test/gt108.png (deflated 3%)\n",
            "  adding: output_test/gt84.png (deflated 7%)\n",
            "  adding: output_test/x44.png (deflated 0%)\n",
            "  adding: output_test/gt111.png (deflated 7%)\n",
            "  adding: output_test/x64.png (deflated 0%)\n",
            "  adding: output_test/y83.png (stored 0%)\n",
            "  adding: output_test/gt21.png (deflated 5%)\n",
            "  adding: output_test/x59.png (deflated 0%)\n",
            "  adding: output_test/y97.png (stored 0%)\n",
            "  adding: output_test/y47.png (deflated 0%)\n",
            "  adding: output_test/__init__.py (stored 0%)\n",
            "  adding: output_test/gt6.png (deflated 8%)\n",
            "  adding: output_test/y42.png (deflated 0%)\n",
            "  adding: output_test/gt24.png (deflated 7%)\n",
            "  adding: output_test/x93.png (deflated 0%)\n",
            "  adding: output_test/x85.png (deflated 0%)\n",
            "  adding: output_test/y52.png (deflated 0%)\n",
            "  adding: output_test/x8.png (deflated 0%)\n",
            "  adding: output_test/gt25.png (deflated 11%)\n",
            "  adding: output_test/y101.png (deflated 0%)\n",
            "  adding: output_test/y64.png (deflated 1%)\n",
            "  adding: output_test/gt39.png (deflated 10%)\n",
            "  adding: output_test/x81.png (deflated 0%)\n",
            "  adding: output_test/gt95.png (deflated 16%)\n",
            "  adding: output_test/gt70.png (deflated 11%)\n",
            "  adding: output_test/y72.png (stored 0%)\n",
            "  adding: output_test/gt83.png (deflated 9%)\n",
            "  adding: output_test/x100.png (deflated 0%)\n",
            "  adding: output_test/gt8.png (deflated 6%)\n",
            "  adding: output_test/x4.png (deflated 0%)\n",
            "  adding: output_test/gt4.png (deflated 9%)\n",
            "  adding: output_test/y95.png (deflated 0%)\n",
            "  adding: output_test/gt68.png (deflated 12%)\n",
            "  adding: output_test/y86.png (deflated 0%)\n",
            "  adding: output_test/x65.png (deflated 0%)\n",
            "  adding: output_test/x14.png (deflated 0%)\n",
            "  adding: output_test/x106.png (deflated 0%)\n",
            "  adding: output_test/.DS_Store (deflated 97%)\n",
            "  adding: output_test/y91.png (stored 0%)\n",
            "  adding: output_test/x79.png (deflated 0%)\n",
            "  adding: output_test/gt44.png (deflated 3%)\n",
            "  adding: output_test/x23.png (deflated 0%)\n",
            "  adding: output_test/x1.png (deflated 0%)\n",
            "  adding: output_test/gt47.png (deflated 11%)\n",
            "  adding: output_test/y39.png (stored 0%)\n",
            "  adding: output_test/gt49.png (deflated 13%)\n",
            "  adding: output_test/x29.png (deflated 0%)\n",
            "  adding: output_test/y16.png (stored 0%)\n",
            "  adding: output_test/x45.png (deflated 0%)\n",
            "  adding: output_test/gt92.png (deflated 9%)\n",
            "  adding: output_test/gt51.png (deflated 30%)\n",
            "  adding: output_test/x22.png (deflated 0%)\n",
            "  adding: output_test/x78.png (deflated 0%)\n",
            "  adding: output_test/y33.png (stored 0%)\n",
            "  adding: output_test/gt59.png (deflated 31%)\n",
            "  adding: output_test/y24.png (stored 0%)\n",
            "  adding: output_test/y89.png (stored 0%)\n",
            "  adding: output_test/y46.png (deflated 0%)\n",
            "  adding: output_test/x10.png (deflated 0%)\n",
            "  adding: output_test/gt30.png (deflated 18%)\n",
            "  adding: output_test/gt14.png (deflated 22%)\n",
            "  adding: output_test/y112.png (stored 0%)\n",
            "  adding: output_test/x72.png (deflated 0%)\n",
            "  adding: output_test/x19.png (deflated 0%)\n",
            "  adding: output_test/gt113.png (deflated 6%)\n",
            "  adding: output_test/x84.png (deflated 0%)\n",
            "  adding: output_test/gt61.png (deflated 15%)\n",
            "  adding: output_test/gt86.png (deflated 17%)\n",
            "  adding: output_test/y18.png (stored 0%)\n",
            "  adding: output_test/x58.png (deflated 0%)\n",
            "  adding: output_test/x38.png (deflated 0%)\n",
            "  adding: output_test/gt81.png (deflated 6%)\n",
            "  adding: output_test/y25.png (stored 0%)\n",
            "  adding: output_test/gt77.png (deflated 13%)\n",
            "  adding: output_test/x2.png (deflated 0%)\n",
            "  adding: output_test/y19.png (deflated 0%)\n",
            "  adding: output_test/x46.png (deflated 0%)\n",
            "  adding: output_test/gt19.png (deflated 9%)\n",
            "  adding: output_test/y8.png (stored 0%)\n",
            "  adding: output_test/y2.png (stored 0%)\n",
            "  adding: output_test/gt65.png (deflated 17%)\n",
            "  adding: output_test/y41.png (stored 0%)\n",
            "  adding: output_test/y67.png (stored 0%)\n",
            "  adding: output_test/y20.png (deflated 0%)\n",
            "  adding: output_test/gt110.png (deflated 7%)\n",
            "  adding: output_test/x21.png (deflated 0%)\n",
            "  adding: output_test/x49.png (deflated 0%)\n",
            "  adding: output_test/gt106.png (deflated 5%)\n",
            "  adding: output_test/gt103.png (deflated 5%)\n",
            "  adding: output_test/y22.png (stored 0%)\n",
            "  adding: output_test/y6.png (stored 0%)\n",
            "  adding: output_test/y11.png (stored 0%)\n",
            "  adding: output_test/gt71.png (deflated 18%)\n",
            "  adding: output_test/x5.png (deflated 0%)\n",
            "  adding: output_test/x109.png (deflated 0%)\n",
            "  adding: output_test/gt31.png (deflated 4%)\n",
            "  adding: output_test/y53.png (stored 0%)\n",
            "  adding: output_test/x77.png (deflated 0%)\n",
            "  adding: output_test/gt42.png (deflated 5%)\n",
            "  adding: output_test/x43.png (deflated 0%)\n",
            "  adding: output_test/x15.png (deflated 0%)\n",
            "  adding: output_test/gt64.png (deflated 7%)\n",
            "  adding: output_test/y68.png (stored 0%)\n",
            "  adding: output_test/x94.png (deflated 0%)\n",
            "  adding: output_test/gt45.png (deflated 2%)\n",
            "  adding: output_test/x40.png (deflated 0%)\n",
            "  adding: output_test/x28.png (deflated 0%)\n",
            "  adding: output_test/y76.png (deflated 0%)\n",
            "  adding: output_test/y104.png (deflated 0%)\n",
            "  adding: output_test/gt114.png (deflated 3%)\n",
            "  adding: output_test/y31.png (deflated 0%)\n",
            "  adding: output_test/x61.png (deflated 0%)\n",
            "  adding: output_test/x56.png (deflated 0%)\n",
            "  adding: output_test/y62.png (stored 0%)\n",
            "  adding: output_test/y100.png (stored 0%)\n",
            "  adding: output_test/y23.png (stored 0%)\n",
            "  adding: output_test/gt79.png (deflated 11%)\n",
            "  adding: output_test/y73.png (deflated 0%)\n",
            "  adding: output_test/x98.png (deflated 0%)\n",
            "  adding: output_test/y21.png (stored 0%)\n",
            "  adding: output_test/gt35.png (stored 0%)\n",
            "  adding: output_test/gt53.png (deflated 11%)\n",
            "  adding: output_test/gt29.png (deflated 6%)\n",
            "  adding: output_test/y48.png (stored 0%)\n",
            "  adding: output_test/gt80.png (deflated 19%)\n",
            "  adding: output_test/y84.png (stored 0%)\n",
            "  adding: output_test/x47.png (deflated 0%)\n",
            "  adding: output_test/y60.png (stored 0%)\n",
            "  adding: output_test/y99.png (stored 0%)\n",
            "  adding: output_test/y93.png (stored 0%)\n",
            "  adding: output_test/x76.png (deflated 0%)\n",
            "  adding: output_test/gt43.png (deflated 8%)\n",
            "  adding: output_test/x74.png (deflated 0%)\n",
            "  adding: output_test/x30.png (deflated 0%)\n",
            "  adding: output_test/y10.png (deflated 0%)\n",
            "  adding: output_test/y50.png (stored 0%)\n",
            "  adding: output_test/x18.png (deflated 0%)\n",
            "  adding: output_test/y82.png (stored 0%)\n",
            "  adding: output_test/x11.png (deflated 0%)\n",
            "  adding: output_test/x24.png (deflated 0%)\n",
            "  adding: output_test/x7.png (deflated 0%)\n",
            "  adding: output_test/y38.png (stored 0%)\n",
            "  adding: output_test/gt28.png (deflated 12%)\n",
            "  adding: output_test/y57.png (stored 0%)\n",
            "  adding: output_test/x73.png (deflated 0%)\n",
            "  adding: output_test/y81.png (stored 0%)\n",
            "  adding: output_test/x99.png (deflated 0%)\n",
            "  adding: output_test/x111.png (deflated 0%)\n",
            "  adding: output_test/gt18.png (deflated 9%)\n",
            "  adding: output_test/gt23.png (deflated 3%)\n",
            "  adding: output_test/gt54.png (deflated 10%)\n",
            "  adding: output_test/x104.png (deflated 0%)\n",
            "  adding: output_test/y109.png (stored 0%)\n",
            "  adding: output_test/x33.png (deflated 0%)\n",
            "  adding: output_test/x53.png (deflated 0%)\n",
            "  adding: output_test/x66.png (deflated 0%)\n",
            "  adding: output_test/x42.png (deflated 0%)\n",
            "  adding: output_test/y96.png (stored 0%)\n",
            "  adding: output_test/gt58.png (deflated 18%)\n",
            "  adding: output_test/y30.png (stored 0%)\n",
            "  adding: output_test/x88.png (deflated 0%)\n",
            "  adding: output_test/y5.png (stored 0%)\n",
            "  adding: output_test/gt2.png (deflated 9%)\n",
            "  adding: output_test/y65.png (stored 0%)\n",
            "  adding: output_test/gt107.png (deflated 3%)\n",
            "  adding: output_test/gt57.png (stored 0%)\n",
            "  adding: output_test/y15.png (deflated 0%)\n",
            "  adding: output_test/x80.png (deflated 0%)\n",
            "  adding: output_test/x16.png (deflated 0%)\n",
            "  adding: output_test/gt63.png (deflated 3%)\n",
            "  adding: output_test/y74.png (stored 0%)\n",
            "  adding: output_test/x12.png (deflated 0%)\n",
            "  adding: output_test/y49.png (deflated 0%)\n",
            "  adding: output_test/y59.png (deflated 0%)\n",
            "  adding: output_test/y35.png (deflated 0%)\n",
            "  adding: output_test/gt32.png (deflated 16%)\n",
            "  adding: output_test/y56.png (deflated 0%)\n",
            "  adding: output_test/y32.png (deflated 0%)\n",
            "  adding: output_test/x89.png (deflated 0%)\n",
            "  adding: output_test/y90.png (stored 0%)\n",
            "  adding: output_test/x41.png (deflated 0%)\n",
            "  adding: output_test/x102.png (deflated 0%)\n",
            "  adding: output_test/x108.png (deflated 0%)\n",
            "  adding: output_test/x105.png (deflated 0%)\n",
            "  adding: output_test/x95.png (deflated 0%)\n",
            "  adding: output_test/x97.png (deflated 0%)\n",
            "  adding: output_test/y43.png (stored 0%)\n",
            "  adding: output_test/y77.png (stored 0%)\n",
            "  adding: output_test/y34.png (deflated 0%)\n",
            "  adding: output_test/y4.png (stored 0%)\n",
            "  adding: output_test/x9.png (deflated 0%)\n",
            "  adding: output_test/gt88.png (deflated 2%)\n",
            "  adding: output_test/gt0.png (deflated 7%)\n",
            "  adding: output_test/x20.png (deflated 0%)\n",
            "  adding: output_test/x25.png (deflated 0%)\n",
            "  adding: output_test/x57.png (deflated 0%)\n",
            "  adding: output_test/gt1.png (deflated 15%)\n",
            "  adding: output_test/gt52.png (deflated 2%)\n",
            "  adding: output_test/y51.png (stored 0%)\n",
            "  adding: output_test/gt50.png (deflated 8%)\n",
            "  adding: output_test/gt5.png (deflated 12%)\n",
            "  adding: output_test/gt48.png (deflated 4%)\n",
            "  adding: output_test/y92.png (stored 0%)\n",
            "  adding: output_test/gt56.png (deflated 4%)\n",
            "  adding: output_test/gt76.png (deflated 11%)\n",
            "  adding: output_test/gt34.png (deflated 13%)\n",
            "  adding: output_test/gt37.png (deflated 12%)\n",
            "  adding: output_test/y17.png (stored 0%)\n",
            "  adding: output_test/x91.png (deflated 0%)\n",
            "  adding: output_test/gt67.png (deflated 14%)\n",
            "  adding: output_test/gt33.png (deflated 6%)\n",
            "  adding: output_test/gt102.png (deflated 7%)\n",
            "  adding: output_test/y12.png (deflated 0%)\n",
            "  adding: output_test/y103.png (stored 0%)\n",
            "  adding: output_test/x52.png (deflated 0%)\n",
            "  adding: output_test/gt15.png (deflated 6%)\n",
            "  adding: output_test/gt99.png (deflated 4%)\n",
            "  adding: output_test/y9.png (stored 0%)\n",
            "  adding: output_test/y1.png (stored 0%)\n",
            "  adding: output_test/y85.png (stored 0%)\n",
            "  adding: output_test/y54.png (stored 0%)\n",
            "  adding: output_test/y45.png (stored 0%)\n",
            "  adding: output_test/y61.png (deflated 0%)\n",
            "  adding: output_test/gt38.png (deflated 11%)\n",
            "  adding: output_test/x54.png (deflated 0%)\n",
            "  adding: output_test/x3.png (deflated 0%)\n",
            "  adding: output_test/y26.png (stored 0%)\n",
            "  adding: output_test/y71.png (stored 0%)\n",
            "  adding: output_test/gt100.png (deflated 19%)\n",
            "  adding: output_test/x37.png (deflated 0%)\n",
            "  adding: output_test/y87.png (stored 0%)\n",
            "  adding: output_test/x32.png (deflated 0%)\n",
            "  adding: output_test/gt41.png (deflated 4%)\n",
            "  adding: output_test/gt90.png (deflated 13%)\n",
            "  adding: output_test/gt9.png (deflated 4%)\n",
            "  adding: output_test/gt40.png (deflated 6%)\n",
            "  adding: output_test/y114.png (stored 0%)\n",
            "  adding: output_test/x13.png (deflated 0%)\n",
            "  adding: output_test/y7.png (stored 0%)\n",
            "  adding: output_test/y70.png (deflated 0%)\n",
            "  adding: output_test/gt62.png (deflated 13%)\n",
            "  adding: output_test/gt89.png (deflated 11%)\n",
            "  adding: output_test/gt105.png (deflated 4%)\n",
            "  adding: output_test/gt112.png (deflated 10%)\n",
            "  adding: output_test/gt17.png (deflated 6%)\n",
            "  adding: output_test/gt66.png (deflated 33%)\n",
            "  adding: output_test/gt74.png (deflated 10%)\n",
            "  adding: output_test/gt20.png (deflated 6%)\n",
            "  adding: output_test/y0.png (stored 0%)\n",
            "  adding: output_test/x114.png (deflated 0%)\n",
            "  adding: output_test/y27.png (stored 0%)\n",
            "  adding: output_test/y37.png (stored 0%)\n",
            "  adding: output_test/gt85.png (deflated 5%)\n",
            "  adding: output_test/x112.png (deflated 0%)\n",
            "  adding: output_test/gt109.png (deflated 8%)\n",
            "  adding: output_test/gt11.png (deflated 7%)\n",
            "  adding: output_test/x71.png (deflated 0%)\n",
            "  adding: output_test/gt87.png (deflated 10%)\n",
            "  adding: output_test/x48.png (deflated 0%)\n",
            "  adding: output_test/gt72.png (deflated 18%)\n",
            "  adding: output_test/y40.png (stored 0%)\n",
            "  adding: output_test/x34.png (deflated 0%)\n",
            "  adding: output_test/x27.png (deflated 0%)\n",
            "  adding: output_test/y108.png (stored 0%)\n",
            "  adding: output_test/x75.png (deflated 0%)\n",
            "  adding: output_test/y63.png (deflated 0%)\n",
            "  adding: output_test/x60.png (deflated 0%)\n",
            "  adding: output_test/gt94.png (deflated 4%)\n",
            "  adding: output_test/y14.png (stored 0%)\n",
            "  adding: output_test/gt69.png (deflated 10%)\n",
            "  adding: output_test/gt104.png (deflated 11%)\n",
            "  adding: output_test/y13.png (stored 0%)\n",
            "  adding: output_test/gt36.png (deflated 10%)\n",
            "  adding: output_test/y113.png (stored 0%)\n",
            "  adding: output_test/x68.png (deflated 0%)\n",
            "  adding: output_test/y88.png (deflated 0%)\n",
            "  adding: output_test/gt7.png (deflated 19%)\n",
            "  adding: output_test/x86.png (deflated 0%)\n",
            "  adding: output_test/gt101.png (deflated 12%)\n",
            "  adding: output_test/y94.png (stored 0%)\n",
            "  adding: output_test/gt55.png (deflated 7%)\n",
            "  adding: output_test/x51.png (deflated 0%)\n",
            "  adding: output_test/y29.png (stored 0%)\n",
            "  adding: output_test/x103.png (deflated 0%)\n",
            "  adding: output_test/y28.png (deflated 0%)\n",
            "  adding: output_test/gt13.png (deflated 5%)\n",
            "  adding: output_test/gt97.png (deflated 9%)\n",
            "  adding: output_test/x26.png (deflated 0%)\n",
            "  adding: output_test/y107.png (deflated 0%)\n",
            "  adding: output_test/x62.png (deflated 0%)\n",
            "  adding: output_test/x87.png (deflated 0%)\n",
            "  adding: output_test/y69.png (deflated 0%)\n",
            "  adding: output_test/y106.png (stored 0%)\n",
            "  adding: output_test/x39.png (deflated 0%)\n",
            "  adding: output_test/gt3.png (deflated 23%)\n",
            "  adding: output_test/y98.png (stored 0%)\n",
            "  adding: output_test/gt26.png (deflated 22%)\n",
            "  adding: output_test/y78.png (stored 0%)\n",
            "  adding: output_test/x36.png (deflated 0%)\n",
            "  adding: output_test/y3.png (deflated 0%)\n",
            "  adding: output_test/gt46.png (deflated 1%)\n",
            "  adding: output_test/gt75.png (deflated 3%)\n",
            "  adding: output_test/x31.png (deflated 0%)\n",
            "  adding: output_test/x35.png (deflated 0%)\n"
          ],
          "name": "stdout"
        }
      ]
    },
    {
      "cell_type": "code",
      "metadata": {
        "id": "72NwUX-jbS1i",
        "colab_type": "code",
        "colab": {}
      },
      "source": [
        "files.download(\"./output_custom.zip\")"
      ],
      "execution_count": 0,
      "outputs": []
    },
    {
      "cell_type": "code",
      "metadata": {
        "id": "olvGY3cHbIKt",
        "colab_type": "code",
        "outputId": "afe115ae-fe96-4284-9b3d-1e016810e7ba",
        "colab": {
          "base_uri": "https://localhost:8080/",
          "height": 34
        }
      },
      "source": [
        "device = torch.device(\"cuda:0\" if torch.cuda.is_available() else \"cpu\")\n",
        "net = Net().to(device)\n",
        "net.load_state_dict(torch.load(\"/content/models/model_starter_net.pth\"))"
      ],
      "execution_count": 0,
      "outputs": [
        {
          "output_type": "execute_result",
          "data": {
            "text/plain": [
              "<All keys matched successfully>"
            ]
          },
          "metadata": {
            "tags": []
          },
          "execution_count": 28
        }
      ]
    },
    {
      "cell_type": "code",
      "metadata": {
        "id": "tvnzh-H-wRWM",
        "colab_type": "code",
        "colab": {}
      },
      "source": [
        "from PIL import Image\n",
        "im = Image.open(\"./building.jpg\").convert('RGB')\n",
        "img = plt.imread(\"./building.jpg\")"
      ],
      "execution_count": 0,
      "outputs": []
    },
    {
      "cell_type": "code",
      "metadata": {
        "id": "G6ALqNgTwh7J",
        "colab_type": "code",
        "outputId": "b80bb48d-4bbb-4210-f1e5-a9f3d4c3a3ab",
        "colab": {
          "base_uri": "https://localhost:8080/",
          "height": 285
        }
      },
      "source": [
        "plt.imshow(im)"
      ],
      "execution_count": 0,
      "outputs": [
        {
          "output_type": "execute_result",
          "data": {
            "text/plain": [
              "<matplotlib.image.AxesImage at 0x7f635ae74c50>"
            ]
          },
          "metadata": {
            "tags": []
          },
          "execution_count": 53
        },
        {
          "output_type": "display_data",
          "data": {
            "image/png": "[encoded data removed]",
            "text/plain": [
              "<Figure size 432x288 with 1 Axes>"
            ]
          },
          "metadata": {
            "tags": []
          }
        }
      ]
    },
    {
      "cell_type": "code",
      "metadata": {
        "id": "prCq1pHNwlxe",
        "colab_type": "code",
        "outputId": "94caf163-0acc-4f8c-e58d-60fdd1440d3f",
        "colab": {
          "base_uri": "https://localhost:8080/",
          "height": 50
        }
      },
      "source": [
        "transform = transforms.Compose(\n",
        "                   [transforms.Resize((256,256)),\n",
        "                    transforms.ToTensor(),\n",
        "                    transforms.Normalize((0.5, 0.5, 0.5), (0.5, 0.5, 0.5))])\n",
        "\n",
        "print(transform(im).size())\n",
        "my_loader = DataLoader(transform(im), batch_size=1)\n",
        "my_loader"
      ],
      "execution_count": 0,
      "outputs": [
        {
          "output_type": "stream",
          "text": [
            "torch.Size([3, 256, 256])\n"
          ],
          "name": "stdout"
        },
        {
          "output_type": "execute_result",
          "data": {
            "text/plain": [
              "<torch.utils.data.dataloader.DataLoader at 0x7f635b0239e8>"
            ]
          },
          "metadata": {
            "tags": []
          },
          "execution_count": 57
        }
      ]
    },
    {
      "cell_type": "code",
      "metadata": {
        "id": "FEL1FMCo0uBT",
        "colab_type": "code",
        "outputId": "803b7a1d-0698-4cfc-914c-4bbd2b081044",
        "colab": {
          "base_uri": "https://localhost:8080/",
          "height": 264
        }
      },
      "source": [
        "result = []\n",
        "cnt = 1\n",
        "with torch.no_grad():\n",
        "    net = net.eval()\n",
        "    cnt = 0\n",
        "    for images in tqdm(my_loader):\n",
        "        images = images.to(device)\n",
        "        labels = labels.to(device)\n",
        "        output = net(im)[0].cpu().numpy()\n",
        "        # c, h, w = output.shape\n",
        "        # assert(c == N_CLASS)\n",
        "        # y = np.zeros((h,w)).astype('uint8')\n",
        "        # for i in range(N_CLASS):\n",
        "        #     mask = output[i]>0.5\n",
        "        #     y[mask] = i\n",
        "        # #gt = labels.cpu().data.numpy().squeeze(0).astype('uint8')\n",
        "        # save_label(y, './{}/y{}.png'.format(folder, \"mine\"))\n",
        "        # #save_label(gt, './{}/gt{}.png'.format(folder, cnt))\n",
        "        # plt.imsave(\n",
        "        #     './{}/x{}.png'.format(folder, \"mine\"),\n",
        "        #     ((images[0].cpu().data.numpy()+1)*128).astype(np.uint8).transpose(1,2,0))\n",
        "\n",
        "        # cnt += 1"
      ],
      "execution_count": 0,
      "outputs": [
        {
          "output_type": "stream",
          "text": [
            "\r  0%|          | 0/3 [00:00<?, ?it/s]"
          ],
          "name": "stderr"
        },
        {
          "output_type": "stream",
          "text": [
            "torch.Size([1, 256, 256])\n"
          ],
          "name": "stdout"
        },
        {
          "output_type": "stream",
          "text": [
            "\r  0%|          | 0/3 [00:00<?, ?it/s]\n"
          ],
          "name": "stderr"
        },
        {
          "output_type": "error",
          "ename": "AttributeError",
          "evalue": "ignored",
          "traceback": [
            "\u001b[0;31m---------------------------------------------------------------------------\u001b[0m",
            "\u001b[0;31mAttributeError\u001b[0m                            Traceback (most recent call last)",
            "\u001b[0;32m<ipython-input-60-2def2d65d40b>\u001b[0m in \u001b[0;36m<module>\u001b[0;34m()\u001b[0m\n\u001b[1;32m      8\u001b[0m         \u001b[0;31m#labels = labels.to(device)\u001b[0m\u001b[0;34m\u001b[0m\u001b[0;34m\u001b[0m\u001b[0;34m\u001b[0m\u001b[0m\n\u001b[1;32m      9\u001b[0m         \u001b[0mprint\u001b[0m\u001b[0;34m(\u001b[0m\u001b[0mimages\u001b[0m\u001b[0;34m.\u001b[0m\u001b[0mshape\u001b[0m\u001b[0;34m)\u001b[0m\u001b[0;34m\u001b[0m\u001b[0;34m\u001b[0m\u001b[0m\n\u001b[0;32m---> 10\u001b[0;31m         \u001b[0moutput\u001b[0m \u001b[0;34m=\u001b[0m \u001b[0mnet\u001b[0m\u001b[0;34m(\u001b[0m\u001b[0mim\u001b[0m\u001b[0;34m.\u001b[0m\u001b[0mupsqueeze\u001b[0m\u001b[0;34m(\u001b[0m\u001b[0;36m0\u001b[0m\u001b[0;34m)\u001b[0m\u001b[0;34m)\u001b[0m\u001b[0;34m[\u001b[0m\u001b[0;36m0\u001b[0m\u001b[0;34m]\u001b[0m\u001b[0;34m.\u001b[0m\u001b[0mcpu\u001b[0m\u001b[0;34m(\u001b[0m\u001b[0;34m)\u001b[0m\u001b[0;34m.\u001b[0m\u001b[0mnumpy\u001b[0m\u001b[0;34m(\u001b[0m\u001b[0;34m)\u001b[0m\u001b[0;34m\u001b[0m\u001b[0;34m\u001b[0m\u001b[0m\n\u001b[0m\u001b[1;32m     11\u001b[0m         \u001b[0;31m# c, h, w = output.shape\u001b[0m\u001b[0;34m\u001b[0m\u001b[0;34m\u001b[0m\u001b[0;34m\u001b[0m\u001b[0m\n\u001b[1;32m     12\u001b[0m         \u001b[0;31m# assert(c == N_CLASS)\u001b[0m\u001b[0;34m\u001b[0m\u001b[0;34m\u001b[0m\u001b[0;34m\u001b[0m\u001b[0m\n",
            "\u001b[0;31mAttributeError\u001b[0m: 'Image' object has no attribute 'upsqueeze'"
          ]
        }
      ]
    },
    {
      "cell_type": "code",
      "metadata": {
        "id": "2vNuLes8xHs2",
        "colab_type": "code",
        "outputId": "c1b4a0c1-7388-4252-8087-eeaa243f5e98",
        "colab": {
          "base_uri": "https://localhost:8080/",
          "height": 101
        }
      },
      "source": [
        "n_test_samples = 115\n",
        "test_sampler = SubsetRandomSampler(np.arange(n_test_samples, dtype=np.int64))\n",
        "test_data = FacadeDataset(flag='test_dev', data_range=(0,115), onehot=False)\n",
        "test_loader = DataLoader(test_data, sampler=test_sampler, num_workers=2, batch_size=1)\n",
        "device = torch.device(\"cuda:0\" if torch.cuda.is_available() else \"cpu\")\n",
        "net = Net().to(device)\n",
        "net.load_state_dict(torch.load(\"/content/models/model_starter_net.pth\"))\n",
        "get_result(test_loader, net, device, folder='output_test')"
      ],
      "execution_count": 0,
      "outputs": [
        {
          "output_type": "stream",
          "text": [
            "load test_dev dataset start\n",
            "    from: ./starter_set\n",
            "    range: [0, 115)\n",
            "load dataset done\n"
          ],
          "name": "stdout"
        },
        {
          "output_type": "stream",
          "text": [
            "100%|██████████| 115/115 [00:09<00:00, 12.74it/s]\n"
          ],
          "name": "stderr"
        }
      ]
    },
    {
      "cell_type": "code",
      "metadata": {
        "id": "-HUAg1nl8Gn8",
        "colab_type": "code",
        "colab": {}
      },
      "source": [
        ""
      ],
      "execution_count": 0,
      "outputs": []
    }
  ]
}